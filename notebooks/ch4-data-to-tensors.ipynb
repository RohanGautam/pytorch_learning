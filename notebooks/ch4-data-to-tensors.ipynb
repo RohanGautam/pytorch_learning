{
 "metadata": {
  "language_info": {
   "codemirror_mode": {
    "name": "ipython",
    "version": 3
   },
   "file_extension": ".py",
   "mimetype": "text/x-python",
   "name": "python",
   "nbconvert_exporter": "python",
   "pygments_lexer": "ipython3",
   "version": "3.7.10"
  },
  "orig_nbformat": 2,
  "kernelspec": {
   "name": "python3710jvsc74a57bd047d517df254fbe59b5c04b69f23871c524fea7fc7dc51e349dcd158d9476f98d",
   "display_name": "Python 3.7.10 64-bit ('pytorch_latest_p37': conda)"
  }
 },
 "nbformat": 4,
 "nbformat_minor": 2,
 "cells": [
  {
   "cell_type": "code",
   "execution_count": 10,
   "metadata": {},
   "outputs": [],
   "source": [
    "import imageio\n",
    "import torch"
   ]
  },
  {
   "source": [
    "## for one image"
   ],
   "cell_type": "markdown",
   "metadata": {}
  },
  {
   "cell_type": "code",
   "execution_count": 9,
   "metadata": {},
   "outputs": [
    {
     "output_type": "stream",
     "name": "stdout",
     "text": [
      "<class 'imageio.core.util.Array'>\n(1003, 1999, 3)\n"
     ]
    }
   ],
   "source": [
    "img_arr = imageio.imread(\"../data/dog.jpg\")\n",
    "print(type(img_arr)) # numpy-like array object\n",
    "print(img_arr.shape) # height, width, channels"
   ]
  },
  {
   "cell_type": "code",
   "execution_count": 14,
   "metadata": {},
   "outputs": [
    {
     "output_type": "stream",
     "name": "stdout",
     "text": [
      "torch.Size([1003, 1999, 3])\ntorch.Size([3, 1003, 1999])\n"
     ]
    }
   ],
   "source": [
    "# torch expects it in the form : channel, height, width\n",
    "img = torch.from_numpy(img_arr)\n",
    "print(img.shape)\n",
    "out = img.permute(2,0,1)\n",
    "print(out.shape)"
   ]
  },
  {
   "source": [
    "## for multiple images"
   ],
   "cell_type": "markdown",
   "metadata": {}
  },
  {
   "cell_type": "code",
   "execution_count": null,
   "metadata": {},
   "outputs": [],
   "source": []
  },
  {
   "cell_type": "code",
   "execution_count": null,
   "metadata": {},
   "outputs": [],
   "source": []
  }
 ]
}