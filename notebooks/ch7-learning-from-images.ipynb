{
 "metadata": {
  "language_info": {
   "codemirror_mode": {
    "name": "ipython",
    "version": 3
   },
   "file_extension": ".py",
   "mimetype": "text/x-python",
   "name": "python",
   "nbconvert_exporter": "python",
   "pygments_lexer": "ipython3",
   "version": "3.7.10"
  },
  "orig_nbformat": 2,
  "kernelspec": {
   "name": "python3710jvsc74a57bd0b3e614b3786c960a93b9d5d36e7aaa38532a0ca506246ed178fb5ba00ff82899",
   "display_name": "Python 3.7.10 64-bit ('ml_learning': conda)"
  }
 },
 "nbformat": 4,
 "nbformat_minor": 2,
 "cells": [
  {
   "source": [
    "We'll be looking at CIFAR-10 : it has 10 classes - (0), automobile (1), bird (2), cat (3),deer (4), dog (5), frog (6), horse (7), ship (8), and truck (9)."
   ],
   "cell_type": "markdown",
   "metadata": {}
  },
  {
   "cell_type": "code",
   "execution_count": 35,
   "metadata": {},
   "outputs": [],
   "source": [
    "import torch\n",
    "import torch.nn as nn\n",
    "from torchvision import datasets\n",
    "from torchvision import transforms\n",
    "import matplotlib.pyplot as plt"
   ]
  },
  {
   "source": [
    "## dataset loading and prep"
   ],
   "cell_type": "markdown",
   "metadata": {}
  },
  {
   "cell_type": "code",
   "execution_count": 2,
   "metadata": {},
   "outputs": [
    {
     "output_type": "stream",
     "name": "stdout",
     "text": [
      "Downloading https://www.cs.toronto.edu/~kriz/cifar-10-python.tar.gz to ../data_unversioned/p1ch7/cifar-10-python.tar.gz\n",
      "100.0%\n",
      "Extracting ../data_unversioned/p1ch7/cifar-10-python.tar.gz to ../data_unversioned/p1ch7/\n",
      "Files already downloaded and verified\n"
     ]
    }
   ],
   "source": [
    "\n",
    "data_path = \"../data_unversioned/p1ch7/\"\n",
    "cifar10 = datasets.CIFAR10(data_path, train=True, download=True)\n",
    "cifar10_val = datasets.CIFAR10(data_path, train=False, download=True)"
   ]
  },
  {
   "source": [
    "A pytorch `Dataset` doesn't have to hold the data, but performs uniform access to it, by ensuring it's subclasses implement `__len__` (for `len(dataset)`) and `__getitem__` (for indexing, like `dataset[3]`).\n",
    "\n",
    "It also can take in one or more `Transform`s, that will be applied before returning the item via `__getitem___`"
   ],
   "cell_type": "markdown",
   "metadata": {}
  },
  {
   "cell_type": "code",
   "execution_count": 3,
   "metadata": {},
   "outputs": [
    {
     "output_type": "execute_result",
     "data": {
      "text/plain": [
       "Dataset CIFAR10\n",
       "    Number of datapoints: 50000\n",
       "    Root location: ../data_unversioned/p1ch7/\n",
       "    Split: Train"
      ]
     },
     "metadata": {},
     "execution_count": 3
    }
   ],
   "source": [
    "cifar10"
   ]
  },
  {
   "cell_type": "code",
   "execution_count": 4,
   "metadata": {},
   "outputs": [
    {
     "output_type": "execute_result",
     "data": {
      "text/plain": [
       "Dataset CIFAR10\n",
       "    Number of datapoints: 10000\n",
       "    Root location: ../data_unversioned/p1ch7/\n",
       "    Split: Test"
      ]
     },
     "metadata": {},
     "execution_count": 4
    }
   ],
   "source": [
    "cifar10_val"
   ]
  },
  {
   "cell_type": "code",
   "execution_count": 6,
   "metadata": {},
   "outputs": [
    {
     "output_type": "execute_result",
     "data": {
      "text/plain": [
       "<matplotlib.image.AxesImage at 0x7f0c7a953c90>"
      ]
     },
     "metadata": {},
     "execution_count": 6
    },
    {
     "output_type": "display_data",
     "data": {
      "text/plain": "<Figure size 432x288 with 1 Axes>",
      "image/svg+xml": "<?xml version=\"1.0\" encoding=\"utf-8\" standalone=\"no\"?>\n<!DOCTYPE svg PUBLIC \"-//W3C//DTD SVG 1.1//EN\"\n  \"http://www.w3.org/Graphics/SVG/1.1/DTD/svg11.dtd\">\n<svg height=\"248.919844pt\" version=\"1.1\" viewBox=\"0 0 251.565 248.919844\" width=\"251.565pt\" xmlns=\"http://www.w3.org/2000/svg\" xmlns:xlink=\"http://www.w3.org/1999/xlink\">\n <metadata>\n  <rdf:RDF xmlns:cc=\"http://creativecommons.org/ns#\" xmlns:dc=\"http://purl.org/dc/elements/1.1/\" xmlns:rdf=\"http://www.w3.org/1999/02/22-rdf-syntax-ns#\">\n   <cc:Work>\n    <dc:type rdf:resource=\"http://purl.org/dc/dcmitype/StillImage\"/>\n    <dc:date>2021-06-10T10:46:44.243218</dc:date>\n    <dc:format>image/svg+xml</dc:format>\n    <dc:creator>\n     <cc:Agent>\n      <dc:title>Matplotlib v3.4.2, https://matplotlib.org/</dc:title>\n     </cc:Agent>\n    </dc:creator>\n   </cc:Work>\n  </rdf:RDF>\n </metadata>\n <defs>\n  <style type=\"text/css\">*{stroke-linecap:butt;stroke-linejoin:round;}</style>\n </defs>\n <g id=\"figure_1\">\n  <g id=\"patch_1\">\n   <path d=\"M 0 248.919844 \nL 251.565 248.919844 \nL 251.565 0 \nL 0 0 \nz\n\" style=\"fill:none;\"/>\n  </g>\n  <g id=\"axes_1\">\n   <g id=\"patch_2\">\n    <path d=\"M 26.925 225.041719 \nL 244.365 225.041719 \nL 244.365 7.601719 \nL 26.925 7.601719 \nz\n\" style=\"fill:#ffffff;\"/>\n   </g>\n   <g clip-path=\"url(#pf0370fc5cd)\">\n    <image height=\"218\" id=\"image685ddfa10b\" transform=\"scale(1 -1)translate(0 -218)\" width=\"218\" x=\"26.925\" xlink:href=\"data:image/png;base64,\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\" y=\"-7.041719\"/>\n   </g>\n   <g id=\"matplotlib.axis_1\">\n    <g id=\"xtick_1\">\n     <g id=\"line2d_1\">\n      <defs>\n       <path d=\"M 0 0 \nL 0 3.5 \n\" id=\"m559a7f0e27\" style=\"stroke:#000000;stroke-width:0.8;\"/>\n      </defs>\n      <g>\n       <use style=\"stroke:#000000;stroke-width:0.8;\" x=\"30.3225\" xlink:href=\"#m559a7f0e27\" y=\"225.041719\"/>\n      </g>\n     </g>\n     <g id=\"text_1\">\n      <!-- 0 -->\n      <g transform=\"translate(27.14125 239.640156)scale(0.1 -0.1)\">\n       <defs>\n        <path d=\"M 2034 4250 \nQ 1547 4250 1301 3770 \nQ 1056 3291 1056 2328 \nQ 1056 1369 1301 889 \nQ 1547 409 2034 409 \nQ 2525 409 2770 889 \nQ 3016 1369 3016 2328 \nQ 3016 3291 2770 3770 \nQ 2525 4250 2034 4250 \nz\nM 2034 4750 \nQ 2819 4750 3233 4129 \nQ 3647 3509 3647 2328 \nQ 3647 1150 3233 529 \nQ 2819 -91 2034 -91 \nQ 1250 -91 836 529 \nQ 422 1150 422 2328 \nQ 422 3509 836 4129 \nQ 1250 4750 2034 4750 \nz\n\" id=\"DejaVuSans-30\" transform=\"scale(0.015625)\"/>\n       </defs>\n       <use xlink:href=\"#DejaVuSans-30\"/>\n      </g>\n     </g>\n    </g>\n    <g id=\"xtick_2\">\n     <g id=\"line2d_2\">\n      <g>\n       <use style=\"stroke:#000000;stroke-width:0.8;\" x=\"64.2975\" xlink:href=\"#m559a7f0e27\" y=\"225.041719\"/>\n      </g>\n     </g>\n     <g id=\"text_2\">\n      <!-- 5 -->\n      <g transform=\"translate(61.11625 239.640156)scale(0.1 -0.1)\">\n       <defs>\n        <path d=\"M 691 4666 \nL 3169 4666 \nL 3169 4134 \nL 1269 4134 \nL 1269 2991 \nQ 1406 3038 1543 3061 \nQ 1681 3084 1819 3084 \nQ 2600 3084 3056 2656 \nQ 3513 2228 3513 1497 \nQ 3513 744 3044 326 \nQ 2575 -91 1722 -91 \nQ 1428 -91 1123 -41 \nQ 819 9 494 109 \nL 494 744 \nQ 775 591 1075 516 \nQ 1375 441 1709 441 \nQ 2250 441 2565 725 \nQ 2881 1009 2881 1497 \nQ 2881 1984 2565 2268 \nQ 2250 2553 1709 2553 \nQ 1456 2553 1204 2497 \nQ 953 2441 691 2322 \nL 691 4666 \nz\n\" id=\"DejaVuSans-35\" transform=\"scale(0.015625)\"/>\n       </defs>\n       <use xlink:href=\"#DejaVuSans-35\"/>\n      </g>\n     </g>\n    </g>\n    <g id=\"xtick_3\">\n     <g id=\"line2d_3\">\n      <g>\n       <use style=\"stroke:#000000;stroke-width:0.8;\" x=\"98.2725\" xlink:href=\"#m559a7f0e27\" y=\"225.041719\"/>\n      </g>\n     </g>\n     <g id=\"text_3\">\n      <!-- 10 -->\n      <g transform=\"translate(91.91 239.640156)scale(0.1 -0.1)\">\n       <defs>\n        <path d=\"M 794 531 \nL 1825 531 \nL 1825 4091 \nL 703 3866 \nL 703 4441 \nL 1819 4666 \nL 2450 4666 \nL 2450 531 \nL 3481 531 \nL 3481 0 \nL 794 0 \nL 794 531 \nz\n\" id=\"DejaVuSans-31\" transform=\"scale(0.015625)\"/>\n       </defs>\n       <use xlink:href=\"#DejaVuSans-31\"/>\n       <use x=\"63.623047\" xlink:href=\"#DejaVuSans-30\"/>\n      </g>\n     </g>\n    </g>\n    <g id=\"xtick_4\">\n     <g id=\"line2d_4\">\n      <g>\n       <use style=\"stroke:#000000;stroke-width:0.8;\" x=\"132.2475\" xlink:href=\"#m559a7f0e27\" y=\"225.041719\"/>\n      </g>\n     </g>\n     <g id=\"text_4\">\n      <!-- 15 -->\n      <g transform=\"translate(125.885 239.640156)scale(0.1 -0.1)\">\n       <use xlink:href=\"#DejaVuSans-31\"/>\n       <use x=\"63.623047\" xlink:href=\"#DejaVuSans-35\"/>\n      </g>\n     </g>\n    </g>\n    <g id=\"xtick_5\">\n     <g id=\"line2d_5\">\n      <g>\n       <use style=\"stroke:#000000;stroke-width:0.8;\" x=\"166.2225\" xlink:href=\"#m559a7f0e27\" y=\"225.041719\"/>\n      </g>\n     </g>\n     <g id=\"text_5\">\n      <!-- 20 -->\n      <g transform=\"translate(159.86 239.640156)scale(0.1 -0.1)\">\n       <defs>\n        <path d=\"M 1228 531 \nL 3431 531 \nL 3431 0 \nL 469 0 \nL 469 531 \nQ 828 903 1448 1529 \nQ 2069 2156 2228 2338 \nQ 2531 2678 2651 2914 \nQ 2772 3150 2772 3378 \nQ 2772 3750 2511 3984 \nQ 2250 4219 1831 4219 \nQ 1534 4219 1204 4116 \nQ 875 4013 500 3803 \nL 500 4441 \nQ 881 4594 1212 4672 \nQ 1544 4750 1819 4750 \nQ 2544 4750 2975 4387 \nQ 3406 4025 3406 3419 \nQ 3406 3131 3298 2873 \nQ 3191 2616 2906 2266 \nQ 2828 2175 2409 1742 \nQ 1991 1309 1228 531 \nz\n\" id=\"DejaVuSans-32\" transform=\"scale(0.015625)\"/>\n       </defs>\n       <use xlink:href=\"#DejaVuSans-32\"/>\n       <use x=\"63.623047\" xlink:href=\"#DejaVuSans-30\"/>\n      </g>\n     </g>\n    </g>\n    <g id=\"xtick_6\">\n     <g id=\"line2d_6\">\n      <g>\n       <use style=\"stroke:#000000;stroke-width:0.8;\" x=\"200.1975\" xlink:href=\"#m559a7f0e27\" y=\"225.041719\"/>\n      </g>\n     </g>\n     <g id=\"text_6\">\n      <!-- 25 -->\n      <g transform=\"translate(193.835 239.640156)scale(0.1 -0.1)\">\n       <use xlink:href=\"#DejaVuSans-32\"/>\n       <use x=\"63.623047\" xlink:href=\"#DejaVuSans-35\"/>\n      </g>\n     </g>\n    </g>\n    <g id=\"xtick_7\">\n     <g id=\"line2d_7\">\n      <g>\n       <use style=\"stroke:#000000;stroke-width:0.8;\" x=\"234.1725\" xlink:href=\"#m559a7f0e27\" y=\"225.041719\"/>\n      </g>\n     </g>\n     <g id=\"text_7\">\n      <!-- 30 -->\n      <g transform=\"translate(227.81 239.640156)scale(0.1 -0.1)\">\n       <defs>\n        <path d=\"M 2597 2516 \nQ 3050 2419 3304 2112 \nQ 3559 1806 3559 1356 \nQ 3559 666 3084 287 \nQ 2609 -91 1734 -91 \nQ 1441 -91 1130 -33 \nQ 819 25 488 141 \nL 488 750 \nQ 750 597 1062 519 \nQ 1375 441 1716 441 \nQ 2309 441 2620 675 \nQ 2931 909 2931 1356 \nQ 2931 1769 2642 2001 \nQ 2353 2234 1838 2234 \nL 1294 2234 \nL 1294 2753 \nL 1863 2753 \nQ 2328 2753 2575 2939 \nQ 2822 3125 2822 3475 \nQ 2822 3834 2567 4026 \nQ 2313 4219 1838 4219 \nQ 1578 4219 1281 4162 \nQ 984 4106 628 3988 \nL 628 4550 \nQ 988 4650 1302 4700 \nQ 1616 4750 1894 4750 \nQ 2613 4750 3031 4423 \nQ 3450 4097 3450 3541 \nQ 3450 3153 3228 2886 \nQ 3006 2619 2597 2516 \nz\n\" id=\"DejaVuSans-33\" transform=\"scale(0.015625)\"/>\n       </defs>\n       <use xlink:href=\"#DejaVuSans-33\"/>\n       <use x=\"63.623047\" xlink:href=\"#DejaVuSans-30\"/>\n      </g>\n     </g>\n    </g>\n   </g>\n   <g id=\"matplotlib.axis_2\">\n    <g id=\"ytick_1\">\n     <g id=\"line2d_8\">\n      <defs>\n       <path d=\"M 0 0 \nL -3.5 0 \n\" id=\"m04002795d0\" style=\"stroke:#000000;stroke-width:0.8;\"/>\n      </defs>\n      <g>\n       <use style=\"stroke:#000000;stroke-width:0.8;\" x=\"26.925\" xlink:href=\"#m04002795d0\" y=\"10.999219\"/>\n      </g>\n     </g>\n     <g id=\"text_8\">\n      <!-- 0 -->\n      <g transform=\"translate(13.5625 14.798437)scale(0.1 -0.1)\">\n       <use xlink:href=\"#DejaVuSans-30\"/>\n      </g>\n     </g>\n    </g>\n    <g id=\"ytick_2\">\n     <g id=\"line2d_9\">\n      <g>\n       <use style=\"stroke:#000000;stroke-width:0.8;\" x=\"26.925\" xlink:href=\"#m04002795d0\" y=\"44.974219\"/>\n      </g>\n     </g>\n     <g id=\"text_9\">\n      <!-- 5 -->\n      <g transform=\"translate(13.5625 48.773437)scale(0.1 -0.1)\">\n       <use xlink:href=\"#DejaVuSans-35\"/>\n      </g>\n     </g>\n    </g>\n    <g id=\"ytick_3\">\n     <g id=\"line2d_10\">\n      <g>\n       <use style=\"stroke:#000000;stroke-width:0.8;\" x=\"26.925\" xlink:href=\"#m04002795d0\" y=\"78.949219\"/>\n      </g>\n     </g>\n     <g id=\"text_10\">\n      <!-- 10 -->\n      <g transform=\"translate(7.2 82.748437)scale(0.1 -0.1)\">\n       <use xlink:href=\"#DejaVuSans-31\"/>\n       <use x=\"63.623047\" xlink:href=\"#DejaVuSans-30\"/>\n      </g>\n     </g>\n    </g>\n    <g id=\"ytick_4\">\n     <g id=\"line2d_11\">\n      <g>\n       <use style=\"stroke:#000000;stroke-width:0.8;\" x=\"26.925\" xlink:href=\"#m04002795d0\" y=\"112.924219\"/>\n      </g>\n     </g>\n     <g id=\"text_11\">\n      <!-- 15 -->\n      <g transform=\"translate(7.2 116.723437)scale(0.1 -0.1)\">\n       <use xlink:href=\"#DejaVuSans-31\"/>\n       <use x=\"63.623047\" xlink:href=\"#DejaVuSans-35\"/>\n      </g>\n     </g>\n    </g>\n    <g id=\"ytick_5\">\n     <g id=\"line2d_12\">\n      <g>\n       <use style=\"stroke:#000000;stroke-width:0.8;\" x=\"26.925\" xlink:href=\"#m04002795d0\" y=\"146.899219\"/>\n      </g>\n     </g>\n     <g id=\"text_12\">\n      <!-- 20 -->\n      <g transform=\"translate(7.2 150.698437)scale(0.1 -0.1)\">\n       <use xlink:href=\"#DejaVuSans-32\"/>\n       <use x=\"63.623047\" xlink:href=\"#DejaVuSans-30\"/>\n      </g>\n     </g>\n    </g>\n    <g id=\"ytick_6\">\n     <g id=\"line2d_13\">\n      <g>\n       <use style=\"stroke:#000000;stroke-width:0.8;\" x=\"26.925\" xlink:href=\"#m04002795d0\" y=\"180.874219\"/>\n      </g>\n     </g>\n     <g id=\"text_13\">\n      <!-- 25 -->\n      <g transform=\"translate(7.2 184.673437)scale(0.1 -0.1)\">\n       <use xlink:href=\"#DejaVuSans-32\"/>\n       <use x=\"63.623047\" xlink:href=\"#DejaVuSans-35\"/>\n      </g>\n     </g>\n    </g>\n    <g id=\"ytick_7\">\n     <g id=\"line2d_14\">\n      <g>\n       <use style=\"stroke:#000000;stroke-width:0.8;\" x=\"26.925\" xlink:href=\"#m04002795d0\" y=\"214.849219\"/>\n      </g>\n     </g>\n     <g id=\"text_14\">\n      <!-- 30 -->\n      <g transform=\"translate(7.2 218.648437)scale(0.1 -0.1)\">\n       <use xlink:href=\"#DejaVuSans-33\"/>\n       <use x=\"63.623047\" xlink:href=\"#DejaVuSans-30\"/>\n      </g>\n     </g>\n    </g>\n   </g>\n   <g id=\"patch_3\">\n    <path d=\"M 26.925 225.041719 \nL 26.925 7.601719 \n\" style=\"fill:none;stroke:#000000;stroke-linecap:square;stroke-linejoin:miter;stroke-width:0.8;\"/>\n   </g>\n   <g id=\"patch_4\">\n    <path d=\"M 244.365 225.041719 \nL 244.365 7.601719 \n\" style=\"fill:none;stroke:#000000;stroke-linecap:square;stroke-linejoin:miter;stroke-width:0.8;\"/>\n   </g>\n   <g id=\"patch_5\">\n    <path d=\"M 26.925 225.041719 \nL 244.365 225.041719 \n\" style=\"fill:none;stroke:#000000;stroke-linecap:square;stroke-linejoin:miter;stroke-width:0.8;\"/>\n   </g>\n   <g id=\"patch_6\">\n    <path d=\"M 26.925 7.601719 \nL 244.365 7.601719 \n\" style=\"fill:none;stroke:#000000;stroke-linecap:square;stroke-linejoin:miter;stroke-width:0.8;\"/>\n   </g>\n  </g>\n </g>\n <defs>\n  <clipPath id=\"pf0370fc5cd\">\n   <rect height=\"217.44\" width=\"217.44\" x=\"26.925\" y=\"7.601719\"/>\n  </clipPath>\n </defs>\n</svg>\n",
      "image/png": "[encoded data removed]"
     },
     "metadata": {
      "needs_background": "light"
     }
    }
   ],
   "source": [
    "img, label = cifar10[99]\n",
    "plt.imshow(img) # it's a PIL image"
   ]
  },
  {
   "cell_type": "code",
   "execution_count": 9,
   "metadata": {},
   "outputs": [],
   "source": [
    "tensor_cifar10 = datasets.CIFAR10(data_path, train=True, download=False,transform=transforms.ToTensor())"
   ]
  },
  {
   "cell_type": "code",
   "execution_count": 13,
   "metadata": {},
   "outputs": [
    {
     "output_type": "execute_result",
     "data": {
      "text/plain": [
       "(torch.Size([3, 32, 32]), 1)"
      ]
     },
     "metadata": {},
     "execution_count": 13
    }
   ],
   "source": [
    "img_t, label = tensor_cifar10[99]\n",
    "# note that the image is channel-first, the 3 color channels are at the zero index\n",
    "img_t.shape, label"
   ]
  },
  {
   "cell_type": "code",
   "execution_count": 14,
   "metadata": {},
   "outputs": [
    {
     "output_type": "execute_result",
     "data": {
      "text/plain": [
       "<matplotlib.image.AxesImage at 0x7f0c6ee0dd10>"
      ]
     },
     "metadata": {},
     "execution_count": 14
    },
    {
     "output_type": "display_data",
     "data": {
      "text/plain": "<Figure size 432x288 with 1 Axes>",
      "image/svg+xml": "<?xml version=\"1.0\" encoding=\"utf-8\" standalone=\"no\"?>\n<!DOCTYPE svg PUBLIC \"-//W3C//DTD SVG 1.1//EN\"\n  \"http://www.w3.org/Graphics/SVG/1.1/DTD/svg11.dtd\">\n<svg height=\"248.919844pt\" version=\"1.1\" viewBox=\"0 0 251.565 248.919844\" width=\"251.565pt\" xmlns=\"http://www.w3.org/2000/svg\" xmlns:xlink=\"http://www.w3.org/1999/xlink\">\n <metadata>\n  <rdf:RDF xmlns:cc=\"http://creativecommons.org/ns#\" xmlns:dc=\"http://purl.org/dc/elements/1.1/\" xmlns:rdf=\"http://www.w3.org/1999/02/22-rdf-syntax-ns#\">\n   <cc:Work>\n    <dc:type rdf:resource=\"http://purl.org/dc/dcmitype/StillImage\"/>\n    <dc:date>2021-06-10T10:52:26.356223</dc:date>\n    <dc:format>image/svg+xml</dc:format>\n    <dc:creator>\n     <cc:Agent>\n      <dc:title>Matplotlib v3.4.2, https://matplotlib.org/</dc:title>\n     </cc:Agent>\n    </dc:creator>\n   </cc:Work>\n  </rdf:RDF>\n </metadata>\n <defs>\n  <style type=\"text/css\">*{stroke-linecap:butt;stroke-linejoin:round;}</style>\n </defs>\n <g id=\"figure_1\">\n  <g id=\"patch_1\">\n   <path d=\"M 0 248.919844 \nL 251.565 248.919844 \nL 251.565 0 \nL 0 0 \nz\n\" style=\"fill:none;\"/>\n  </g>\n  <g id=\"axes_1\">\n   <g id=\"patch_2\">\n    <path d=\"M 26.925 225.041719 \nL 244.365 225.041719 \nL 244.365 7.601719 \nL 26.925 7.601719 \nz\n\" style=\"fill:#ffffff;\"/>\n   </g>\n   <g clip-path=\"url(#p3de520aca5)\">\n    <image height=\"218\" id=\"imagee81ec3992b\" transform=\"scale(1 -1)translate(0 -218)\" width=\"218\" x=\"26.925\" xlink:href=\"data:image/png;base64,\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\" y=\"-7.041719\"/>\n   </g>\n   <g id=\"matplotlib.axis_1\">\n    <g id=\"xtick_1\">\n     <g id=\"line2d_1\">\n      <defs>\n       <path d=\"M 0 0 \nL 0 3.5 \n\" id=\"mb3c196e20e\" style=\"stroke:#000000;stroke-width:0.8;\"/>\n      </defs>\n      <g>\n       <use style=\"stroke:#000000;stroke-width:0.8;\" x=\"30.3225\" xlink:href=\"#mb3c196e20e\" y=\"225.041719\"/>\n      </g>\n     </g>\n     <g id=\"text_1\">\n      <!-- 0 -->\n      <g transform=\"translate(27.14125 239.640156)scale(0.1 -0.1)\">\n       <defs>\n        <path d=\"M 2034 4250 \nQ 1547 4250 1301 3770 \nQ 1056 3291 1056 2328 \nQ 1056 1369 1301 889 \nQ 1547 409 2034 409 \nQ 2525 409 2770 889 \nQ 3016 1369 3016 2328 \nQ 3016 3291 2770 3770 \nQ 2525 4250 2034 4250 \nz\nM 2034 4750 \nQ 2819 4750 3233 4129 \nQ 3647 3509 3647 2328 \nQ 3647 1150 3233 529 \nQ 2819 -91 2034 -91 \nQ 1250 -91 836 529 \nQ 422 1150 422 2328 \nQ 422 3509 836 4129 \nQ 1250 4750 2034 4750 \nz\n\" id=\"DejaVuSans-30\" transform=\"scale(0.015625)\"/>\n       </defs>\n       <use xlink:href=\"#DejaVuSans-30\"/>\n      </g>\n     </g>\n    </g>\n    <g id=\"xtick_2\">\n     <g id=\"line2d_2\">\n      <g>\n       <use style=\"stroke:#000000;stroke-width:0.8;\" x=\"64.2975\" xlink:href=\"#mb3c196e20e\" y=\"225.041719\"/>\n      </g>\n     </g>\n     <g id=\"text_2\">\n      <!-- 5 -->\n      <g transform=\"translate(61.11625 239.640156)scale(0.1 -0.1)\">\n       <defs>\n        <path d=\"M 691 4666 \nL 3169 4666 \nL 3169 4134 \nL 1269 4134 \nL 1269 2991 \nQ 1406 3038 1543 3061 \nQ 1681 3084 1819 3084 \nQ 2600 3084 3056 2656 \nQ 3513 2228 3513 1497 \nQ 3513 744 3044 326 \nQ 2575 -91 1722 -91 \nQ 1428 -91 1123 -41 \nQ 819 9 494 109 \nL 494 744 \nQ 775 591 1075 516 \nQ 1375 441 1709 441 \nQ 2250 441 2565 725 \nQ 2881 1009 2881 1497 \nQ 2881 1984 2565 2268 \nQ 2250 2553 1709 2553 \nQ 1456 2553 1204 2497 \nQ 953 2441 691 2322 \nL 691 4666 \nz\n\" id=\"DejaVuSans-35\" transform=\"scale(0.015625)\"/>\n       </defs>\n       <use xlink:href=\"#DejaVuSans-35\"/>\n      </g>\n     </g>\n    </g>\n    <g id=\"xtick_3\">\n     <g id=\"line2d_3\">\n      <g>\n       <use style=\"stroke:#000000;stroke-width:0.8;\" x=\"98.2725\" xlink:href=\"#mb3c196e20e\" y=\"225.041719\"/>\n      </g>\n     </g>\n     <g id=\"text_3\">\n      <!-- 10 -->\n      <g transform=\"translate(91.91 239.640156)scale(0.1 -0.1)\">\n       <defs>\n        <path d=\"M 794 531 \nL 1825 531 \nL 1825 4091 \nL 703 3866 \nL 703 4441 \nL 1819 4666 \nL 2450 4666 \nL 2450 531 \nL 3481 531 \nL 3481 0 \nL 794 0 \nL 794 531 \nz\n\" id=\"DejaVuSans-31\" transform=\"scale(0.015625)\"/>\n       </defs>\n       <use xlink:href=\"#DejaVuSans-31\"/>\n       <use x=\"63.623047\" xlink:href=\"#DejaVuSans-30\"/>\n      </g>\n     </g>\n    </g>\n    <g id=\"xtick_4\">\n     <g id=\"line2d_4\">\n      <g>\n       <use style=\"stroke:#000000;stroke-width:0.8;\" x=\"132.2475\" xlink:href=\"#mb3c196e20e\" y=\"225.041719\"/>\n      </g>\n     </g>\n     <g id=\"text_4\">\n      <!-- 15 -->\n      <g transform=\"translate(125.885 239.640156)scale(0.1 -0.1)\">\n       <use xlink:href=\"#DejaVuSans-31\"/>\n       <use x=\"63.623047\" xlink:href=\"#DejaVuSans-35\"/>\n      </g>\n     </g>\n    </g>\n    <g id=\"xtick_5\">\n     <g id=\"line2d_5\">\n      <g>\n       <use style=\"stroke:#000000;stroke-width:0.8;\" x=\"166.2225\" xlink:href=\"#mb3c196e20e\" y=\"225.041719\"/>\n      </g>\n     </g>\n     <g id=\"text_5\">\n      <!-- 20 -->\n      <g transform=\"translate(159.86 239.640156)scale(0.1 -0.1)\">\n       <defs>\n        <path d=\"M 1228 531 \nL 3431 531 \nL 3431 0 \nL 469 0 \nL 469 531 \nQ 828 903 1448 1529 \nQ 2069 2156 2228 2338 \nQ 2531 2678 2651 2914 \nQ 2772 3150 2772 3378 \nQ 2772 3750 2511 3984 \nQ 2250 4219 1831 4219 \nQ 1534 4219 1204 4116 \nQ 875 4013 500 3803 \nL 500 4441 \nQ 881 4594 1212 4672 \nQ 1544 4750 1819 4750 \nQ 2544 4750 2975 4387 \nQ 3406 4025 3406 3419 \nQ 3406 3131 3298 2873 \nQ 3191 2616 2906 2266 \nQ 2828 2175 2409 1742 \nQ 1991 1309 1228 531 \nz\n\" id=\"DejaVuSans-32\" transform=\"scale(0.015625)\"/>\n       </defs>\n       <use xlink:href=\"#DejaVuSans-32\"/>\n       <use x=\"63.623047\" xlink:href=\"#DejaVuSans-30\"/>\n      </g>\n     </g>\n    </g>\n    <g id=\"xtick_6\">\n     <g id=\"line2d_6\">\n      <g>\n       <use style=\"stroke:#000000;stroke-width:0.8;\" x=\"200.1975\" xlink:href=\"#mb3c196e20e\" y=\"225.041719\"/>\n      </g>\n     </g>\n     <g id=\"text_6\">\n      <!-- 25 -->\n      <g transform=\"translate(193.835 239.640156)scale(0.1 -0.1)\">\n       <use xlink:href=\"#DejaVuSans-32\"/>\n       <use x=\"63.623047\" xlink:href=\"#DejaVuSans-35\"/>\n      </g>\n     </g>\n    </g>\n    <g id=\"xtick_7\">\n     <g id=\"line2d_7\">\n      <g>\n       <use style=\"stroke:#000000;stroke-width:0.8;\" x=\"234.1725\" xlink:href=\"#mb3c196e20e\" y=\"225.041719\"/>\n      </g>\n     </g>\n     <g id=\"text_7\">\n      <!-- 30 -->\n      <g transform=\"translate(227.81 239.640156)scale(0.1 -0.1)\">\n       <defs>\n        <path d=\"M 2597 2516 \nQ 3050 2419 3304 2112 \nQ 3559 1806 3559 1356 \nQ 3559 666 3084 287 \nQ 2609 -91 1734 -91 \nQ 1441 -91 1130 -33 \nQ 819 25 488 141 \nL 488 750 \nQ 750 597 1062 519 \nQ 1375 441 1716 441 \nQ 2309 441 2620 675 \nQ 2931 909 2931 1356 \nQ 2931 1769 2642 2001 \nQ 2353 2234 1838 2234 \nL 1294 2234 \nL 1294 2753 \nL 1863 2753 \nQ 2328 2753 2575 2939 \nQ 2822 3125 2822 3475 \nQ 2822 3834 2567 4026 \nQ 2313 4219 1838 4219 \nQ 1578 4219 1281 4162 \nQ 984 4106 628 3988 \nL 628 4550 \nQ 988 4650 1302 4700 \nQ 1616 4750 1894 4750 \nQ 2613 4750 3031 4423 \nQ 3450 4097 3450 3541 \nQ 3450 3153 3228 2886 \nQ 3006 2619 2597 2516 \nz\n\" id=\"DejaVuSans-33\" transform=\"scale(0.015625)\"/>\n       </defs>\n       <use xlink:href=\"#DejaVuSans-33\"/>\n       <use x=\"63.623047\" xlink:href=\"#DejaVuSans-30\"/>\n      </g>\n     </g>\n    </g>\n   </g>\n   <g id=\"matplotlib.axis_2\">\n    <g id=\"ytick_1\">\n     <g id=\"line2d_8\">\n      <defs>\n       <path d=\"M 0 0 \nL -3.5 0 \n\" id=\"m8fa595c414\" style=\"stroke:#000000;stroke-width:0.8;\"/>\n      </defs>\n      <g>\n       <use style=\"stroke:#000000;stroke-width:0.8;\" x=\"26.925\" xlink:href=\"#m8fa595c414\" y=\"10.999219\"/>\n      </g>\n     </g>\n     <g id=\"text_8\">\n      <!-- 0 -->\n      <g transform=\"translate(13.5625 14.798437)scale(0.1 -0.1)\">\n       <use xlink:href=\"#DejaVuSans-30\"/>\n      </g>\n     </g>\n    </g>\n    <g id=\"ytick_2\">\n     <g id=\"line2d_9\">\n      <g>\n       <use style=\"stroke:#000000;stroke-width:0.8;\" x=\"26.925\" xlink:href=\"#m8fa595c414\" y=\"44.974219\"/>\n      </g>\n     </g>\n     <g id=\"text_9\">\n      <!-- 5 -->\n      <g transform=\"translate(13.5625 48.773437)scale(0.1 -0.1)\">\n       <use xlink:href=\"#DejaVuSans-35\"/>\n      </g>\n     </g>\n    </g>\n    <g id=\"ytick_3\">\n     <g id=\"line2d_10\">\n      <g>\n       <use style=\"stroke:#000000;stroke-width:0.8;\" x=\"26.925\" xlink:href=\"#m8fa595c414\" y=\"78.949219\"/>\n      </g>\n     </g>\n     <g id=\"text_10\">\n      <!-- 10 -->\n      <g transform=\"translate(7.2 82.748437)scale(0.1 -0.1)\">\n       <use xlink:href=\"#DejaVuSans-31\"/>\n       <use x=\"63.623047\" xlink:href=\"#DejaVuSans-30\"/>\n      </g>\n     </g>\n    </g>\n    <g id=\"ytick_4\">\n     <g id=\"line2d_11\">\n      <g>\n       <use style=\"stroke:#000000;stroke-width:0.8;\" x=\"26.925\" xlink:href=\"#m8fa595c414\" y=\"112.924219\"/>\n      </g>\n     </g>\n     <g id=\"text_11\">\n      <!-- 15 -->\n      <g transform=\"translate(7.2 116.723437)scale(0.1 -0.1)\">\n       <use xlink:href=\"#DejaVuSans-31\"/>\n       <use x=\"63.623047\" xlink:href=\"#DejaVuSans-35\"/>\n      </g>\n     </g>\n    </g>\n    <g id=\"ytick_5\">\n     <g id=\"line2d_12\">\n      <g>\n       <use style=\"stroke:#000000;stroke-width:0.8;\" x=\"26.925\" xlink:href=\"#m8fa595c414\" y=\"146.899219\"/>\n      </g>\n     </g>\n     <g id=\"text_12\">\n      <!-- 20 -->\n      <g transform=\"translate(7.2 150.698437)scale(0.1 -0.1)\">\n       <use xlink:href=\"#DejaVuSans-32\"/>\n       <use x=\"63.623047\" xlink:href=\"#DejaVuSans-30\"/>\n      </g>\n     </g>\n    </g>\n    <g id=\"ytick_6\">\n     <g id=\"line2d_13\">\n      <g>\n       <use style=\"stroke:#000000;stroke-width:0.8;\" x=\"26.925\" xlink:href=\"#m8fa595c414\" y=\"180.874219\"/>\n      </g>\n     </g>\n     <g id=\"text_13\">\n      <!-- 25 -->\n      <g transform=\"translate(7.2 184.673437)scale(0.1 -0.1)\">\n       <use xlink:href=\"#DejaVuSans-32\"/>\n       <use x=\"63.623047\" xlink:href=\"#DejaVuSans-35\"/>\n      </g>\n     </g>\n    </g>\n    <g id=\"ytick_7\">\n     <g id=\"line2d_14\">\n      <g>\n       <use style=\"stroke:#000000;stroke-width:0.8;\" x=\"26.925\" xlink:href=\"#m8fa595c414\" y=\"214.849219\"/>\n      </g>\n     </g>\n     <g id=\"text_14\">\n      <!-- 30 -->\n      <g transform=\"translate(7.2 218.648437)scale(0.1 -0.1)\">\n       <use xlink:href=\"#DejaVuSans-33\"/>\n       <use x=\"63.623047\" xlink:href=\"#DejaVuSans-30\"/>\n      </g>\n     </g>\n    </g>\n   </g>\n   <g id=\"patch_3\">\n    <path d=\"M 26.925 225.041719 \nL 26.925 7.601719 \n\" style=\"fill:none;stroke:#000000;stroke-linecap:square;stroke-linejoin:miter;stroke-width:0.8;\"/>\n   </g>\n   <g id=\"patch_4\">\n    <path d=\"M 244.365 225.041719 \nL 244.365 7.601719 \n\" style=\"fill:none;stroke:#000000;stroke-linecap:square;stroke-linejoin:miter;stroke-width:0.8;\"/>\n   </g>\n   <g id=\"patch_5\">\n    <path d=\"M 26.925 225.041719 \nL 244.365 225.041719 \n\" style=\"fill:none;stroke:#000000;stroke-linecap:square;stroke-linejoin:miter;stroke-width:0.8;\"/>\n   </g>\n   <g id=\"patch_6\">\n    <path d=\"M 26.925 7.601719 \nL 244.365 7.601719 \n\" style=\"fill:none;stroke:#000000;stroke-linecap:square;stroke-linejoin:miter;stroke-width:0.8;\"/>\n   </g>\n  </g>\n </g>\n <defs>\n  <clipPath id=\"p3de520aca5\">\n   <rect height=\"217.44\" width=\"217.44\" x=\"26.925\" y=\"7.601719\"/>\n  </clipPath>\n </defs>\n</svg>\n",
      "image/png": "[encoded data removed]"
     },
     "metadata": {
      "needs_background": "light"
     }
    }
   ],
   "source": [
    "# it's C x H x W, we make it H x W x C to show it in matplotlib\n",
    "plt.imshow(img_t.permute(1,2,0))"
   ]
  },
  {
   "source": [
    "Normalizing data is important because\n",
    "- it helps us learn faster, as it means it's more likely neurons have nonzero gradients from the activation function\n",
    "- channel info can also be learned using the same learning rate, similar to why we normalized temerature data in the previous chapter."
   ],
   "cell_type": "markdown",
   "metadata": {}
  },
  {
   "cell_type": "code",
   "execution_count": 19,
   "metadata": {},
   "outputs": [],
   "source": [
    "# we need to compute the mean and std deviation so we can normalize info for every channel\n",
    "# that is, we need to calculate mean and stddev for red parts f the image, green parts of the image, and so on\n",
    "\n",
    "# the images in one tensor (stacking many tensors into one)\n",
    "imgs = torch.stack([i for i,_ in tensor_cifar10])\n"
   ]
  },
  {
   "cell_type": "code",
   "execution_count": 20,
   "metadata": {},
   "outputs": [
    {
     "output_type": "execute_result",
     "data": {
      "text/plain": [
       "torch.Size([50000, 3, 32, 32])"
      ]
     },
     "metadata": {},
     "execution_count": 20
    }
   ],
   "source": [
    "imgs.shape"
   ]
  },
  {
   "cell_type": "code",
   "execution_count": 27,
   "metadata": {},
   "outputs": [
    {
     "output_type": "stream",
     "name": "stdout",
     "text": [
      "torch.Size([3, 51200000])\n",
      "tensor([0.4741, 0.4727, 0.4733])\n",
      "tensor([0.2521, 0.2520, 0.2506])\n"
     ]
    }
   ],
   "source": [
    "# view returns a new tensor with the same underlying data but different shape\n",
    "# (3,-1) means that we want the dimension 3, for channels. -1 means :figure the rest out\", in this case flatten and combine 32x32X50000 for each channel\n",
    "print(imgs.view(3,-1).shape)\n",
    "# calc mean and std for 51200000, the channel data index is 1, thats why dim=1\n",
    "print(imgs.view(3, -1).mean(dim=1))\n",
    "print(imgs.view(3, -1).std(dim=1))\n"
   ]
  },
  {
   "cell_type": "code",
   "execution_count": 45,
   "metadata": {},
   "outputs": [],
   "source": [
    "transformed_cifar10 = datasets.CIFAR10(data_path, train=True, download=False,transform=transforms.Compose([\n",
    "    transforms.ToTensor(),\n",
    "    transforms.Normalize(\n",
    "        (0.4741, 0.4727, 0.4733), # the function doesnt calculate it, we have to do that ourselves\n",
    "        (0.2521, 0.2520, 0.2506)\n",
    "    )\n",
    "]))\n",
    "transformed_cifar10_val = datasets.CIFAR10(data_path, train=False, download=False,transform=transforms.Compose([\n",
    "    transforms.ToTensor(),\n",
    "    transforms.Normalize(\n",
    "        (0.4741, 0.4727, 0.4733), # the function doesnt calculate it, we have to do that ourselves\n",
    "        (0.2521, 0.2520, 0.2506)\n",
    "    )\n",
    "]))"
   ]
  },
  {
   "cell_type": "code",
   "execution_count": 31,
   "metadata": {},
   "outputs": [
    {
     "output_type": "stream",
     "name": "stderr",
     "text": [
      "Clipping input data to the valid range for imshow with RGB data ([0..1] for floats or [0..255] for integers).\n"
     ]
    },
    {
     "output_type": "display_data",
     "data": {
      "text/plain": "<Figure size 432x288 with 1 Axes>",
      "image/svg+xml": "<?xml version=\"1.0\" encoding=\"utf-8\" standalone=\"no\"?>\n<!DOCTYPE svg PUBLIC \"-//W3C//DTD SVG 1.1//EN\"\n  \"http://www.w3.org/Graphics/SVG/1.1/DTD/svg11.dtd\">\n<svg height=\"248.919844pt\" version=\"1.1\" viewBox=\"0 0 251.565 248.919844\" width=\"251.565pt\" xmlns=\"http://www.w3.org/2000/svg\" xmlns:xlink=\"http://www.w3.org/1999/xlink\">\n <metadata>\n  <rdf:RDF xmlns:cc=\"http://creativecommons.org/ns#\" xmlns:dc=\"http://purl.org/dc/elements/1.1/\" xmlns:rdf=\"http://www.w3.org/1999/02/22-rdf-syntax-ns#\">\n   <cc:Work>\n    <dc:type rdf:resource=\"http://purl.org/dc/dcmitype/StillImage\"/>\n    <dc:date>2021-06-10T11:14:59.294765</dc:date>\n    <dc:format>image/svg+xml</dc:format>\n    <dc:creator>\n     <cc:Agent>\n      <dc:title>Matplotlib v3.4.2, https://matplotlib.org/</dc:title>\n     </cc:Agent>\n    </dc:creator>\n   </cc:Work>\n  </rdf:RDF>\n </metadata>\n <defs>\n  <style type=\"text/css\">*{stroke-linecap:butt;stroke-linejoin:round;}</style>\n </defs>\n <g id=\"figure_1\">\n  <g id=\"patch_1\">\n   <path d=\"M 0 248.919844 \nL 251.565 248.919844 \nL 251.565 0 \nL 0 0 \nz\n\" style=\"fill:none;\"/>\n  </g>\n  <g id=\"axes_1\">\n   <g id=\"patch_2\">\n    <path d=\"M 26.925 225.041719 \nL 244.365 225.041719 \nL 244.365 7.601719 \nL 26.925 7.601719 \nz\n\" style=\"fill:#ffffff;\"/>\n   </g>\n   <g clip-path=\"url(#p9c044cf729)\">\n    <image height=\"218\" id=\"image07b004c5e5\" transform=\"scale(1 -1)translate(0 -218)\" width=\"218\" x=\"26.925\" xlink:href=\"data:image/png;base64,\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\" y=\"-7.041719\"/>\n   </g>\n   <g id=\"matplotlib.axis_1\">\n    <g id=\"xtick_1\">\n     <g id=\"line2d_1\">\n      <defs>\n       <path d=\"M 0 0 \nL 0 3.5 \n\" id=\"m146a9d2cf6\" style=\"stroke:#000000;stroke-width:0.8;\"/>\n      </defs>\n      <g>\n       <use style=\"stroke:#000000;stroke-width:0.8;\" x=\"30.3225\" xlink:href=\"#m146a9d2cf6\" y=\"225.041719\"/>\n      </g>\n     </g>\n     <g id=\"text_1\">\n      <!-- 0 -->\n      <g transform=\"translate(27.14125 239.640156)scale(0.1 -0.1)\">\n       <defs>\n        <path d=\"M 2034 4250 \nQ 1547 4250 1301 3770 \nQ 1056 3291 1056 2328 \nQ 1056 1369 1301 889 \nQ 1547 409 2034 409 \nQ 2525 409 2770 889 \nQ 3016 1369 3016 2328 \nQ 3016 3291 2770 3770 \nQ 2525 4250 2034 4250 \nz\nM 2034 4750 \nQ 2819 4750 3233 4129 \nQ 3647 3509 3647 2328 \nQ 3647 1150 3233 529 \nQ 2819 -91 2034 -91 \nQ 1250 -91 836 529 \nQ 422 1150 422 2328 \nQ 422 3509 836 4129 \nQ 1250 4750 2034 4750 \nz\n\" id=\"DejaVuSans-30\" transform=\"scale(0.015625)\"/>\n       </defs>\n       <use xlink:href=\"#DejaVuSans-30\"/>\n      </g>\n     </g>\n    </g>\n    <g id=\"xtick_2\">\n     <g id=\"line2d_2\">\n      <g>\n       <use style=\"stroke:#000000;stroke-width:0.8;\" x=\"64.2975\" xlink:href=\"#m146a9d2cf6\" y=\"225.041719\"/>\n      </g>\n     </g>\n     <g id=\"text_2\">\n      <!-- 5 -->\n      <g transform=\"translate(61.11625 239.640156)scale(0.1 -0.1)\">\n       <defs>\n        <path d=\"M 691 4666 \nL 3169 4666 \nL 3169 4134 \nL 1269 4134 \nL 1269 2991 \nQ 1406 3038 1543 3061 \nQ 1681 3084 1819 3084 \nQ 2600 3084 3056 2656 \nQ 3513 2228 3513 1497 \nQ 3513 744 3044 326 \nQ 2575 -91 1722 -91 \nQ 1428 -91 1123 -41 \nQ 819 9 494 109 \nL 494 744 \nQ 775 591 1075 516 \nQ 1375 441 1709 441 \nQ 2250 441 2565 725 \nQ 2881 1009 2881 1497 \nQ 2881 1984 2565 2268 \nQ 2250 2553 1709 2553 \nQ 1456 2553 1204 2497 \nQ 953 2441 691 2322 \nL 691 4666 \nz\n\" id=\"DejaVuSans-35\" transform=\"scale(0.015625)\"/>\n       </defs>\n       <use xlink:href=\"#DejaVuSans-35\"/>\n      </g>\n     </g>\n    </g>\n    <g id=\"xtick_3\">\n     <g id=\"line2d_3\">\n      <g>\n       <use style=\"stroke:#000000;stroke-width:0.8;\" x=\"98.2725\" xlink:href=\"#m146a9d2cf6\" y=\"225.041719\"/>\n      </g>\n     </g>\n     <g id=\"text_3\">\n      <!-- 10 -->\n      <g transform=\"translate(91.91 239.640156)scale(0.1 -0.1)\">\n       <defs>\n        <path d=\"M 794 531 \nL 1825 531 \nL 1825 4091 \nL 703 3866 \nL 703 4441 \nL 1819 4666 \nL 2450 4666 \nL 2450 531 \nL 3481 531 \nL 3481 0 \nL 794 0 \nL 794 531 \nz\n\" id=\"DejaVuSans-31\" transform=\"scale(0.015625)\"/>\n       </defs>\n       <use xlink:href=\"#DejaVuSans-31\"/>\n       <use x=\"63.623047\" xlink:href=\"#DejaVuSans-30\"/>\n      </g>\n     </g>\n    </g>\n    <g id=\"xtick_4\">\n     <g id=\"line2d_4\">\n      <g>\n       <use style=\"stroke:#000000;stroke-width:0.8;\" x=\"132.2475\" xlink:href=\"#m146a9d2cf6\" y=\"225.041719\"/>\n      </g>\n     </g>\n     <g id=\"text_4\">\n      <!-- 15 -->\n      <g transform=\"translate(125.885 239.640156)scale(0.1 -0.1)\">\n       <use xlink:href=\"#DejaVuSans-31\"/>\n       <use x=\"63.623047\" xlink:href=\"#DejaVuSans-35\"/>\n      </g>\n     </g>\n    </g>\n    <g id=\"xtick_5\">\n     <g id=\"line2d_5\">\n      <g>\n       <use style=\"stroke:#000000;stroke-width:0.8;\" x=\"166.2225\" xlink:href=\"#m146a9d2cf6\" y=\"225.041719\"/>\n      </g>\n     </g>\n     <g id=\"text_5\">\n      <!-- 20 -->\n      <g transform=\"translate(159.86 239.640156)scale(0.1 -0.1)\">\n       <defs>\n        <path d=\"M 1228 531 \nL 3431 531 \nL 3431 0 \nL 469 0 \nL 469 531 \nQ 828 903 1448 1529 \nQ 2069 2156 2228 2338 \nQ 2531 2678 2651 2914 \nQ 2772 3150 2772 3378 \nQ 2772 3750 2511 3984 \nQ 2250 4219 1831 4219 \nQ 1534 4219 1204 4116 \nQ 875 4013 500 3803 \nL 500 4441 \nQ 881 4594 1212 4672 \nQ 1544 4750 1819 4750 \nQ 2544 4750 2975 4387 \nQ 3406 4025 3406 3419 \nQ 3406 3131 3298 2873 \nQ 3191 2616 2906 2266 \nQ 2828 2175 2409 1742 \nQ 1991 1309 1228 531 \nz\n\" id=\"DejaVuSans-32\" transform=\"scale(0.015625)\"/>\n       </defs>\n       <use xlink:href=\"#DejaVuSans-32\"/>\n       <use x=\"63.623047\" xlink:href=\"#DejaVuSans-30\"/>\n      </g>\n     </g>\n    </g>\n    <g id=\"xtick_6\">\n     <g id=\"line2d_6\">\n      <g>\n       <use style=\"stroke:#000000;stroke-width:0.8;\" x=\"200.1975\" xlink:href=\"#m146a9d2cf6\" y=\"225.041719\"/>\n      </g>\n     </g>\n     <g id=\"text_6\">\n      <!-- 25 -->\n      <g transform=\"translate(193.835 239.640156)scale(0.1 -0.1)\">\n       <use xlink:href=\"#DejaVuSans-32\"/>\n       <use x=\"63.623047\" xlink:href=\"#DejaVuSans-35\"/>\n      </g>\n     </g>\n    </g>\n    <g id=\"xtick_7\">\n     <g id=\"line2d_7\">\n      <g>\n       <use style=\"stroke:#000000;stroke-width:0.8;\" x=\"234.1725\" xlink:href=\"#m146a9d2cf6\" y=\"225.041719\"/>\n      </g>\n     </g>\n     <g id=\"text_7\">\n      <!-- 30 -->\n      <g transform=\"translate(227.81 239.640156)scale(0.1 -0.1)\">\n       <defs>\n        <path d=\"M 2597 2516 \nQ 3050 2419 3304 2112 \nQ 3559 1806 3559 1356 \nQ 3559 666 3084 287 \nQ 2609 -91 1734 -91 \nQ 1441 -91 1130 -33 \nQ 819 25 488 141 \nL 488 750 \nQ 750 597 1062 519 \nQ 1375 441 1716 441 \nQ 2309 441 2620 675 \nQ 2931 909 2931 1356 \nQ 2931 1769 2642 2001 \nQ 2353 2234 1838 2234 \nL 1294 2234 \nL 1294 2753 \nL 1863 2753 \nQ 2328 2753 2575 2939 \nQ 2822 3125 2822 3475 \nQ 2822 3834 2567 4026 \nQ 2313 4219 1838 4219 \nQ 1578 4219 1281 4162 \nQ 984 4106 628 3988 \nL 628 4550 \nQ 988 4650 1302 4700 \nQ 1616 4750 1894 4750 \nQ 2613 4750 3031 4423 \nQ 3450 4097 3450 3541 \nQ 3450 3153 3228 2886 \nQ 3006 2619 2597 2516 \nz\n\" id=\"DejaVuSans-33\" transform=\"scale(0.015625)\"/>\n       </defs>\n       <use xlink:href=\"#DejaVuSans-33\"/>\n       <use x=\"63.623047\" xlink:href=\"#DejaVuSans-30\"/>\n      </g>\n     </g>\n    </g>\n   </g>\n   <g id=\"matplotlib.axis_2\">\n    <g id=\"ytick_1\">\n     <g id=\"line2d_8\">\n      <defs>\n       <path d=\"M 0 0 \nL -3.5 0 \n\" id=\"md25ced97c6\" style=\"stroke:#000000;stroke-width:0.8;\"/>\n      </defs>\n      <g>\n       <use style=\"stroke:#000000;stroke-width:0.8;\" x=\"26.925\" xlink:href=\"#md25ced97c6\" y=\"10.999219\"/>\n      </g>\n     </g>\n     <g id=\"text_8\">\n      <!-- 0 -->\n      <g transform=\"translate(13.5625 14.798437)scale(0.1 -0.1)\">\n       <use xlink:href=\"#DejaVuSans-30\"/>\n      </g>\n     </g>\n    </g>\n    <g id=\"ytick_2\">\n     <g id=\"line2d_9\">\n      <g>\n       <use style=\"stroke:#000000;stroke-width:0.8;\" x=\"26.925\" xlink:href=\"#md25ced97c6\" y=\"44.974219\"/>\n      </g>\n     </g>\n     <g id=\"text_9\">\n      <!-- 5 -->\n      <g transform=\"translate(13.5625 48.773437)scale(0.1 -0.1)\">\n       <use xlink:href=\"#DejaVuSans-35\"/>\n      </g>\n     </g>\n    </g>\n    <g id=\"ytick_3\">\n     <g id=\"line2d_10\">\n      <g>\n       <use style=\"stroke:#000000;stroke-width:0.8;\" x=\"26.925\" xlink:href=\"#md25ced97c6\" y=\"78.949219\"/>\n      </g>\n     </g>\n     <g id=\"text_10\">\n      <!-- 10 -->\n      <g transform=\"translate(7.2 82.748437)scale(0.1 -0.1)\">\n       <use xlink:href=\"#DejaVuSans-31\"/>\n       <use x=\"63.623047\" xlink:href=\"#DejaVuSans-30\"/>\n      </g>\n     </g>\n    </g>\n    <g id=\"ytick_4\">\n     <g id=\"line2d_11\">\n      <g>\n       <use style=\"stroke:#000000;stroke-width:0.8;\" x=\"26.925\" xlink:href=\"#md25ced97c6\" y=\"112.924219\"/>\n      </g>\n     </g>\n     <g id=\"text_11\">\n      <!-- 15 -->\n      <g transform=\"translate(7.2 116.723437)scale(0.1 -0.1)\">\n       <use xlink:href=\"#DejaVuSans-31\"/>\n       <use x=\"63.623047\" xlink:href=\"#DejaVuSans-35\"/>\n      </g>\n     </g>\n    </g>\n    <g id=\"ytick_5\">\n     <g id=\"line2d_12\">\n      <g>\n       <use style=\"stroke:#000000;stroke-width:0.8;\" x=\"26.925\" xlink:href=\"#md25ced97c6\" y=\"146.899219\"/>\n      </g>\n     </g>\n     <g id=\"text_12\">\n      <!-- 20 -->\n      <g transform=\"translate(7.2 150.698437)scale(0.1 -0.1)\">\n       <use xlink:href=\"#DejaVuSans-32\"/>\n       <use x=\"63.623047\" xlink:href=\"#DejaVuSans-30\"/>\n      </g>\n     </g>\n    </g>\n    <g id=\"ytick_6\">\n     <g id=\"line2d_13\">\n      <g>\n       <use style=\"stroke:#000000;stroke-width:0.8;\" x=\"26.925\" xlink:href=\"#md25ced97c6\" y=\"180.874219\"/>\n      </g>\n     </g>\n     <g id=\"text_13\">\n      <!-- 25 -->\n      <g transform=\"translate(7.2 184.673437)scale(0.1 -0.1)\">\n       <use xlink:href=\"#DejaVuSans-32\"/>\n       <use x=\"63.623047\" xlink:href=\"#DejaVuSans-35\"/>\n      </g>\n     </g>\n    </g>\n    <g id=\"ytick_7\">\n     <g id=\"line2d_14\">\n      <g>\n       <use style=\"stroke:#000000;stroke-width:0.8;\" x=\"26.925\" xlink:href=\"#md25ced97c6\" y=\"214.849219\"/>\n      </g>\n     </g>\n     <g id=\"text_14\">\n      <!-- 30 -->\n      <g transform=\"translate(7.2 218.648437)scale(0.1 -0.1)\">\n       <use xlink:href=\"#DejaVuSans-33\"/>\n       <use x=\"63.623047\" xlink:href=\"#DejaVuSans-30\"/>\n      </g>\n     </g>\n    </g>\n   </g>\n   <g id=\"patch_3\">\n    <path d=\"M 26.925 225.041719 \nL 26.925 7.601719 \n\" style=\"fill:none;stroke:#000000;stroke-linecap:square;stroke-linejoin:miter;stroke-width:0.8;\"/>\n   </g>\n   <g id=\"patch_4\">\n    <path d=\"M 244.365 225.041719 \nL 244.365 7.601719 \n\" style=\"fill:none;stroke:#000000;stroke-linecap:square;stroke-linejoin:miter;stroke-width:0.8;\"/>\n   </g>\n   <g id=\"patch_5\">\n    <path d=\"M 26.925 225.041719 \nL 244.365 225.041719 \n\" style=\"fill:none;stroke:#000000;stroke-linecap:square;stroke-linejoin:miter;stroke-width:0.8;\"/>\n   </g>\n   <g id=\"patch_6\">\n    <path d=\"M 26.925 7.601719 \nL 244.365 7.601719 \n\" style=\"fill:none;stroke:#000000;stroke-linecap:square;stroke-linejoin:miter;stroke-width:0.8;\"/>\n   </g>\n  </g>\n </g>\n <defs>\n  <clipPath id=\"p9c044cf729\">\n   <rect height=\"217.44\" width=\"217.44\" x=\"26.925\" y=\"7.601719\"/>\n  </clipPath>\n </defs>\n</svg>\n",
      "image/png": "[encoded data removed]"
     },
     "metadata": {
      "needs_background": "light"
     }
    }
   ],
   "source": [
    "## let's see what the transformation did\n",
    "img_t, _ = transformed_cifar10[99]\n",
    "plt.imshow(img_t.permute(1, 2, 0))\n",
    "plt.show()"
   ]
  },
  {
   "source": [
    "## telling birds from airplanes\n",
    "- filter the dataset to have only bird and airplane data\n",
    "- build a model that gives us a probability of it being a bird or an airplane (classification problem)"
   ],
   "cell_type": "markdown",
   "metadata": {}
  },
  {
   "cell_type": "code",
   "execution_count": 46,
   "metadata": {},
   "outputs": [],
   "source": [
    "# manually filter everything except birds and airplanes.\n",
    "# a better way could be to create a Dataset subclass, but this will do for now\n",
    "label_map = {0: 0, 2: 1}\n",
    "class_names = ['airplane', 'bird']\n",
    "cifar2 = [(img, label_map[label])for img, label in transformed_cifar10 if label in [0, 2]]\n",
    "cifar2_val = [(img, label_map[label])for img, label in transformed_cifar10_val if label in [0, 2]]"
   ]
  },
  {
   "cell_type": "code",
   "execution_count": 38,
   "metadata": {},
   "outputs": [
    {
     "output_type": "execute_result",
     "data": {
      "text/plain": [
       "tensor([[0.0900, 0.2447, 0.6652],\n",
       "        [0.0900, 0.2447, 0.6652]])"
      ]
     },
     "metadata": {},
     "execution_count": 38
    }
   ],
   "source": [
    "softmax = nn.Softmax(dim=1)\n",
    "x = torch.tensor([[1.0, 2.0, 3.0],[1.0, 2.0, 3.0]])\n",
    "softmax(x)"
   ]
  },
  {
   "cell_type": "code",
   "execution_count": 47,
   "metadata": {},
   "outputs": [
    {
     "output_type": "execute_result",
     "data": {
      "text/plain": [
       "Sequential(\n",
       "  (0): Linear(in_features=3072, out_features=512, bias=True)\n",
       "  (1): Tanh()\n",
       "  (2): Linear(in_features=512, out_features=2, bias=True)\n",
       "  (3): Softmax(dim=1)\n",
       ")"
      ]
     },
     "metadata": {},
     "execution_count": 47
    }
   ],
   "source": [
    "# the model. in the simplest case, we can just pass a flattened 1d vector\n",
    "# this would mean it wont have any spatial info, like about rows and columns\n",
    "model = nn.Sequential(\n",
    "    nn.Linear(32*32*3, 512), # it takes in 11 features\n",
    "    nn.Tanh(),\n",
    "    nn.Linear(512, 2), # pass to softmax to get probability\n",
    "    # can take a vector of any length, 2 here, and make sure they sum to one and are between [0,1].\n",
    "    # we have to specify the dimension as the 0th index can have a batch\n",
    "    nn.Softmax(dim=1) \n",
    ")\n",
    "model"
   ]
  },
  {
   "cell_type": "code",
   "execution_count": 49,
   "metadata": {},
   "outputs": [
    {
     "output_type": "stream",
     "name": "stderr",
     "text": [
      "Clipping input data to the valid range for imshow with RGB data ([0..1] for floats or [0..255] for integers).\n"
     ]
    },
    {
     "output_type": "execute_result",
     "data": {
      "text/plain": [
       "<matplotlib.image.AxesImage at 0x7f0c6c3fcfd0>"
      ]
     },
     "metadata": {},
     "execution_count": 49
    },
    {
     "output_type": "display_data",
     "data": {
      "text/plain": "<Figure size 432x288 with 1 Axes>",
      "image/svg+xml": "<?xml version=\"1.0\" encoding=\"utf-8\" standalone=\"no\"?>\n<!DOCTYPE svg PUBLIC \"-//W3C//DTD SVG 1.1//EN\"\n  \"http://www.w3.org/Graphics/SVG/1.1/DTD/svg11.dtd\">\n<svg height=\"248.919844pt\" version=\"1.1\" viewBox=\"0 0 251.565 248.919844\" width=\"251.565pt\" xmlns=\"http://www.w3.org/2000/svg\" xmlns:xlink=\"http://www.w3.org/1999/xlink\">\n <metadata>\n  <rdf:RDF xmlns:cc=\"http://creativecommons.org/ns#\" xmlns:dc=\"http://purl.org/dc/elements/1.1/\" xmlns:rdf=\"http://www.w3.org/1999/02/22-rdf-syntax-ns#\">\n   <cc:Work>\n    <dc:type rdf:resource=\"http://purl.org/dc/dcmitype/StillImage\"/>\n    <dc:date>2021-06-10T15:08:05.241967</dc:date>\n    <dc:format>image/svg+xml</dc:format>\n    <dc:creator>\n     <cc:Agent>\n      <dc:title>Matplotlib v3.4.2, https://matplotlib.org/</dc:title>\n     </cc:Agent>\n    </dc:creator>\n   </cc:Work>\n  </rdf:RDF>\n </metadata>\n <defs>\n  <style type=\"text/css\">*{stroke-linecap:butt;stroke-linejoin:round;}</style>\n </defs>\n <g id=\"figure_1\">\n  <g id=\"patch_1\">\n   <path d=\"M 0 248.919844 \nL 251.565 248.919844 \nL 251.565 0 \nL 0 0 \nz\n\" style=\"fill:none;\"/>\n  </g>\n  <g id=\"axes_1\">\n   <g id=\"patch_2\">\n    <path d=\"M 26.925 225.041719 \nL 244.365 225.041719 \nL 244.365 7.601719 \nL 26.925 7.601719 \nz\n\" style=\"fill:#ffffff;\"/>\n   </g>\n   <g clip-path=\"url(#p61caab0db3)\">\n    <image height=\"218\" id=\"image91b9cd76af\" transform=\"scale(1 -1)translate(0 -218)\" width=\"218\" x=\"26.925\" xlink:href=\"data:image/png;base64,\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\" y=\"-7.041719\"/>\n   </g>\n   <g id=\"matplotlib.axis_1\">\n    <g id=\"xtick_1\">\n     <g id=\"line2d_1\">\n      <defs>\n       <path d=\"M 0 0 \nL 0 3.5 \n\" id=\"mbd1e3dad7e\" style=\"stroke:#000000;stroke-width:0.8;\"/>\n      </defs>\n      <g>\n       <use style=\"stroke:#000000;stroke-width:0.8;\" x=\"30.3225\" xlink:href=\"#mbd1e3dad7e\" y=\"225.041719\"/>\n      </g>\n     </g>\n     <g id=\"text_1\">\n      <!-- 0 -->\n      <g transform=\"translate(27.14125 239.640156)scale(0.1 -0.1)\">\n       <defs>\n        <path d=\"M 2034 4250 \nQ 1547 4250 1301 3770 \nQ 1056 3291 1056 2328 \nQ 1056 1369 1301 889 \nQ 1547 409 2034 409 \nQ 2525 409 2770 889 \nQ 3016 1369 3016 2328 \nQ 3016 3291 2770 3770 \nQ 2525 4250 2034 4250 \nz\nM 2034 4750 \nQ 2819 4750 3233 4129 \nQ 3647 3509 3647 2328 \nQ 3647 1150 3233 529 \nQ 2819 -91 2034 -91 \nQ 1250 -91 836 529 \nQ 422 1150 422 2328 \nQ 422 3509 836 4129 \nQ 1250 4750 2034 4750 \nz\n\" id=\"DejaVuSans-30\" transform=\"scale(0.015625)\"/>\n       </defs>\n       <use xlink:href=\"#DejaVuSans-30\"/>\n      </g>\n     </g>\n    </g>\n    <g id=\"xtick_2\">\n     <g id=\"line2d_2\">\n      <g>\n       <use style=\"stroke:#000000;stroke-width:0.8;\" x=\"64.2975\" xlink:href=\"#mbd1e3dad7e\" y=\"225.041719\"/>\n      </g>\n     </g>\n     <g id=\"text_2\">\n      <!-- 5 -->\n      <g transform=\"translate(61.11625 239.640156)scale(0.1 -0.1)\">\n       <defs>\n        <path d=\"M 691 4666 \nL 3169 4666 \nL 3169 4134 \nL 1269 4134 \nL 1269 2991 \nQ 1406 3038 1543 3061 \nQ 1681 3084 1819 3084 \nQ 2600 3084 3056 2656 \nQ 3513 2228 3513 1497 \nQ 3513 744 3044 326 \nQ 2575 -91 1722 -91 \nQ 1428 -91 1123 -41 \nQ 819 9 494 109 \nL 494 744 \nQ 775 591 1075 516 \nQ 1375 441 1709 441 \nQ 2250 441 2565 725 \nQ 2881 1009 2881 1497 \nQ 2881 1984 2565 2268 \nQ 2250 2553 1709 2553 \nQ 1456 2553 1204 2497 \nQ 953 2441 691 2322 \nL 691 4666 \nz\n\" id=\"DejaVuSans-35\" transform=\"scale(0.015625)\"/>\n       </defs>\n       <use xlink:href=\"#DejaVuSans-35\"/>\n      </g>\n     </g>\n    </g>\n    <g id=\"xtick_3\">\n     <g id=\"line2d_3\">\n      <g>\n       <use style=\"stroke:#000000;stroke-width:0.8;\" x=\"98.2725\" xlink:href=\"#mbd1e3dad7e\" y=\"225.041719\"/>\n      </g>\n     </g>\n     <g id=\"text_3\">\n      <!-- 10 -->\n      <g transform=\"translate(91.91 239.640156)scale(0.1 -0.1)\">\n       <defs>\n        <path d=\"M 794 531 \nL 1825 531 \nL 1825 4091 \nL 703 3866 \nL 703 4441 \nL 1819 4666 \nL 2450 4666 \nL 2450 531 \nL 3481 531 \nL 3481 0 \nL 794 0 \nL 794 531 \nz\n\" id=\"DejaVuSans-31\" transform=\"scale(0.015625)\"/>\n       </defs>\n       <use xlink:href=\"#DejaVuSans-31\"/>\n       <use x=\"63.623047\" xlink:href=\"#DejaVuSans-30\"/>\n      </g>\n     </g>\n    </g>\n    <g id=\"xtick_4\">\n     <g id=\"line2d_4\">\n      <g>\n       <use style=\"stroke:#000000;stroke-width:0.8;\" x=\"132.2475\" xlink:href=\"#mbd1e3dad7e\" y=\"225.041719\"/>\n      </g>\n     </g>\n     <g id=\"text_4\">\n      <!-- 15 -->\n      <g transform=\"translate(125.885 239.640156)scale(0.1 -0.1)\">\n       <use xlink:href=\"#DejaVuSans-31\"/>\n       <use x=\"63.623047\" xlink:href=\"#DejaVuSans-35\"/>\n      </g>\n     </g>\n    </g>\n    <g id=\"xtick_5\">\n     <g id=\"line2d_5\">\n      <g>\n       <use style=\"stroke:#000000;stroke-width:0.8;\" x=\"166.2225\" xlink:href=\"#mbd1e3dad7e\" y=\"225.041719\"/>\n      </g>\n     </g>\n     <g id=\"text_5\">\n      <!-- 20 -->\n      <g transform=\"translate(159.86 239.640156)scale(0.1 -0.1)\">\n       <defs>\n        <path d=\"M 1228 531 \nL 3431 531 \nL 3431 0 \nL 469 0 \nL 469 531 \nQ 828 903 1448 1529 \nQ 2069 2156 2228 2338 \nQ 2531 2678 2651 2914 \nQ 2772 3150 2772 3378 \nQ 2772 3750 2511 3984 \nQ 2250 4219 1831 4219 \nQ 1534 4219 1204 4116 \nQ 875 4013 500 3803 \nL 500 4441 \nQ 881 4594 1212 4672 \nQ 1544 4750 1819 4750 \nQ 2544 4750 2975 4387 \nQ 3406 4025 3406 3419 \nQ 3406 3131 3298 2873 \nQ 3191 2616 2906 2266 \nQ 2828 2175 2409 1742 \nQ 1991 1309 1228 531 \nz\n\" id=\"DejaVuSans-32\" transform=\"scale(0.015625)\"/>\n       </defs>\n       <use xlink:href=\"#DejaVuSans-32\"/>\n       <use x=\"63.623047\" xlink:href=\"#DejaVuSans-30\"/>\n      </g>\n     </g>\n    </g>\n    <g id=\"xtick_6\">\n     <g id=\"line2d_6\">\n      <g>\n       <use style=\"stroke:#000000;stroke-width:0.8;\" x=\"200.1975\" xlink:href=\"#mbd1e3dad7e\" y=\"225.041719\"/>\n      </g>\n     </g>\n     <g id=\"text_6\">\n      <!-- 25 -->\n      <g transform=\"translate(193.835 239.640156)scale(0.1 -0.1)\">\n       <use xlink:href=\"#DejaVuSans-32\"/>\n       <use x=\"63.623047\" xlink:href=\"#DejaVuSans-35\"/>\n      </g>\n     </g>\n    </g>\n    <g id=\"xtick_7\">\n     <g id=\"line2d_7\">\n      <g>\n       <use style=\"stroke:#000000;stroke-width:0.8;\" x=\"234.1725\" xlink:href=\"#mbd1e3dad7e\" y=\"225.041719\"/>\n      </g>\n     </g>\n     <g id=\"text_7\">\n      <!-- 30 -->\n      <g transform=\"translate(227.81 239.640156)scale(0.1 -0.1)\">\n       <defs>\n        <path d=\"M 2597 2516 \nQ 3050 2419 3304 2112 \nQ 3559 1806 3559 1356 \nQ 3559 666 3084 287 \nQ 2609 -91 1734 -91 \nQ 1441 -91 1130 -33 \nQ 819 25 488 141 \nL 488 750 \nQ 750 597 1062 519 \nQ 1375 441 1716 441 \nQ 2309 441 2620 675 \nQ 2931 909 2931 1356 \nQ 2931 1769 2642 2001 \nQ 2353 2234 1838 2234 \nL 1294 2234 \nL 1294 2753 \nL 1863 2753 \nQ 2328 2753 2575 2939 \nQ 2822 3125 2822 3475 \nQ 2822 3834 2567 4026 \nQ 2313 4219 1838 4219 \nQ 1578 4219 1281 4162 \nQ 984 4106 628 3988 \nL 628 4550 \nQ 988 4650 1302 4700 \nQ 1616 4750 1894 4750 \nQ 2613 4750 3031 4423 \nQ 3450 4097 3450 3541 \nQ 3450 3153 3228 2886 \nQ 3006 2619 2597 2516 \nz\n\" id=\"DejaVuSans-33\" transform=\"scale(0.015625)\"/>\n       </defs>\n       <use xlink:href=\"#DejaVuSans-33\"/>\n       <use x=\"63.623047\" xlink:href=\"#DejaVuSans-30\"/>\n      </g>\n     </g>\n    </g>\n   </g>\n   <g id=\"matplotlib.axis_2\">\n    <g id=\"ytick_1\">\n     <g id=\"line2d_8\">\n      <defs>\n       <path d=\"M 0 0 \nL -3.5 0 \n\" id=\"mb8a19370ca\" style=\"stroke:#000000;stroke-width:0.8;\"/>\n      </defs>\n      <g>\n       <use style=\"stroke:#000000;stroke-width:0.8;\" x=\"26.925\" xlink:href=\"#mb8a19370ca\" y=\"10.999219\"/>\n      </g>\n     </g>\n     <g id=\"text_8\">\n      <!-- 0 -->\n      <g transform=\"translate(13.5625 14.798437)scale(0.1 -0.1)\">\n       <use xlink:href=\"#DejaVuSans-30\"/>\n      </g>\n     </g>\n    </g>\n    <g id=\"ytick_2\">\n     <g id=\"line2d_9\">\n      <g>\n       <use style=\"stroke:#000000;stroke-width:0.8;\" x=\"26.925\" xlink:href=\"#mb8a19370ca\" y=\"44.974219\"/>\n      </g>\n     </g>\n     <g id=\"text_9\">\n      <!-- 5 -->\n      <g transform=\"translate(13.5625 48.773437)scale(0.1 -0.1)\">\n       <use xlink:href=\"#DejaVuSans-35\"/>\n      </g>\n     </g>\n    </g>\n    <g id=\"ytick_3\">\n     <g id=\"line2d_10\">\n      <g>\n       <use style=\"stroke:#000000;stroke-width:0.8;\" x=\"26.925\" xlink:href=\"#mb8a19370ca\" y=\"78.949219\"/>\n      </g>\n     </g>\n     <g id=\"text_10\">\n      <!-- 10 -->\n      <g transform=\"translate(7.2 82.748437)scale(0.1 -0.1)\">\n       <use xlink:href=\"#DejaVuSans-31\"/>\n       <use x=\"63.623047\" xlink:href=\"#DejaVuSans-30\"/>\n      </g>\n     </g>\n    </g>\n    <g id=\"ytick_4\">\n     <g id=\"line2d_11\">\n      <g>\n       <use style=\"stroke:#000000;stroke-width:0.8;\" x=\"26.925\" xlink:href=\"#mb8a19370ca\" y=\"112.924219\"/>\n      </g>\n     </g>\n     <g id=\"text_11\">\n      <!-- 15 -->\n      <g transform=\"translate(7.2 116.723437)scale(0.1 -0.1)\">\n       <use xlink:href=\"#DejaVuSans-31\"/>\n       <use x=\"63.623047\" xlink:href=\"#DejaVuSans-35\"/>\n      </g>\n     </g>\n    </g>\n    <g id=\"ytick_5\">\n     <g id=\"line2d_12\">\n      <g>\n       <use style=\"stroke:#000000;stroke-width:0.8;\" x=\"26.925\" xlink:href=\"#mb8a19370ca\" y=\"146.899219\"/>\n      </g>\n     </g>\n     <g id=\"text_12\">\n      <!-- 20 -->\n      <g transform=\"translate(7.2 150.698437)scale(0.1 -0.1)\">\n       <use xlink:href=\"#DejaVuSans-32\"/>\n       <use x=\"63.623047\" xlink:href=\"#DejaVuSans-30\"/>\n      </g>\n     </g>\n    </g>\n    <g id=\"ytick_6\">\n     <g id=\"line2d_13\">\n      <g>\n       <use style=\"stroke:#000000;stroke-width:0.8;\" x=\"26.925\" xlink:href=\"#mb8a19370ca\" y=\"180.874219\"/>\n      </g>\n     </g>\n     <g id=\"text_13\">\n      <!-- 25 -->\n      <g transform=\"translate(7.2 184.673437)scale(0.1 -0.1)\">\n       <use xlink:href=\"#DejaVuSans-32\"/>\n       <use x=\"63.623047\" xlink:href=\"#DejaVuSans-35\"/>\n      </g>\n     </g>\n    </g>\n    <g id=\"ytick_7\">\n     <g id=\"line2d_14\">\n      <g>\n       <use style=\"stroke:#000000;stroke-width:0.8;\" x=\"26.925\" xlink:href=\"#mb8a19370ca\" y=\"214.849219\"/>\n      </g>\n     </g>\n     <g id=\"text_14\">\n      <!-- 30 -->\n      <g transform=\"translate(7.2 218.648437)scale(0.1 -0.1)\">\n       <use xlink:href=\"#DejaVuSans-33\"/>\n       <use x=\"63.623047\" xlink:href=\"#DejaVuSans-30\"/>\n      </g>\n     </g>\n    </g>\n   </g>\n   <g id=\"patch_3\">\n    <path d=\"M 26.925 225.041719 \nL 26.925 7.601719 \n\" style=\"fill:none;stroke:#000000;stroke-linecap:square;stroke-linejoin:miter;stroke-width:0.8;\"/>\n   </g>\n   <g id=\"patch_4\">\n    <path d=\"M 244.365 225.041719 \nL 244.365 7.601719 \n\" style=\"fill:none;stroke:#000000;stroke-linecap:square;stroke-linejoin:miter;stroke-width:0.8;\"/>\n   </g>\n   <g id=\"patch_5\">\n    <path d=\"M 26.925 225.041719 \nL 244.365 225.041719 \n\" style=\"fill:none;stroke:#000000;stroke-linecap:square;stroke-linejoin:miter;stroke-width:0.8;\"/>\n   </g>\n   <g id=\"patch_6\">\n    <path d=\"M 26.925 7.601719 \nL 244.365 7.601719 \n\" style=\"fill:none;stroke:#000000;stroke-linecap:square;stroke-linejoin:miter;stroke-width:0.8;\"/>\n   </g>\n  </g>\n </g>\n <defs>\n  <clipPath id=\"p61caab0db3\">\n   <rect height=\"217.44\" width=\"217.44\" x=\"26.925\" y=\"7.601719\"/>\n  </clipPath>\n </defs>\n</svg>\n",
      "image/png": "[encoded data removed]"
     },
     "metadata": {
      "needs_background": "light"
     }
    }
   ],
   "source": [
    "# let's get an output for an image on the untrained network\n",
    "test_img, _ = cifar2[0]\n",
    "plt.imshow(test_img.permute(1,2,0))"
   ]
  },
  {
   "cell_type": "code",
   "execution_count": 50,
   "metadata": {},
   "outputs": [
    {
     "output_type": "execute_result",
     "data": {
      "text/plain": [
       "torch.Size([1, 3072])"
      ]
     },
     "metadata": {},
     "execution_count": 50
    }
   ],
   "source": [
    "# unsqueeze to add a batch of one for this singular image\n",
    "one_dim_tensor = test_img.view(-1).unsqueeze(0)\n",
    "one_dim_tensor.shape"
   ]
  },
  {
   "cell_type": "code",
   "execution_count": 58,
   "metadata": {},
   "outputs": [
    {
     "output_type": "execute_result",
     "data": {
      "text/plain": [
       "torch.Size([1, 2])"
      ]
     },
     "metadata": {},
     "execution_count": 58
    }
   ],
   "source": [
    "# probabilities. If higher probability at index 0, then we select index 0, which is 'airplane'\n",
    "model(one_dim_tensor).shape "
   ]
  },
  {
   "cell_type": "code",
   "execution_count": 64,
   "metadata": {},
   "outputs": [],
   "source": [
    "model = nn.Sequential(\n",
    "    nn.Linear(32*32*3, 512),\n",
    "    nn.Tanh(),\n",
    "    nn.Linear(512, 2),\n",
    "    nn.LogSoftmax(dim=1) \n",
    ")"
   ]
  },
  {
   "cell_type": "code",
   "execution_count": 62,
   "metadata": {},
   "outputs": [
    {
     "output_type": "stream",
     "name": "stdout",
     "text": [
      "torch.Size([10000, 3072])\ntorch.Size([10000])\n"
     ]
    }
   ],
   "source": [
    "train_cifar_images = torch.stack([i for i,_ in cifar2]).view(10000,-1)\n",
    "train_cifar_labels = torch.tensor([l for _,l in cifar2])\n",
    "print(train_cifar_images.shape)\n",
    "print(train_cifar_labels.shape)\n"
   ]
  },
  {
   "cell_type": "code",
   "execution_count": 72,
   "metadata": {},
   "outputs": [
    {
     "output_type": "stream",
     "name": "stdout",
     "text": [
      "torch.Size([100])\ntorch.Size([100])\ntorch.Size([100])\ntorch.Size([100])\ntorch.Size([100])\ntorch.Size([100])\ntorch.Size([100])\ntorch.Size([100])\ntorch.Size([100])\ntorch.Size([100])\n"
     ]
    }
   ],
   "source": [
    "# example of using dataloader to create tensor batches\n",
    "loader = torch.utils.data.DataLoader(list(range(1000)), batch_size=100, shuffle=True)\n",
    "for x in loader:\n",
    "    print(x.shape)"
   ]
  },
  {
   "cell_type": "code",
   "execution_count": 77,
   "metadata": {},
   "outputs": [
    {
     "output_type": "stream",
     "name": "stdout",
     "text": [
      "epoch 100 training loss 0.7310789823532104\n"
     ]
    }
   ],
   "source": [
    "def training_loop(n_epochs, model, loss_fn, optimizer, dataloader):\n",
    "    for i in range(1, n_epochs+1):\n",
    "        # calculate for mini batches\n",
    "        for imgs, labels in dataloader:\n",
    "            optimizer.zero_grad() # clear to prevent gradients from accumulating on leaf nodes in comp. graph\n",
    "            # img.size is [64, 3,32,32]\n",
    "            # make it [64, 3*32*32]\n",
    "            batch_size = imgs.shape[0]\n",
    "            train_predicted = model(imgs.view(batch_size,-1))\n",
    "            loss = loss_fn(train_predicted, labels)\n",
    "            loss.backward() # update gradients and loss\n",
    "            optimizer.step() # update params\n",
    "\n",
    "    print(f\"epoch {i} training loss {loss}\")\n",
    "\n",
    "optimizer = torch.optim.Adam(model.parameters(), lr = 1e-2)\n",
    "train_loader = torch.utils.data.DataLoader(cifar2, batch_size=64,shuffle=True)\n",
    "# print(len(cifar2))\n",
    "# for img, labels in train_loader:\n",
    "#     print(img.shape)\n",
    "training_loop(\n",
    "    n_epochs=100,\n",
    "    model=model,\n",
    "    loss_fn=torch.nn.NLLLoss(),\n",
    "    optimizer=optimizer,\n",
    "    dataloader=train_loader\n",
    ")"
   ]
  },
  {
   "cell_type": "code",
   "execution_count": null,
   "metadata": {},
   "outputs": [],
   "source": []
  }
 ]
}