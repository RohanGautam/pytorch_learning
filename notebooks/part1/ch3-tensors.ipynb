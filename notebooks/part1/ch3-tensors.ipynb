{
 "metadata": {
  "language_info": {
   "codemirror_mode": {
    "name": "ipython",
    "version": 3
   },
   "file_extension": ".py",
   "mimetype": "text/x-python",
   "name": "python",
   "nbconvert_exporter": "python",
   "pygments_lexer": "ipython3",
   "version": "3.7.10"
  },
  "orig_nbformat": 2,
  "kernelspec": {
   "name": "python3710jvsc74a57bd047d517df254fbe59b5c04b69f23871c524fea7fc7dc51e349dcd158d9476f98d",
   "display_name": "Python 3.7.10 64-bit ('pytorch_latest_p37': conda)",
   "language": "python"
  }
 },
 "nbformat": 4,
 "nbformat_minor": 2,
 "cells": [
  {
   "source": [
    "# Learning pytorch"
   ],
   "cell_type": "markdown",
   "metadata": {}
  },
  {
   "source": [
    "## Tensors\n"
   ],
   "cell_type": "markdown",
   "metadata": {}
  },
  {
   "cell_type": "code",
   "execution_count": 3,
   "metadata": {},
   "outputs": [
    {
     "output_type": "execute_result",
     "data": {
      "text/plain": [
       "[1, 2, 3]"
      ]
     },
     "metadata": {},
     "execution_count": 3
    }
   ],
   "source": [
    "# where it all begins...the innocent vector\n",
    "a = [1, 2, 3]\n",
    "a"
   ]
  },
  {
   "cell_type": "code",
   "execution_count": 6,
   "metadata": {},
   "outputs": [
    {
     "output_type": "stream",
     "name": "stdout",
     "text": [
      "tensor([1., 1., 1.])\ntensor(1.)\n"
     ]
    }
   ],
   "source": [
    "import torch\n",
    "a = torch.ones(3)\n",
    "print(a)\n",
    "print(a[0])"
   ]
  },
  {
   "cell_type": "code",
   "execution_count": 9,
   "metadata": {},
   "outputs": [
    {
     "output_type": "stream",
     "name": "stdout",
     "text": [
      "tensor([[1, 2],\n        [3, 4],\n        [6, 9]])\n"
     ]
    },
    {
     "output_type": "execute_result",
     "data": {
      "text/plain": [
       "torch.Size([3, 2])"
      ]
     },
     "metadata": {},
     "execution_count": 9
    }
   ],
   "source": [
    "points = torch.tensor([[1,2], [3,4], [6,9]])\n",
    "print(points)\n",
    "points.shape"
   ]
  },
  {
   "cell_type": "code",
   "execution_count": 46,
   "metadata": {},
   "outputs": [
    {
     "output_type": "execute_result",
     "data": {
      "text/plain": [
       "tensor([[1, 2],\n",
       "        [3, 4],\n",
       "        [6, 9]])"
      ]
     },
     "metadata": {},
     "execution_count": 46
    }
   ],
   "source": [
    "points"
   ]
  },
  {
   "cell_type": "code",
   "execution_count": 45,
   "metadata": {},
   "outputs": [
    {
     "output_type": "execute_result",
     "data": {
      "text/plain": [
       "tensor([[[[ 1.0668, -1.0812, -0.6291,  0.3592, -0.3375,  0.4889],\n",
       "          [ 0.3901, -1.1137, -0.5904, -1.2772, -0.1168, -0.1316],\n",
       "          [-0.1472, -1.6614, -1.5264, -0.1616, -0.2030,  0.5750],\n",
       "          [-0.3974, -0.5479,  0.8834, -0.7721, -0.7097, -0.7588],\n",
       "          [-0.4560, -1.1754, -0.6510,  0.4799, -0.2176, -1.0985]],\n",
       "\n",
       "         [[ 1.5334,  0.6469, -0.1491, -0.5866,  0.3154, -2.8772],\n",
       "          [-0.2438, -0.6264,  1.0449, -0.0902,  0.8562,  0.8362],\n",
       "          [-2.6036,  0.6465, -0.5956,  1.1516,  0.8328,  0.0450],\n",
       "          [ 0.4365,  1.5059, -0.4002, -1.4430,  0.6134, -0.2582],\n",
       "          [-1.9307,  0.7267,  1.6412, -0.4672,  1.1423, -0.5179]],\n",
       "\n",
       "         [[-0.0541, -0.2765,  0.9911,  1.5698,  0.0382,  1.4972],\n",
       "          [-1.7186, -0.3854, -0.8562, -0.8509,  1.1160,  1.3524],\n",
       "          [-0.1884, -0.4587, -1.2948, -0.2401,  0.2441,  0.1679],\n",
       "          [ 0.0671, -1.4095,  0.7467,  0.3764,  1.1534, -0.2272],\n",
       "          [ 1.1148,  0.4300,  1.6242, -2.3581,  0.0588, -1.3865]]]])"
      ]
     },
     "metadata": {},
     "execution_count": 45
    }
   ],
   "source": [
    "torch.randn(1,3,5,6)"
   ]
  },
  {
   "cell_type": "code",
   "execution_count": 48,
   "metadata": {},
   "outputs": [
    {
     "output_type": "stream",
     "name": "stderr",
     "text": [
      "ipykernel_launcher:1: UserWarning: Named tensors and all their associated APIs are an experimental feature and subject to change. Please do not use them for anything important until they are released as stable. (Triggered internally at  /pytorch/c10/core/TensorImpl.h:934.)\n"
     ]
    },
    {
     "output_type": "execute_result",
     "data": {
      "text/plain": [
       "tensor([1, 2, 3], names=('hi',))"
      ]
     },
     "metadata": {},
     "execution_count": 48
    }
   ],
   "source": [
    "torch.tensor([1,2,3], names=(\"hi\",))"
   ]
  },
  {
   "source": [
    "### tensor operations\n"
   ],
   "cell_type": "markdown",
   "metadata": {}
  },
  {
   "cell_type": "code",
   "execution_count": 51,
   "metadata": {},
   "outputs": [
    {
     "output_type": "execute_result",
     "data": {
      "text/plain": [
       "tensor([[1, 2],\n",
       "        [3, 4]])"
      ]
     },
     "metadata": {},
     "execution_count": 51
    }
   ],
   "source": [
    "a = torch.tensor([[1,2],[3,4]])\n",
    "a"
   ]
  },
  {
   "cell_type": "code",
   "execution_count": 63,
   "metadata": {},
   "outputs": [
    {
     "output_type": "execute_result",
     "data": {
      "text/plain": [
       "tensor([[1, 3],\n",
       "        [2, 4]])"
      ]
     },
     "metadata": {},
     "execution_count": 63
    }
   ],
   "source": [
    "# takes in dimensions to swap. (0,1) will be same as (1,0)\n",
    "a.transpose(0,1)"
   ]
  },
  {
   "cell_type": "code",
   "execution_count": 64,
   "metadata": {},
   "outputs": [
    {
     "output_type": "execute_result",
     "data": {
      "text/plain": [
       " 1\n",
       " 2\n",
       " 3\n",
       " 4\n",
       "[torch.LongStorage of size 4]"
      ]
     },
     "metadata": {},
     "execution_count": 64
    }
   ],
   "source": [
    "a.storage()"
   ]
  },
  {
   "source": [
    "## exercises\n"
   ],
   "cell_type": "markdown",
   "metadata": {}
  },
  {
   "cell_type": "code",
   "execution_count": 66,
   "metadata": {},
   "outputs": [
    {
     "output_type": "execute_result",
     "data": {
      "text/plain": [
       "tensor([0, 1, 2, 3, 4, 5, 6, 7, 8])"
      ]
     },
     "metadata": {},
     "execution_count": 66
    }
   ],
   "source": [
    "a = torch.tensor(list(range(9)))\n",
    "a"
   ]
  },
  {
   "cell_type": "code",
   "execution_count": 69,
   "metadata": {},
   "outputs": [
    {
     "output_type": "execute_result",
     "data": {
      "text/plain": [
       "(torch.Size([9]), 0, (1,))"
      ]
     },
     "metadata": {},
     "execution_count": 69
    }
   ],
   "source": [
    "a.shape, a.storage_offset(), a.stride()"
   ]
  },
  {
   "cell_type": "code",
   "execution_count": 71,
   "metadata": {},
   "outputs": [
    {
     "output_type": "execute_result",
     "data": {
      "text/plain": [
       "tensor([[0, 1, 2],\n",
       "        [3, 4, 5],\n",
       "        [6, 7, 8]])"
      ]
     },
     "metadata": {},
     "execution_count": 71
    }
   ],
   "source": [
    "b  =  a.view(3,  3)\n",
    "b"
   ]
  },
  {
   "cell_type": "code",
   "execution_count": 74,
   "metadata": {},
   "outputs": [
    {
     "output_type": "execute_result",
     "data": {
      "text/plain": [
       "True"
      ]
     },
     "metadata": {},
     "execution_count": 74
    }
   ],
   "source": [
    "id(b.storage()) == id(a.storage())"
   ]
  },
  {
   "cell_type": "code",
   "execution_count": 77,
   "metadata": {},
   "outputs": [
    {
     "output_type": "execute_result",
     "data": {
      "text/plain": [
       "tensor([[4, 5],\n",
       "        [7, 8]])"
      ]
     },
     "metadata": {},
     "execution_count": 77
    }
   ],
   "source": [
    "c = b[1:, 1:]\n",
    "c"
   ]
  },
  {
   "cell_type": "code",
   "execution_count": 79,
   "metadata": {},
   "outputs": [
    {
     "output_type": "execute_result",
     "data": {
      "text/plain": [
       "(torch.Size([2, 2]), 4, (3, 1))"
      ]
     },
     "metadata": {},
     "execution_count": 79
    }
   ],
   "source": [
    "c.size(), c.storage_offset(), c.stride()"
   ]
  },
  {
   "cell_type": "code",
   "execution_count": 83,
   "metadata": {},
   "outputs": [
    {
     "output_type": "execute_result",
     "data": {
      "text/plain": [
       "tensor([ 0.0000,  0.8415,  0.9093,  0.1411, -0.7568, -0.9589, -0.2794,  0.6570,\n",
       "         0.9894])"
      ]
     },
     "metadata": {},
     "execution_count": 83
    }
   ],
   "source": [
    "torch.sin(a)"
   ]
  },
  {
   "cell_type": "code",
   "execution_count": null,
   "metadata": {},
   "outputs": [],
   "source": []
  }
 ]
}