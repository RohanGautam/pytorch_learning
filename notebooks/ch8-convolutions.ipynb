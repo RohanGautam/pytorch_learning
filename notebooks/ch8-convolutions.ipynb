{
 "metadata": {
  "language_info": {
   "codemirror_mode": {
    "name": "ipython",
    "version": 3
   },
   "file_extension": ".py",
   "mimetype": "text/x-python",
   "name": "python",
   "nbconvert_exporter": "python",
   "pygments_lexer": "ipython3",
   "version": "3.7.10"
  },
  "orig_nbformat": 2,
  "kernelspec": {
   "name": "python3710jvsc74a57bd0b3e614b3786c960a93b9d5d36e7aaa38532a0ca506246ed178fb5ba00ff82899",
   "display_name": "Python 3.7.10 64-bit ('ml_learning': conda)"
  }
 },
 "nbformat": 4,
 "nbformat_minor": 2,
 "cells": [
  {
   "source": [
    "## Prepping the data from the previous chapter"
   ],
   "cell_type": "markdown",
   "metadata": {}
  },
  {
   "cell_type": "code",
   "execution_count": 1,
   "metadata": {},
   "outputs": [],
   "source": [
    "import torch\n",
    "import torch.nn as nn\n",
    "from torchvision import datasets\n",
    "from torchvision import transforms\n",
    "import matplotlib.pyplot as plt"
   ]
  },
  {
   "cell_type": "code",
   "execution_count": 2,
   "metadata": {},
   "outputs": [],
   "source": [
    "data_path = \"../data_unversioned/p1ch7/\"\n",
    "transformed_cifar10 = datasets.CIFAR10(data_path, train=True, download=False,transform=transforms.Compose([\n",
    "    transforms.ToTensor(),\n",
    "    transforms.Normalize(\n",
    "        (0.4741, 0.4727, 0.4733), # the function doesnt calculate it, we have to do that ourselves\n",
    "        (0.2521, 0.2520, 0.2506)\n",
    "    )\n",
    "]))\n",
    "transformed_cifar10_val = datasets.CIFAR10(data_path, train=False, download=False,transform=transforms.Compose([\n",
    "    transforms.ToTensor(),\n",
    "    transforms.Normalize(\n",
    "        (0.4741, 0.4727, 0.4733), # the function doesnt calculate it, we have to do that ourselves\n",
    "        (0.2521, 0.2520, 0.2506)\n",
    "    )\n",
    "]))\n",
    "\n"
   ]
  },
  {
   "cell_type": "code",
   "execution_count": 3,
   "metadata": {},
   "outputs": [],
   "source": [
    "# get only birds and airplanes\n",
    "label_map = {0: 0, 2: 1}\n",
    "class_names = ['airplane', 'bird']\n",
    "cifar2 = [(img, label_map[label])for img, label in transformed_cifar10 if label in [0, 2]]\n",
    "cifar2_val = [(img, label_map[label])for img, label in transformed_cifar10_val if label in [0, 2]]"
   ]
  },
  {
   "source": [
    "## introducing convolutions and pooling"
   ],
   "cell_type": "markdown",
   "metadata": {}
  },
  {
   "cell_type": "code",
   "execution_count": 4,
   "metadata": {},
   "outputs": [
    {
     "output_type": "execute_result",
     "data": {
      "text/plain": [
       "Conv2d(3, 16, kernel_size=(3, 3), stride=(1, 1), padding=(True, True))"
      ]
     },
     "metadata": {},
     "execution_count": 4
    }
   ],
   "source": [
    "# 3 - input features - R,G,B per pixel\n",
    "# 16 - output features - arbitrary - will result in 16 features for the model to work with. \n",
    "# ie, 16 kernels will be learnt and be slid around\n",
    "conv = nn.Conv2d(3, 16, kernel_size=3, padding=True)\n",
    "conv"
   ]
  },
  {
   "cell_type": "code",
   "execution_count": 5,
   "metadata": {},
   "outputs": [
    {
     "output_type": "stream",
     "name": "stderr",
     "text": [
      "Clipping input data to the valid range for imshow with RGB data ([0..1] for floats or [0..255] for integers).\n"
     ]
    },
    {
     "output_type": "display_data",
     "data": {
      "text/plain": "<Figure size 432x288 with 1 Axes>",
      "image/svg+xml": "<?xml version=\"1.0\" encoding=\"utf-8\" standalone=\"no\"?>\n<!DOCTYPE svg PUBLIC \"-//W3C//DTD SVG 1.1//EN\"\n  \"http://www.w3.org/Graphics/SVG/1.1/DTD/svg11.dtd\">\n<svg height=\"248.919844pt\" version=\"1.1\" viewBox=\"0 0 251.565 248.919844\" width=\"251.565pt\" xmlns=\"http://www.w3.org/2000/svg\" xmlns:xlink=\"http://www.w3.org/1999/xlink\">\n <metadata>\n  <rdf:RDF xmlns:cc=\"http://creativecommons.org/ns#\" xmlns:dc=\"http://purl.org/dc/elements/1.1/\" xmlns:rdf=\"http://www.w3.org/1999/02/22-rdf-syntax-ns#\">\n   <cc:Work>\n    <dc:type rdf:resource=\"http://purl.org/dc/dcmitype/StillImage\"/>\n    <dc:date>2021-06-10T17:29:16.365146</dc:date>\n    <dc:format>image/svg+xml</dc:format>\n    <dc:creator>\n     <cc:Agent>\n      <dc:title>Matplotlib v3.4.2, https://matplotlib.org/</dc:title>\n     </cc:Agent>\n    </dc:creator>\n   </cc:Work>\n  </rdf:RDF>\n </metadata>\n <defs>\n  <style type=\"text/css\">*{stroke-linecap:butt;stroke-linejoin:round;}</style>\n </defs>\n <g id=\"figure_1\">\n  <g id=\"patch_1\">\n   <path d=\"M 0 248.919844 \nL 251.565 248.919844 \nL 251.565 0 \nL 0 0 \nz\n\" style=\"fill:none;\"/>\n  </g>\n  <g id=\"axes_1\">\n   <g id=\"patch_2\">\n    <path d=\"M 26.925 225.041719 \nL 244.365 225.041719 \nL 244.365 7.601719 \nL 26.925 7.601719 \nz\n\" style=\"fill:#ffffff;\"/>\n   </g>\n   <g clip-path=\"url(#p82f57d6474)\">\n    <image height=\"218\" id=\"imageeb705c34f7\" transform=\"scale(1 -1)translate(0 -218)\" width=\"218\" x=\"26.925\" xlink:href=\"data:image/png;base64,\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\" y=\"-7.041719\"/>\n   </g>\n   <g id=\"matplotlib.axis_1\">\n    <g id=\"xtick_1\">\n     <g id=\"line2d_1\">\n      <defs>\n       <path d=\"M 0 0 \nL 0 3.5 \n\" id=\"m4be9eb31c4\" style=\"stroke:#000000;stroke-width:0.8;\"/>\n      </defs>\n      <g>\n       <use style=\"stroke:#000000;stroke-width:0.8;\" x=\"30.3225\" xlink:href=\"#m4be9eb31c4\" y=\"225.041719\"/>\n      </g>\n     </g>\n     <g id=\"text_1\">\n      <!-- 0 -->\n      <g transform=\"translate(27.14125 239.640156)scale(0.1 -0.1)\">\n       <defs>\n        <path d=\"M 2034 4250 \nQ 1547 4250 1301 3770 \nQ 1056 3291 1056 2328 \nQ 1056 1369 1301 889 \nQ 1547 409 2034 409 \nQ 2525 409 2770 889 \nQ 3016 1369 3016 2328 \nQ 3016 3291 2770 3770 \nQ 2525 4250 2034 4250 \nz\nM 2034 4750 \nQ 2819 4750 3233 4129 \nQ 3647 3509 3647 2328 \nQ 3647 1150 3233 529 \nQ 2819 -91 2034 -91 \nQ 1250 -91 836 529 \nQ 422 1150 422 2328 \nQ 422 3509 836 4129 \nQ 1250 4750 2034 4750 \nz\n\" id=\"DejaVuSans-30\" transform=\"scale(0.015625)\"/>\n       </defs>\n       <use xlink:href=\"#DejaVuSans-30\"/>\n      </g>\n     </g>\n    </g>\n    <g id=\"xtick_2\">\n     <g id=\"line2d_2\">\n      <g>\n       <use style=\"stroke:#000000;stroke-width:0.8;\" x=\"64.2975\" xlink:href=\"#m4be9eb31c4\" y=\"225.041719\"/>\n      </g>\n     </g>\n     <g id=\"text_2\">\n      <!-- 5 -->\n      <g transform=\"translate(61.11625 239.640156)scale(0.1 -0.1)\">\n       <defs>\n        <path d=\"M 691 4666 \nL 3169 4666 \nL 3169 4134 \nL 1269 4134 \nL 1269 2991 \nQ 1406 3038 1543 3061 \nQ 1681 3084 1819 3084 \nQ 2600 3084 3056 2656 \nQ 3513 2228 3513 1497 \nQ 3513 744 3044 326 \nQ 2575 -91 1722 -91 \nQ 1428 -91 1123 -41 \nQ 819 9 494 109 \nL 494 744 \nQ 775 591 1075 516 \nQ 1375 441 1709 441 \nQ 2250 441 2565 725 \nQ 2881 1009 2881 1497 \nQ 2881 1984 2565 2268 \nQ 2250 2553 1709 2553 \nQ 1456 2553 1204 2497 \nQ 953 2441 691 2322 \nL 691 4666 \nz\n\" id=\"DejaVuSans-35\" transform=\"scale(0.015625)\"/>\n       </defs>\n       <use xlink:href=\"#DejaVuSans-35\"/>\n      </g>\n     </g>\n    </g>\n    <g id=\"xtick_3\">\n     <g id=\"line2d_3\">\n      <g>\n       <use style=\"stroke:#000000;stroke-width:0.8;\" x=\"98.2725\" xlink:href=\"#m4be9eb31c4\" y=\"225.041719\"/>\n      </g>\n     </g>\n     <g id=\"text_3\">\n      <!-- 10 -->\n      <g transform=\"translate(91.91 239.640156)scale(0.1 -0.1)\">\n       <defs>\n        <path d=\"M 794 531 \nL 1825 531 \nL 1825 4091 \nL 703 3866 \nL 703 4441 \nL 1819 4666 \nL 2450 4666 \nL 2450 531 \nL 3481 531 \nL 3481 0 \nL 794 0 \nL 794 531 \nz\n\" id=\"DejaVuSans-31\" transform=\"scale(0.015625)\"/>\n       </defs>\n       <use xlink:href=\"#DejaVuSans-31\"/>\n       <use x=\"63.623047\" xlink:href=\"#DejaVuSans-30\"/>\n      </g>\n     </g>\n    </g>\n    <g id=\"xtick_4\">\n     <g id=\"line2d_4\">\n      <g>\n       <use style=\"stroke:#000000;stroke-width:0.8;\" x=\"132.2475\" xlink:href=\"#m4be9eb31c4\" y=\"225.041719\"/>\n      </g>\n     </g>\n     <g id=\"text_4\">\n      <!-- 15 -->\n      <g transform=\"translate(125.885 239.640156)scale(0.1 -0.1)\">\n       <use xlink:href=\"#DejaVuSans-31\"/>\n       <use x=\"63.623047\" xlink:href=\"#DejaVuSans-35\"/>\n      </g>\n     </g>\n    </g>\n    <g id=\"xtick_5\">\n     <g id=\"line2d_5\">\n      <g>\n       <use style=\"stroke:#000000;stroke-width:0.8;\" x=\"166.2225\" xlink:href=\"#m4be9eb31c4\" y=\"225.041719\"/>\n      </g>\n     </g>\n     <g id=\"text_5\">\n      <!-- 20 -->\n      <g transform=\"translate(159.86 239.640156)scale(0.1 -0.1)\">\n       <defs>\n        <path d=\"M 1228 531 \nL 3431 531 \nL 3431 0 \nL 469 0 \nL 469 531 \nQ 828 903 1448 1529 \nQ 2069 2156 2228 2338 \nQ 2531 2678 2651 2914 \nQ 2772 3150 2772 3378 \nQ 2772 3750 2511 3984 \nQ 2250 4219 1831 4219 \nQ 1534 4219 1204 4116 \nQ 875 4013 500 3803 \nL 500 4441 \nQ 881 4594 1212 4672 \nQ 1544 4750 1819 4750 \nQ 2544 4750 2975 4387 \nQ 3406 4025 3406 3419 \nQ 3406 3131 3298 2873 \nQ 3191 2616 2906 2266 \nQ 2828 2175 2409 1742 \nQ 1991 1309 1228 531 \nz\n\" id=\"DejaVuSans-32\" transform=\"scale(0.015625)\"/>\n       </defs>\n       <use xlink:href=\"#DejaVuSans-32\"/>\n       <use x=\"63.623047\" xlink:href=\"#DejaVuSans-30\"/>\n      </g>\n     </g>\n    </g>\n    <g id=\"xtick_6\">\n     <g id=\"line2d_6\">\n      <g>\n       <use style=\"stroke:#000000;stroke-width:0.8;\" x=\"200.1975\" xlink:href=\"#m4be9eb31c4\" y=\"225.041719\"/>\n      </g>\n     </g>\n     <g id=\"text_6\">\n      <!-- 25 -->\n      <g transform=\"translate(193.835 239.640156)scale(0.1 -0.1)\">\n       <use xlink:href=\"#DejaVuSans-32\"/>\n       <use x=\"63.623047\" xlink:href=\"#DejaVuSans-35\"/>\n      </g>\n     </g>\n    </g>\n    <g id=\"xtick_7\">\n     <g id=\"line2d_7\">\n      <g>\n       <use style=\"stroke:#000000;stroke-width:0.8;\" x=\"234.1725\" xlink:href=\"#m4be9eb31c4\" y=\"225.041719\"/>\n      </g>\n     </g>\n     <g id=\"text_7\">\n      <!-- 30 -->\n      <g transform=\"translate(227.81 239.640156)scale(0.1 -0.1)\">\n       <defs>\n        <path d=\"M 2597 2516 \nQ 3050 2419 3304 2112 \nQ 3559 1806 3559 1356 \nQ 3559 666 3084 287 \nQ 2609 -91 1734 -91 \nQ 1441 -91 1130 -33 \nQ 819 25 488 141 \nL 488 750 \nQ 750 597 1062 519 \nQ 1375 441 1716 441 \nQ 2309 441 2620 675 \nQ 2931 909 2931 1356 \nQ 2931 1769 2642 2001 \nQ 2353 2234 1838 2234 \nL 1294 2234 \nL 1294 2753 \nL 1863 2753 \nQ 2328 2753 2575 2939 \nQ 2822 3125 2822 3475 \nQ 2822 3834 2567 4026 \nQ 2313 4219 1838 4219 \nQ 1578 4219 1281 4162 \nQ 984 4106 628 3988 \nL 628 4550 \nQ 988 4650 1302 4700 \nQ 1616 4750 1894 4750 \nQ 2613 4750 3031 4423 \nQ 3450 4097 3450 3541 \nQ 3450 3153 3228 2886 \nQ 3006 2619 2597 2516 \nz\n\" id=\"DejaVuSans-33\" transform=\"scale(0.015625)\"/>\n       </defs>\n       <use xlink:href=\"#DejaVuSans-33\"/>\n       <use x=\"63.623047\" xlink:href=\"#DejaVuSans-30\"/>\n      </g>\n     </g>\n    </g>\n   </g>\n   <g id=\"matplotlib.axis_2\">\n    <g id=\"ytick_1\">\n     <g id=\"line2d_8\">\n      <defs>\n       <path d=\"M 0 0 \nL -3.5 0 \n\" id=\"m308364e076\" style=\"stroke:#000000;stroke-width:0.8;\"/>\n      </defs>\n      <g>\n       <use style=\"stroke:#000000;stroke-width:0.8;\" x=\"26.925\" xlink:href=\"#m308364e076\" y=\"10.999219\"/>\n      </g>\n     </g>\n     <g id=\"text_8\">\n      <!-- 0 -->\n      <g transform=\"translate(13.5625 14.798437)scale(0.1 -0.1)\">\n       <use xlink:href=\"#DejaVuSans-30\"/>\n      </g>\n     </g>\n    </g>\n    <g id=\"ytick_2\">\n     <g id=\"line2d_9\">\n      <g>\n       <use style=\"stroke:#000000;stroke-width:0.8;\" x=\"26.925\" xlink:href=\"#m308364e076\" y=\"44.974219\"/>\n      </g>\n     </g>\n     <g id=\"text_9\">\n      <!-- 5 -->\n      <g transform=\"translate(13.5625 48.773437)scale(0.1 -0.1)\">\n       <use xlink:href=\"#DejaVuSans-35\"/>\n      </g>\n     </g>\n    </g>\n    <g id=\"ytick_3\">\n     <g id=\"line2d_10\">\n      <g>\n       <use style=\"stroke:#000000;stroke-width:0.8;\" x=\"26.925\" xlink:href=\"#m308364e076\" y=\"78.949219\"/>\n      </g>\n     </g>\n     <g id=\"text_10\">\n      <!-- 10 -->\n      <g transform=\"translate(7.2 82.748437)scale(0.1 -0.1)\">\n       <use xlink:href=\"#DejaVuSans-31\"/>\n       <use x=\"63.623047\" xlink:href=\"#DejaVuSans-30\"/>\n      </g>\n     </g>\n    </g>\n    <g id=\"ytick_4\">\n     <g id=\"line2d_11\">\n      <g>\n       <use style=\"stroke:#000000;stroke-width:0.8;\" x=\"26.925\" xlink:href=\"#m308364e076\" y=\"112.924219\"/>\n      </g>\n     </g>\n     <g id=\"text_11\">\n      <!-- 15 -->\n      <g transform=\"translate(7.2 116.723437)scale(0.1 -0.1)\">\n       <use xlink:href=\"#DejaVuSans-31\"/>\n       <use x=\"63.623047\" xlink:href=\"#DejaVuSans-35\"/>\n      </g>\n     </g>\n    </g>\n    <g id=\"ytick_5\">\n     <g id=\"line2d_12\">\n      <g>\n       <use style=\"stroke:#000000;stroke-width:0.8;\" x=\"26.925\" xlink:href=\"#m308364e076\" y=\"146.899219\"/>\n      </g>\n     </g>\n     <g id=\"text_12\">\n      <!-- 20 -->\n      <g transform=\"translate(7.2 150.698437)scale(0.1 -0.1)\">\n       <use xlink:href=\"#DejaVuSans-32\"/>\n       <use x=\"63.623047\" xlink:href=\"#DejaVuSans-30\"/>\n      </g>\n     </g>\n    </g>\n    <g id=\"ytick_6\">\n     <g id=\"line2d_13\">\n      <g>\n       <use style=\"stroke:#000000;stroke-width:0.8;\" x=\"26.925\" xlink:href=\"#m308364e076\" y=\"180.874219\"/>\n      </g>\n     </g>\n     <g id=\"text_13\">\n      <!-- 25 -->\n      <g transform=\"translate(7.2 184.673437)scale(0.1 -0.1)\">\n       <use xlink:href=\"#DejaVuSans-32\"/>\n       <use x=\"63.623047\" xlink:href=\"#DejaVuSans-35\"/>\n      </g>\n     </g>\n    </g>\n    <g id=\"ytick_7\">\n     <g id=\"line2d_14\">\n      <g>\n       <use style=\"stroke:#000000;stroke-width:0.8;\" x=\"26.925\" xlink:href=\"#m308364e076\" y=\"214.849219\"/>\n      </g>\n     </g>\n     <g id=\"text_14\">\n      <!-- 30 -->\n      <g transform=\"translate(7.2 218.648437)scale(0.1 -0.1)\">\n       <use xlink:href=\"#DejaVuSans-33\"/>\n       <use x=\"63.623047\" xlink:href=\"#DejaVuSans-30\"/>\n      </g>\n     </g>\n    </g>\n   </g>\n   <g id=\"patch_3\">\n    <path d=\"M 26.925 225.041719 \nL 26.925 7.601719 \n\" style=\"fill:none;stroke:#000000;stroke-linecap:square;stroke-linejoin:miter;stroke-width:0.8;\"/>\n   </g>\n   <g id=\"patch_4\">\n    <path d=\"M 244.365 225.041719 \nL 244.365 7.601719 \n\" style=\"fill:none;stroke:#000000;stroke-linecap:square;stroke-linejoin:miter;stroke-width:0.8;\"/>\n   </g>\n   <g id=\"patch_5\">\n    <path d=\"M 26.925 225.041719 \nL 244.365 225.041719 \n\" style=\"fill:none;stroke:#000000;stroke-linecap:square;stroke-linejoin:miter;stroke-width:0.8;\"/>\n   </g>\n   <g id=\"patch_6\">\n    <path d=\"M 26.925 7.601719 \nL 244.365 7.601719 \n\" style=\"fill:none;stroke:#000000;stroke-linecap:square;stroke-linejoin:miter;stroke-width:0.8;\"/>\n   </g>\n  </g>\n </g>\n <defs>\n  <clipPath id=\"p82f57d6474\">\n   <rect height=\"217.44\" width=\"217.44\" x=\"26.925\" y=\"7.601719\"/>\n  </clipPath>\n </defs>\n</svg>\n",
      "image/png": "[encoded data removed]"
     },
     "metadata": {
      "needs_background": "light"
     }
    }
   ],
   "source": [
    "img_t, _ = cifar2[0]\n",
    "plt.imshow(img_t.permute(1, 2, 0))\n",
    "plt.show()"
   ]
  },
  {
   "cell_type": "code",
   "execution_count": 6,
   "metadata": {},
   "outputs": [],
   "source": [
    "with torch.no_grad():conv.bias.zero_()\n",
    "# to get mean of it's neighbours, = 1/9(sum(3x3=9 pixels)) - a blurring kernel\n",
    "with torch.no_grad():conv.weight.fill_(1.0 / 9.0)\n"
   ]
  },
  {
   "cell_type": "code",
   "execution_count": 13,
   "metadata": {},
   "outputs": [
    {
     "output_type": "display_data",
     "data": {
      "text/plain": "<Figure size 432x288 with 1 Axes>",
      "image/svg+xml": "<?xml version=\"1.0\" encoding=\"utf-8\" standalone=\"no\"?>\n<!DOCTYPE svg PUBLIC \"-//W3C//DTD SVG 1.1//EN\"\n  \"http://www.w3.org/Graphics/SVG/1.1/DTD/svg11.dtd\">\n<svg height=\"248.919844pt\" version=\"1.1\" viewBox=\"0 0 251.565 248.919844\" width=\"251.565pt\" xmlns=\"http://www.w3.org/2000/svg\" xmlns:xlink=\"http://www.w3.org/1999/xlink\">\n <metadata>\n  <rdf:RDF xmlns:cc=\"http://creativecommons.org/ns#\" xmlns:dc=\"http://purl.org/dc/elements/1.1/\" xmlns:rdf=\"http://www.w3.org/1999/02/22-rdf-syntax-ns#\">\n   <cc:Work>\n    <dc:type rdf:resource=\"http://purl.org/dc/dcmitype/StillImage\"/>\n    <dc:date>2021-06-10T17:34:24.573472</dc:date>\n    <dc:format>image/svg+xml</dc:format>\n    <dc:creator>\n     <cc:Agent>\n      <dc:title>Matplotlib v3.4.2, https://matplotlib.org/</dc:title>\n     </cc:Agent>\n    </dc:creator>\n   </cc:Work>\n  </rdf:RDF>\n </metadata>\n <defs>\n  <style type=\"text/css\">*{stroke-linecap:butt;stroke-linejoin:round;}</style>\n </defs>\n <g id=\"figure_1\">\n  <g id=\"patch_1\">\n   <path d=\"M 0 248.919844 \nL 251.565 248.919844 \nL 251.565 0 \nL 0 0 \nz\n\" style=\"fill:none;\"/>\n  </g>\n  <g id=\"axes_1\">\n   <g id=\"patch_2\">\n    <path d=\"M 26.925 225.041719 \nL 244.365 225.041719 \nL 244.365 7.601719 \nL 26.925 7.601719 \nz\n\" style=\"fill:#ffffff;\"/>\n   </g>\n   <g clip-path=\"url(#pa0cd62b8bf)\">\n    <image height=\"218\" id=\"image104ac7a553\" transform=\"scale(1 -1)translate(0 -218)\" width=\"218\" x=\"26.925\" xlink:href=\"data:image/png;base64,\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\" y=\"-7.041719\"/>\n   </g>\n   <g id=\"matplotlib.axis_1\">\n    <g id=\"xtick_1\">\n     <g id=\"line2d_1\">\n      <defs>\n       <path d=\"M 0 0 \nL 0 3.5 \n\" id=\"m061a3a5df8\" style=\"stroke:#000000;stroke-width:0.8;\"/>\n      </defs>\n      <g>\n       <use style=\"stroke:#000000;stroke-width:0.8;\" x=\"30.3225\" xlink:href=\"#m061a3a5df8\" y=\"225.041719\"/>\n      </g>\n     </g>\n     <g id=\"text_1\">\n      <!-- 0 -->\n      <g transform=\"translate(27.14125 239.640156)scale(0.1 -0.1)\">\n       <defs>\n        <path d=\"M 2034 4250 \nQ 1547 4250 1301 3770 \nQ 1056 3291 1056 2328 \nQ 1056 1369 1301 889 \nQ 1547 409 2034 409 \nQ 2525 409 2770 889 \nQ 3016 1369 3016 2328 \nQ 3016 3291 2770 3770 \nQ 2525 4250 2034 4250 \nz\nM 2034 4750 \nQ 2819 4750 3233 4129 \nQ 3647 3509 3647 2328 \nQ 3647 1150 3233 529 \nQ 2819 -91 2034 -91 \nQ 1250 -91 836 529 \nQ 422 1150 422 2328 \nQ 422 3509 836 4129 \nQ 1250 4750 2034 4750 \nz\n\" id=\"DejaVuSans-30\" transform=\"scale(0.015625)\"/>\n       </defs>\n       <use xlink:href=\"#DejaVuSans-30\"/>\n      </g>\n     </g>\n    </g>\n    <g id=\"xtick_2\">\n     <g id=\"line2d_2\">\n      <g>\n       <use style=\"stroke:#000000;stroke-width:0.8;\" x=\"64.2975\" xlink:href=\"#m061a3a5df8\" y=\"225.041719\"/>\n      </g>\n     </g>\n     <g id=\"text_2\">\n      <!-- 5 -->\n      <g transform=\"translate(61.11625 239.640156)scale(0.1 -0.1)\">\n       <defs>\n        <path d=\"M 691 4666 \nL 3169 4666 \nL 3169 4134 \nL 1269 4134 \nL 1269 2991 \nQ 1406 3038 1543 3061 \nQ 1681 3084 1819 3084 \nQ 2600 3084 3056 2656 \nQ 3513 2228 3513 1497 \nQ 3513 744 3044 326 \nQ 2575 -91 1722 -91 \nQ 1428 -91 1123 -41 \nQ 819 9 494 109 \nL 494 744 \nQ 775 591 1075 516 \nQ 1375 441 1709 441 \nQ 2250 441 2565 725 \nQ 2881 1009 2881 1497 \nQ 2881 1984 2565 2268 \nQ 2250 2553 1709 2553 \nQ 1456 2553 1204 2497 \nQ 953 2441 691 2322 \nL 691 4666 \nz\n\" id=\"DejaVuSans-35\" transform=\"scale(0.015625)\"/>\n       </defs>\n       <use xlink:href=\"#DejaVuSans-35\"/>\n      </g>\n     </g>\n    </g>\n    <g id=\"xtick_3\">\n     <g id=\"line2d_3\">\n      <g>\n       <use style=\"stroke:#000000;stroke-width:0.8;\" x=\"98.2725\" xlink:href=\"#m061a3a5df8\" y=\"225.041719\"/>\n      </g>\n     </g>\n     <g id=\"text_3\">\n      <!-- 10 -->\n      <g transform=\"translate(91.91 239.640156)scale(0.1 -0.1)\">\n       <defs>\n        <path d=\"M 794 531 \nL 1825 531 \nL 1825 4091 \nL 703 3866 \nL 703 4441 \nL 1819 4666 \nL 2450 4666 \nL 2450 531 \nL 3481 531 \nL 3481 0 \nL 794 0 \nL 794 531 \nz\n\" id=\"DejaVuSans-31\" transform=\"scale(0.015625)\"/>\n       </defs>\n       <use xlink:href=\"#DejaVuSans-31\"/>\n       <use x=\"63.623047\" xlink:href=\"#DejaVuSans-30\"/>\n      </g>\n     </g>\n    </g>\n    <g id=\"xtick_4\">\n     <g id=\"line2d_4\">\n      <g>\n       <use style=\"stroke:#000000;stroke-width:0.8;\" x=\"132.2475\" xlink:href=\"#m061a3a5df8\" y=\"225.041719\"/>\n      </g>\n     </g>\n     <g id=\"text_4\">\n      <!-- 15 -->\n      <g transform=\"translate(125.885 239.640156)scale(0.1 -0.1)\">\n       <use xlink:href=\"#DejaVuSans-31\"/>\n       <use x=\"63.623047\" xlink:href=\"#DejaVuSans-35\"/>\n      </g>\n     </g>\n    </g>\n    <g id=\"xtick_5\">\n     <g id=\"line2d_5\">\n      <g>\n       <use style=\"stroke:#000000;stroke-width:0.8;\" x=\"166.2225\" xlink:href=\"#m061a3a5df8\" y=\"225.041719\"/>\n      </g>\n     </g>\n     <g id=\"text_5\">\n      <!-- 20 -->\n      <g transform=\"translate(159.86 239.640156)scale(0.1 -0.1)\">\n       <defs>\n        <path d=\"M 1228 531 \nL 3431 531 \nL 3431 0 \nL 469 0 \nL 469 531 \nQ 828 903 1448 1529 \nQ 2069 2156 2228 2338 \nQ 2531 2678 2651 2914 \nQ 2772 3150 2772 3378 \nQ 2772 3750 2511 3984 \nQ 2250 4219 1831 4219 \nQ 1534 4219 1204 4116 \nQ 875 4013 500 3803 \nL 500 4441 \nQ 881 4594 1212 4672 \nQ 1544 4750 1819 4750 \nQ 2544 4750 2975 4387 \nQ 3406 4025 3406 3419 \nQ 3406 3131 3298 2873 \nQ 3191 2616 2906 2266 \nQ 2828 2175 2409 1742 \nQ 1991 1309 1228 531 \nz\n\" id=\"DejaVuSans-32\" transform=\"scale(0.015625)\"/>\n       </defs>\n       <use xlink:href=\"#DejaVuSans-32\"/>\n       <use x=\"63.623047\" xlink:href=\"#DejaVuSans-30\"/>\n      </g>\n     </g>\n    </g>\n    <g id=\"xtick_6\">\n     <g id=\"line2d_6\">\n      <g>\n       <use style=\"stroke:#000000;stroke-width:0.8;\" x=\"200.1975\" xlink:href=\"#m061a3a5df8\" y=\"225.041719\"/>\n      </g>\n     </g>\n     <g id=\"text_6\">\n      <!-- 25 -->\n      <g transform=\"translate(193.835 239.640156)scale(0.1 -0.1)\">\n       <use xlink:href=\"#DejaVuSans-32\"/>\n       <use x=\"63.623047\" xlink:href=\"#DejaVuSans-35\"/>\n      </g>\n     </g>\n    </g>\n    <g id=\"xtick_7\">\n     <g id=\"line2d_7\">\n      <g>\n       <use style=\"stroke:#000000;stroke-width:0.8;\" x=\"234.1725\" xlink:href=\"#m061a3a5df8\" y=\"225.041719\"/>\n      </g>\n     </g>\n     <g id=\"text_7\">\n      <!-- 30 -->\n      <g transform=\"translate(227.81 239.640156)scale(0.1 -0.1)\">\n       <defs>\n        <path d=\"M 2597 2516 \nQ 3050 2419 3304 2112 \nQ 3559 1806 3559 1356 \nQ 3559 666 3084 287 \nQ 2609 -91 1734 -91 \nQ 1441 -91 1130 -33 \nQ 819 25 488 141 \nL 488 750 \nQ 750 597 1062 519 \nQ 1375 441 1716 441 \nQ 2309 441 2620 675 \nQ 2931 909 2931 1356 \nQ 2931 1769 2642 2001 \nQ 2353 2234 1838 2234 \nL 1294 2234 \nL 1294 2753 \nL 1863 2753 \nQ 2328 2753 2575 2939 \nQ 2822 3125 2822 3475 \nQ 2822 3834 2567 4026 \nQ 2313 4219 1838 4219 \nQ 1578 4219 1281 4162 \nQ 984 4106 628 3988 \nL 628 4550 \nQ 988 4650 1302 4700 \nQ 1616 4750 1894 4750 \nQ 2613 4750 3031 4423 \nQ 3450 4097 3450 3541 \nQ 3450 3153 3228 2886 \nQ 3006 2619 2597 2516 \nz\n\" id=\"DejaVuSans-33\" transform=\"scale(0.015625)\"/>\n       </defs>\n       <use xlink:href=\"#DejaVuSans-33\"/>\n       <use x=\"63.623047\" xlink:href=\"#DejaVuSans-30\"/>\n      </g>\n     </g>\n    </g>\n   </g>\n   <g id=\"matplotlib.axis_2\">\n    <g id=\"ytick_1\">\n     <g id=\"line2d_8\">\n      <defs>\n       <path d=\"M 0 0 \nL -3.5 0 \n\" id=\"m31c6dc0bc7\" style=\"stroke:#000000;stroke-width:0.8;\"/>\n      </defs>\n      <g>\n       <use style=\"stroke:#000000;stroke-width:0.8;\" x=\"26.925\" xlink:href=\"#m31c6dc0bc7\" y=\"10.999219\"/>\n      </g>\n     </g>\n     <g id=\"text_8\">\n      <!-- 0 -->\n      <g transform=\"translate(13.5625 14.798437)scale(0.1 -0.1)\">\n       <use xlink:href=\"#DejaVuSans-30\"/>\n      </g>\n     </g>\n    </g>\n    <g id=\"ytick_2\">\n     <g id=\"line2d_9\">\n      <g>\n       <use style=\"stroke:#000000;stroke-width:0.8;\" x=\"26.925\" xlink:href=\"#m31c6dc0bc7\" y=\"44.974219\"/>\n      </g>\n     </g>\n     <g id=\"text_9\">\n      <!-- 5 -->\n      <g transform=\"translate(13.5625 48.773437)scale(0.1 -0.1)\">\n       <use xlink:href=\"#DejaVuSans-35\"/>\n      </g>\n     </g>\n    </g>\n    <g id=\"ytick_3\">\n     <g id=\"line2d_10\">\n      <g>\n       <use style=\"stroke:#000000;stroke-width:0.8;\" x=\"26.925\" xlink:href=\"#m31c6dc0bc7\" y=\"78.949219\"/>\n      </g>\n     </g>\n     <g id=\"text_10\">\n      <!-- 10 -->\n      <g transform=\"translate(7.2 82.748437)scale(0.1 -0.1)\">\n       <use xlink:href=\"#DejaVuSans-31\"/>\n       <use x=\"63.623047\" xlink:href=\"#DejaVuSans-30\"/>\n      </g>\n     </g>\n    </g>\n    <g id=\"ytick_4\">\n     <g id=\"line2d_11\">\n      <g>\n       <use style=\"stroke:#000000;stroke-width:0.8;\" x=\"26.925\" xlink:href=\"#m31c6dc0bc7\" y=\"112.924219\"/>\n      </g>\n     </g>\n     <g id=\"text_11\">\n      <!-- 15 -->\n      <g transform=\"translate(7.2 116.723437)scale(0.1 -0.1)\">\n       <use xlink:href=\"#DejaVuSans-31\"/>\n       <use x=\"63.623047\" xlink:href=\"#DejaVuSans-35\"/>\n      </g>\n     </g>\n    </g>\n    <g id=\"ytick_5\">\n     <g id=\"line2d_12\">\n      <g>\n       <use style=\"stroke:#000000;stroke-width:0.8;\" x=\"26.925\" xlink:href=\"#m31c6dc0bc7\" y=\"146.899219\"/>\n      </g>\n     </g>\n     <g id=\"text_12\">\n      <!-- 20 -->\n      <g transform=\"translate(7.2 150.698437)scale(0.1 -0.1)\">\n       <use xlink:href=\"#DejaVuSans-32\"/>\n       <use x=\"63.623047\" xlink:href=\"#DejaVuSans-30\"/>\n      </g>\n     </g>\n    </g>\n    <g id=\"ytick_6\">\n     <g id=\"line2d_13\">\n      <g>\n       <use style=\"stroke:#000000;stroke-width:0.8;\" x=\"26.925\" xlink:href=\"#m31c6dc0bc7\" y=\"180.874219\"/>\n      </g>\n     </g>\n     <g id=\"text_13\">\n      <!-- 25 -->\n      <g transform=\"translate(7.2 184.673437)scale(0.1 -0.1)\">\n       <use xlink:href=\"#DejaVuSans-32\"/>\n       <use x=\"63.623047\" xlink:href=\"#DejaVuSans-35\"/>\n      </g>\n     </g>\n    </g>\n    <g id=\"ytick_7\">\n     <g id=\"line2d_14\">\n      <g>\n       <use style=\"stroke:#000000;stroke-width:0.8;\" x=\"26.925\" xlink:href=\"#m31c6dc0bc7\" y=\"214.849219\"/>\n      </g>\n     </g>\n     <g id=\"text_14\">\n      <!-- 30 -->\n      <g transform=\"translate(7.2 218.648437)scale(0.1 -0.1)\">\n       <use xlink:href=\"#DejaVuSans-33\"/>\n       <use x=\"63.623047\" xlink:href=\"#DejaVuSans-30\"/>\n      </g>\n     </g>\n    </g>\n   </g>\n   <g id=\"patch_3\">\n    <path d=\"M 26.925 225.041719 \nL 26.925 7.601719 \n\" style=\"fill:none;stroke:#000000;stroke-linecap:square;stroke-linejoin:miter;stroke-width:0.8;\"/>\n   </g>\n   <g id=\"patch_4\">\n    <path d=\"M 244.365 225.041719 \nL 244.365 7.601719 \n\" style=\"fill:none;stroke:#000000;stroke-linecap:square;stroke-linejoin:miter;stroke-width:0.8;\"/>\n   </g>\n   <g id=\"patch_5\">\n    <path d=\"M 26.925 225.041719 \nL 244.365 225.041719 \n\" style=\"fill:none;stroke:#000000;stroke-linecap:square;stroke-linejoin:miter;stroke-width:0.8;\"/>\n   </g>\n   <g id=\"patch_6\">\n    <path d=\"M 26.925 7.601719 \nL 244.365 7.601719 \n\" style=\"fill:none;stroke:#000000;stroke-linecap:square;stroke-linejoin:miter;stroke-width:0.8;\"/>\n   </g>\n  </g>\n </g>\n <defs>\n  <clipPath id=\"pa0cd62b8bf\">\n   <rect height=\"217.44\" width=\"217.44\" x=\"26.925\" y=\"7.601719\"/>\n  </clipPath>\n </defs>\n</svg>\n",
      "image/png": "[encoded data removed]"
     },
     "metadata": {
      "needs_background": "light"
     }
    }
   ],
   "source": [
    "output = conv(img_t.unsqueeze(0))\n",
    "# [0,0] is indexing the first image in the tensor\n",
    "plt.imshow(output[0, 0].detach())\n",
    "plt.show()"
   ]
  },
  {
   "cell_type": "code",
   "execution_count": 14,
   "metadata": {},
   "outputs": [
    {
     "output_type": "display_data",
     "data": {
      "text/plain": "<Figure size 432x288 with 1 Axes>",
      "image/svg+xml": "<?xml version=\"1.0\" encoding=\"utf-8\" standalone=\"no\"?>\n<!DOCTYPE svg PUBLIC \"-//W3C//DTD SVG 1.1//EN\"\n  \"http://www.w3.org/Graphics/SVG/1.1/DTD/svg11.dtd\">\n<svg height=\"248.518125pt\" version=\"1.1\" viewBox=\"0 0 255.902812 248.518125\" width=\"255.902812pt\" xmlns=\"http://www.w3.org/2000/svg\" xmlns:xlink=\"http://www.w3.org/1999/xlink\">\n <metadata>\n  <rdf:RDF xmlns:cc=\"http://creativecommons.org/ns#\" xmlns:dc=\"http://purl.org/dc/elements/1.1/\" xmlns:rdf=\"http://www.w3.org/1999/02/22-rdf-syntax-ns#\">\n   <cc:Work>\n    <dc:type rdf:resource=\"http://purl.org/dc/dcmitype/StillImage\"/>\n    <dc:date>2021-06-10T17:34:27.278928</dc:date>\n    <dc:format>image/svg+xml</dc:format>\n    <dc:creator>\n     <cc:Agent>\n      <dc:title>Matplotlib v3.4.2, https://matplotlib.org/</dc:title>\n     </cc:Agent>\n    </dc:creator>\n   </cc:Work>\n  </rdf:RDF>\n </metadata>\n <defs>\n  <style type=\"text/css\">*{stroke-linecap:butt;stroke-linejoin:round;}</style>\n </defs>\n <g id=\"figure_1\">\n  <g id=\"patch_1\">\n   <path d=\"M 0 248.518125 \nL 255.902812 248.518125 \nL 255.902812 0 \nL 0 0 \nz\n\" style=\"fill:none;\"/>\n  </g>\n  <g id=\"axes_1\">\n   <g id=\"patch_2\">\n    <path d=\"M 26.925 224.64 \nL 244.365 224.64 \nL 244.365 7.2 \nL 26.925 7.2 \nz\n\" style=\"fill:#ffffff;\"/>\n   </g>\n   <g clip-path=\"url(#p5113eae0e2)\">\n    <image height=\"218\" id=\"image502dc1087b\" transform=\"scale(1 -1)translate(0 -218)\" width=\"218\" x=\"26.925\" xlink:href=\"data:image/png;base64,\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\" y=\"-6.64\"/>\n   </g>\n   <g id=\"matplotlib.axis_1\">\n    <g id=\"xtick_1\">\n     <g id=\"line2d_1\">\n      <defs>\n       <path d=\"M 0 0 \nL 0 3.5 \n\" id=\"m2814744b80\" style=\"stroke:#000000;stroke-width:0.8;\"/>\n      </defs>\n      <g>\n       <use style=\"stroke:#000000;stroke-width:0.8;\" x=\"33.72\" xlink:href=\"#m2814744b80\" y=\"224.64\"/>\n      </g>\n     </g>\n     <g id=\"text_1\">\n      <!-- 0.0 -->\n      <g transform=\"translate(25.768437 239.238437)scale(0.1 -0.1)\">\n       <defs>\n        <path d=\"M 2034 4250 \nQ 1547 4250 1301 3770 \nQ 1056 3291 1056 2328 \nQ 1056 1369 1301 889 \nQ 1547 409 2034 409 \nQ 2525 409 2770 889 \nQ 3016 1369 3016 2328 \nQ 3016 3291 2770 3770 \nQ 2525 4250 2034 4250 \nz\nM 2034 4750 \nQ 2819 4750 3233 4129 \nQ 3647 3509 3647 2328 \nQ 3647 1150 3233 529 \nQ 2819 -91 2034 -91 \nQ 1250 -91 836 529 \nQ 422 1150 422 2328 \nQ 422 3509 836 4129 \nQ 1250 4750 2034 4750 \nz\n\" id=\"DejaVuSans-30\" transform=\"scale(0.015625)\"/>\n        <path d=\"M 684 794 \nL 1344 794 \nL 1344 0 \nL 684 0 \nL 684 794 \nz\n\" id=\"DejaVuSans-2e\" transform=\"scale(0.015625)\"/>\n       </defs>\n       <use xlink:href=\"#DejaVuSans-30\"/>\n       <use x=\"63.623047\" xlink:href=\"#DejaVuSans-2e\"/>\n       <use x=\"95.410156\" xlink:href=\"#DejaVuSans-30\"/>\n      </g>\n     </g>\n    </g>\n    <g id=\"xtick_2\">\n     <g id=\"line2d_2\">\n      <g>\n       <use style=\"stroke:#000000;stroke-width:0.8;\" x=\"67.695\" xlink:href=\"#m2814744b80\" y=\"224.64\"/>\n      </g>\n     </g>\n     <g id=\"text_2\">\n      <!-- 2.5 -->\n      <g transform=\"translate(59.743437 239.238437)scale(0.1 -0.1)\">\n       <defs>\n        <path d=\"M 1228 531 \nL 3431 531 \nL 3431 0 \nL 469 0 \nL 469 531 \nQ 828 903 1448 1529 \nQ 2069 2156 2228 2338 \nQ 2531 2678 2651 2914 \nQ 2772 3150 2772 3378 \nQ 2772 3750 2511 3984 \nQ 2250 4219 1831 4219 \nQ 1534 4219 1204 4116 \nQ 875 4013 500 3803 \nL 500 4441 \nQ 881 4594 1212 4672 \nQ 1544 4750 1819 4750 \nQ 2544 4750 2975 4387 \nQ 3406 4025 3406 3419 \nQ 3406 3131 3298 2873 \nQ 3191 2616 2906 2266 \nQ 2828 2175 2409 1742 \nQ 1991 1309 1228 531 \nz\n\" id=\"DejaVuSans-32\" transform=\"scale(0.015625)\"/>\n        <path d=\"M 691 4666 \nL 3169 4666 \nL 3169 4134 \nL 1269 4134 \nL 1269 2991 \nQ 1406 3038 1543 3061 \nQ 1681 3084 1819 3084 \nQ 2600 3084 3056 2656 \nQ 3513 2228 3513 1497 \nQ 3513 744 3044 326 \nQ 2575 -91 1722 -91 \nQ 1428 -91 1123 -41 \nQ 819 9 494 109 \nL 494 744 \nQ 775 591 1075 516 \nQ 1375 441 1709 441 \nQ 2250 441 2565 725 \nQ 2881 1009 2881 1497 \nQ 2881 1984 2565 2268 \nQ 2250 2553 1709 2553 \nQ 1456 2553 1204 2497 \nQ 953 2441 691 2322 \nL 691 4666 \nz\n\" id=\"DejaVuSans-35\" transform=\"scale(0.015625)\"/>\n       </defs>\n       <use xlink:href=\"#DejaVuSans-32\"/>\n       <use x=\"63.623047\" xlink:href=\"#DejaVuSans-2e\"/>\n       <use x=\"95.410156\" xlink:href=\"#DejaVuSans-35\"/>\n      </g>\n     </g>\n    </g>\n    <g id=\"xtick_3\">\n     <g id=\"line2d_3\">\n      <g>\n       <use style=\"stroke:#000000;stroke-width:0.8;\" x=\"101.67\" xlink:href=\"#m2814744b80\" y=\"224.64\"/>\n      </g>\n     </g>\n     <g id=\"text_3\">\n      <!-- 5.0 -->\n      <g transform=\"translate(93.718438 239.238437)scale(0.1 -0.1)\">\n       <use xlink:href=\"#DejaVuSans-35\"/>\n       <use x=\"63.623047\" xlink:href=\"#DejaVuSans-2e\"/>\n       <use x=\"95.410156\" xlink:href=\"#DejaVuSans-30\"/>\n      </g>\n     </g>\n    </g>\n    <g id=\"xtick_4\">\n     <g id=\"line2d_4\">\n      <g>\n       <use style=\"stroke:#000000;stroke-width:0.8;\" x=\"135.645\" xlink:href=\"#m2814744b80\" y=\"224.64\"/>\n      </g>\n     </g>\n     <g id=\"text_4\">\n      <!-- 7.5 -->\n      <g transform=\"translate(127.693437 239.238437)scale(0.1 -0.1)\">\n       <defs>\n        <path d=\"M 525 4666 \nL 3525 4666 \nL 3525 4397 \nL 1831 0 \nL 1172 0 \nL 2766 4134 \nL 525 4134 \nL 525 4666 \nz\n\" id=\"DejaVuSans-37\" transform=\"scale(0.015625)\"/>\n       </defs>\n       <use xlink:href=\"#DejaVuSans-37\"/>\n       <use x=\"63.623047\" xlink:href=\"#DejaVuSans-2e\"/>\n       <use x=\"95.410156\" xlink:href=\"#DejaVuSans-35\"/>\n      </g>\n     </g>\n    </g>\n    <g id=\"xtick_5\">\n     <g id=\"line2d_5\">\n      <g>\n       <use style=\"stroke:#000000;stroke-width:0.8;\" x=\"169.62\" xlink:href=\"#m2814744b80\" y=\"224.64\"/>\n      </g>\n     </g>\n     <g id=\"text_5\">\n      <!-- 10.0 -->\n      <g transform=\"translate(158.487188 239.238437)scale(0.1 -0.1)\">\n       <defs>\n        <path d=\"M 794 531 \nL 1825 531 \nL 1825 4091 \nL 703 3866 \nL 703 4441 \nL 1819 4666 \nL 2450 4666 \nL 2450 531 \nL 3481 531 \nL 3481 0 \nL 794 0 \nL 794 531 \nz\n\" id=\"DejaVuSans-31\" transform=\"scale(0.015625)\"/>\n       </defs>\n       <use xlink:href=\"#DejaVuSans-31\"/>\n       <use x=\"63.623047\" xlink:href=\"#DejaVuSans-30\"/>\n       <use x=\"127.246094\" xlink:href=\"#DejaVuSans-2e\"/>\n       <use x=\"159.033203\" xlink:href=\"#DejaVuSans-30\"/>\n      </g>\n     </g>\n    </g>\n    <g id=\"xtick_6\">\n     <g id=\"line2d_6\">\n      <g>\n       <use style=\"stroke:#000000;stroke-width:0.8;\" x=\"203.595\" xlink:href=\"#m2814744b80\" y=\"224.64\"/>\n      </g>\n     </g>\n     <g id=\"text_6\">\n      <!-- 12.5 -->\n      <g transform=\"translate(192.462187 239.238437)scale(0.1 -0.1)\">\n       <use xlink:href=\"#DejaVuSans-31\"/>\n       <use x=\"63.623047\" xlink:href=\"#DejaVuSans-32\"/>\n       <use x=\"127.246094\" xlink:href=\"#DejaVuSans-2e\"/>\n       <use x=\"159.033203\" xlink:href=\"#DejaVuSans-35\"/>\n      </g>\n     </g>\n    </g>\n    <g id=\"xtick_7\">\n     <g id=\"line2d_7\">\n      <g>\n       <use style=\"stroke:#000000;stroke-width:0.8;\" x=\"237.57\" xlink:href=\"#m2814744b80\" y=\"224.64\"/>\n      </g>\n     </g>\n     <g id=\"text_7\">\n      <!-- 15.0 -->\n      <g transform=\"translate(226.437187 239.238437)scale(0.1 -0.1)\">\n       <use xlink:href=\"#DejaVuSans-31\"/>\n       <use x=\"63.623047\" xlink:href=\"#DejaVuSans-35\"/>\n       <use x=\"127.246094\" xlink:href=\"#DejaVuSans-2e\"/>\n       <use x=\"159.033203\" xlink:href=\"#DejaVuSans-30\"/>\n      </g>\n     </g>\n    </g>\n   </g>\n   <g id=\"matplotlib.axis_2\">\n    <g id=\"ytick_1\">\n     <g id=\"line2d_8\">\n      <defs>\n       <path d=\"M 0 0 \nL -3.5 0 \n\" id=\"ma8d88226c8\" style=\"stroke:#000000;stroke-width:0.8;\"/>\n      </defs>\n      <g>\n       <use style=\"stroke:#000000;stroke-width:0.8;\" x=\"26.925\" xlink:href=\"#ma8d88226c8\" y=\"13.995\"/>\n      </g>\n     </g>\n     <g id=\"text_8\">\n      <!-- 0 -->\n      <g transform=\"translate(13.5625 17.794219)scale(0.1 -0.1)\">\n       <use xlink:href=\"#DejaVuSans-30\"/>\n      </g>\n     </g>\n    </g>\n    <g id=\"ytick_2\">\n     <g id=\"line2d_9\">\n      <g>\n       <use style=\"stroke:#000000;stroke-width:0.8;\" x=\"26.925\" xlink:href=\"#ma8d88226c8\" y=\"41.175\"/>\n      </g>\n     </g>\n     <g id=\"text_9\">\n      <!-- 2 -->\n      <g transform=\"translate(13.5625 44.974219)scale(0.1 -0.1)\">\n       <use xlink:href=\"#DejaVuSans-32\"/>\n      </g>\n     </g>\n    </g>\n    <g id=\"ytick_3\">\n     <g id=\"line2d_10\">\n      <g>\n       <use style=\"stroke:#000000;stroke-width:0.8;\" x=\"26.925\" xlink:href=\"#ma8d88226c8\" y=\"68.355\"/>\n      </g>\n     </g>\n     <g id=\"text_10\">\n      <!-- 4 -->\n      <g transform=\"translate(13.5625 72.154219)scale(0.1 -0.1)\">\n       <defs>\n        <path d=\"M 2419 4116 \nL 825 1625 \nL 2419 1625 \nL 2419 4116 \nz\nM 2253 4666 \nL 3047 4666 \nL 3047 1625 \nL 3713 1625 \nL 3713 1100 \nL 3047 1100 \nL 3047 0 \nL 2419 0 \nL 2419 1100 \nL 313 1100 \nL 313 1709 \nL 2253 4666 \nz\n\" id=\"DejaVuSans-34\" transform=\"scale(0.015625)\"/>\n       </defs>\n       <use xlink:href=\"#DejaVuSans-34\"/>\n      </g>\n     </g>\n    </g>\n    <g id=\"ytick_4\">\n     <g id=\"line2d_11\">\n      <g>\n       <use style=\"stroke:#000000;stroke-width:0.8;\" x=\"26.925\" xlink:href=\"#ma8d88226c8\" y=\"95.535\"/>\n      </g>\n     </g>\n     <g id=\"text_11\">\n      <!-- 6 -->\n      <g transform=\"translate(13.5625 99.334219)scale(0.1 -0.1)\">\n       <defs>\n        <path d=\"M 2113 2584 \nQ 1688 2584 1439 2293 \nQ 1191 2003 1191 1497 \nQ 1191 994 1439 701 \nQ 1688 409 2113 409 \nQ 2538 409 2786 701 \nQ 3034 994 3034 1497 \nQ 3034 2003 2786 2293 \nQ 2538 2584 2113 2584 \nz\nM 3366 4563 \nL 3366 3988 \nQ 3128 4100 2886 4159 \nQ 2644 4219 2406 4219 \nQ 1781 4219 1451 3797 \nQ 1122 3375 1075 2522 \nQ 1259 2794 1537 2939 \nQ 1816 3084 2150 3084 \nQ 2853 3084 3261 2657 \nQ 3669 2231 3669 1497 \nQ 3669 778 3244 343 \nQ 2819 -91 2113 -91 \nQ 1303 -91 875 529 \nQ 447 1150 447 2328 \nQ 447 3434 972 4092 \nQ 1497 4750 2381 4750 \nQ 2619 4750 2861 4703 \nQ 3103 4656 3366 4563 \nz\n\" id=\"DejaVuSans-36\" transform=\"scale(0.015625)\"/>\n       </defs>\n       <use xlink:href=\"#DejaVuSans-36\"/>\n      </g>\n     </g>\n    </g>\n    <g id=\"ytick_5\">\n     <g id=\"line2d_12\">\n      <g>\n       <use style=\"stroke:#000000;stroke-width:0.8;\" x=\"26.925\" xlink:href=\"#ma8d88226c8\" y=\"122.715\"/>\n      </g>\n     </g>\n     <g id=\"text_12\">\n      <!-- 8 -->\n      <g transform=\"translate(13.5625 126.514219)scale(0.1 -0.1)\">\n       <defs>\n        <path d=\"M 2034 2216 \nQ 1584 2216 1326 1975 \nQ 1069 1734 1069 1313 \nQ 1069 891 1326 650 \nQ 1584 409 2034 409 \nQ 2484 409 2743 651 \nQ 3003 894 3003 1313 \nQ 3003 1734 2745 1975 \nQ 2488 2216 2034 2216 \nz\nM 1403 2484 \nQ 997 2584 770 2862 \nQ 544 3141 544 3541 \nQ 544 4100 942 4425 \nQ 1341 4750 2034 4750 \nQ 2731 4750 3128 4425 \nQ 3525 4100 3525 3541 \nQ 3525 3141 3298 2862 \nQ 3072 2584 2669 2484 \nQ 3125 2378 3379 2068 \nQ 3634 1759 3634 1313 \nQ 3634 634 3220 271 \nQ 2806 -91 2034 -91 \nQ 1263 -91 848 271 \nQ 434 634 434 1313 \nQ 434 1759 690 2068 \nQ 947 2378 1403 2484 \nz\nM 1172 3481 \nQ 1172 3119 1398 2916 \nQ 1625 2713 2034 2713 \nQ 2441 2713 2670 2916 \nQ 2900 3119 2900 3481 \nQ 2900 3844 2670 4047 \nQ 2441 4250 2034 4250 \nQ 1625 4250 1398 4047 \nQ 1172 3844 1172 3481 \nz\n\" id=\"DejaVuSans-38\" transform=\"scale(0.015625)\"/>\n       </defs>\n       <use xlink:href=\"#DejaVuSans-38\"/>\n      </g>\n     </g>\n    </g>\n    <g id=\"ytick_6\">\n     <g id=\"line2d_13\">\n      <g>\n       <use style=\"stroke:#000000;stroke-width:0.8;\" x=\"26.925\" xlink:href=\"#ma8d88226c8\" y=\"149.895\"/>\n      </g>\n     </g>\n     <g id=\"text_13\">\n      <!-- 10 -->\n      <g transform=\"translate(7.2 153.694219)scale(0.1 -0.1)\">\n       <use xlink:href=\"#DejaVuSans-31\"/>\n       <use x=\"63.623047\" xlink:href=\"#DejaVuSans-30\"/>\n      </g>\n     </g>\n    </g>\n    <g id=\"ytick_7\">\n     <g id=\"line2d_14\">\n      <g>\n       <use style=\"stroke:#000000;stroke-width:0.8;\" x=\"26.925\" xlink:href=\"#ma8d88226c8\" y=\"177.075\"/>\n      </g>\n     </g>\n     <g id=\"text_14\">\n      <!-- 12 -->\n      <g transform=\"translate(7.2 180.874219)scale(0.1 -0.1)\">\n       <use xlink:href=\"#DejaVuSans-31\"/>\n       <use x=\"63.623047\" xlink:href=\"#DejaVuSans-32\"/>\n      </g>\n     </g>\n    </g>\n    <g id=\"ytick_8\">\n     <g id=\"line2d_15\">\n      <g>\n       <use style=\"stroke:#000000;stroke-width:0.8;\" x=\"26.925\" xlink:href=\"#ma8d88226c8\" y=\"204.255\"/>\n      </g>\n     </g>\n     <g id=\"text_15\">\n      <!-- 14 -->\n      <g transform=\"translate(7.2 208.054219)scale(0.1 -0.1)\">\n       <use xlink:href=\"#DejaVuSans-31\"/>\n       <use x=\"63.623047\" xlink:href=\"#DejaVuSans-34\"/>\n      </g>\n     </g>\n    </g>\n   </g>\n   <g id=\"patch_3\">\n    <path d=\"M 26.925 224.64 \nL 26.925 7.2 \n\" style=\"fill:none;stroke:#000000;stroke-linecap:square;stroke-linejoin:miter;stroke-width:0.8;\"/>\n   </g>\n   <g id=\"patch_4\">\n    <path d=\"M 244.365 224.64 \nL 244.365 7.2 \n\" style=\"fill:none;stroke:#000000;stroke-linecap:square;stroke-linejoin:miter;stroke-width:0.8;\"/>\n   </g>\n   <g id=\"patch_5\">\n    <path d=\"M 26.925 224.64 \nL 244.365 224.64 \n\" style=\"fill:none;stroke:#000000;stroke-linecap:square;stroke-linejoin:miter;stroke-width:0.8;\"/>\n   </g>\n   <g id=\"patch_6\">\n    <path d=\"M 26.925 7.2 \nL 244.365 7.2 \n\" style=\"fill:none;stroke:#000000;stroke-linecap:square;stroke-linejoin:miter;stroke-width:0.8;\"/>\n   </g>\n  </g>\n </g>\n <defs>\n  <clipPath id=\"p5113eae0e2\">\n   <rect height=\"217.44\" width=\"217.44\" x=\"26.925\" y=\"7.2\"/>\n  </clipPath>\n </defs>\n</svg>\n",
      "image/png": "[encoded data removed]"
     },
     "metadata": {
      "needs_background": "light"
     }
    }
   ],
   "source": [
    "# reduce image size by keeping the max pixel value in a 2x2 neighbourhood- halving the pixels needed\n",
    "pool = nn.MaxPool2d(2)\n",
    "output = pool(img_t.unsqueeze(0))\n",
    "plt.imshow(output[0, 0].detach())\n",
    "plt.show()"
   ]
  },
  {
   "source": [
    "## making the model\n"
   ],
   "cell_type": "markdown",
   "metadata": {}
  },
  {
   "cell_type": "code",
   "execution_count": 29,
   "metadata": {},
   "outputs": [
    {
     "output_type": "execute_result",
     "data": {
      "text/plain": [
       "tensor([[-0.1510,  0.1857]], grad_fn=<AddmmBackward>)"
      ]
     },
     "metadata": {},
     "execution_count": 29
    }
   ],
   "source": [
    "model = nn.Sequential(\n",
    "    nn.Conv2d(3, 16, kernel_size=3, padding=True),\n",
    "    nn.Tanh(), # the nonlinearity makes it a neural network\n",
    "    nn.MaxPool2d(2), #16x16 img\n",
    "    nn.Conv2d(16, 8, kernel_size=3, padding=True),\n",
    "    nn.Tanh(), # the nonlinearity makes it a neural network\n",
    "    nn.MaxPool2d(2), #8x8 img, from 8 kernels => 8x8x8\n",
    "    nn.Flatten(), # make the maxpooling and convolutional layers into a 1d tensor\n",
    "    nn.Linear(8*8*8,32),\n",
    "    nn.Tanh(),\n",
    "    nn.Linear(32, 2)\n",
    "\n",
    ")\n",
    "model(img_t.unsqueeze(0))"
   ]
  },
  {
   "cell_type": "code",
   "execution_count": 30,
   "metadata": {},
   "outputs": [
    {
     "output_type": "execute_result",
     "data": {
      "text/plain": [
       "(18090, [432, 16, 1152, 8, 16384, 32, 64, 2])"
      ]
     },
     "metadata": {},
     "execution_count": 30
    }
   ],
   "source": [
    "numel_list = [p.numel() for p in model.parameters()]\n",
    "sum(numel_list), numel_list"
   ]
  },
  {
   "source": [
    "We can use a `nn.Flatten` layer to make the `8x8x8` tensor `1D` like above, but for finer grained control, let's learn how to create a `nn.Module` class!\n",
    "\n",
    "We define the layers and activations in the `__init__` method, and perform operations on them in the `forward` method"
   ],
   "cell_type": "markdown",
   "metadata": {}
  },
  {
   "cell_type": "code",
   "execution_count": 37,
   "metadata": {},
   "outputs": [],
   "source": [
    "class Net(nn.Module):\n",
    "    def __init__(self):\n",
    "        super().__init__()\n",
    "        self.conv1 = nn.Conv2d(3, 16, kernel_size=3, padding=1)\n",
    "        self.act1 = nn.Tanh() # the nonlinearity makes it a neural network\n",
    "        self.pool1 = nn.MaxPool2d(2) #16x16 img\n",
    "        self.conv2 = nn.Conv2d(16, 8, kernel_size=3, padding=1)\n",
    "        self.act2 = nn.Tanh() # the nonlinearity makes it a neural network\n",
    "        self.pool2 = nn.MaxPool2d(2) #8x8 img, from 8 kernels => 8x8x8\n",
    "        self.fc1 = nn.Linear(8*8*8,32)\n",
    "        self.act3 = nn.Tanh()\n",
    "        self.fc2 = nn.Linear(32, 2)\n",
    "    def forward(self, batch):\n",
    "        # can do more than just chaining in this function!\n",
    "        out = self.pool1(self.act1(self.conv1(batch)))\n",
    "        out = self.pool2(self.act2(self.conv2(out)))\n",
    "        # because we don't know the batch size, let that be -1\n",
    "        out = out.view(-1, 8*8*8) \n",
    "        out = self.act3(self.fc1(out))\n",
    "        out = self.fc2(out)\n",
    "        return out\n",
    "\n",
    "    "
   ]
  },
  {
   "cell_type": "code",
   "execution_count": 38,
   "metadata": {},
   "outputs": [
    {
     "output_type": "execute_result",
     "data": {
      "text/plain": [
       "(18090, [432, 16, 1152, 8, 16384, 32, 64, 2])"
      ]
     },
     "metadata": {},
     "execution_count": 38
    }
   ],
   "source": [
    "# print number of parameters\n",
    "model = Net()\n",
    "numel_list = [p.numel() for p in model.parameters()]\n",
    "sum(numel_list), numel_list"
   ]
  },
  {
   "source": [
    "## pytorch functional api\n",
    "\n",
    "We want to keep the conv and linear layers in the `__init__`, but `TanH` and `pooling` don't have any parameters to train on, so it's annoying to define them in `__init__`\n",
    "\n",
    "We can define them directly in the foward pass with their functional counterparts! (Ones that don't have internal state, but whose outputs are completely determined by the parameters passed into them.)"
   ],
   "cell_type": "markdown",
   "metadata": {}
  },
  {
   "cell_type": "code",
   "execution_count": 44,
   "metadata": {},
   "outputs": [],
   "source": [
    "import torch.nn.functional as F\n",
    "\n",
    "class Net(nn.Module):\n",
    "    def __init__(self):\n",
    "        super().__init__()\n",
    "        self.conv1 = nn.Conv2d(3, 16, kernel_size=3, padding=1)\n",
    "        self.conv2 = nn.Conv2d(16, 8, kernel_size=3, padding=1)\n",
    "        self.fc1 = nn.Linear(8*8*8,32)\n",
    "        self.fc2 = nn.Linear(32, 2)\n",
    "    def forward(self, batch):\n",
    "        # can do more than just chaining in this function!\n",
    "        out = F.max_pool2d(torch.tanh(self.conv1(batch)), 2)\n",
    "        out = F.max_pool2d(torch.tanh(self.conv2(out)),2)\n",
    "        # because we don't know the batch size, let that be -1\n",
    "        out = out.view(-1, 8*8*8) \n",
    "        out = torch.tanh(self.fc1(out))\n",
    "        # recall : a normal linear output + CrossEntropyLoss = LogSoftmax layer output+NLL loss. We simply choose the prior here.\n",
    "        out = self.fc2(out) \n",
    "        return out"
   ]
  },
  {
   "cell_type": "code",
   "execution_count": 45,
   "metadata": {},
   "outputs": [
    {
     "output_type": "execute_result",
     "data": {
      "text/plain": [
       "tensor([[ 0.0510, -0.0993]], grad_fn=<AddmmBackward>)"
      ]
     },
     "metadata": {},
     "execution_count": 45
    }
   ],
   "source": [
    "# print number of parameters\n",
    "model = Net()\n",
    "model(img_t.unsqueeze(0))"
   ]
  },
  {
   "source": [
    "### training"
   ],
   "cell_type": "markdown",
   "metadata": {}
  },
  {
   "cell_type": "code",
   "execution_count": 46,
   "metadata": {},
   "outputs": [],
   "source": [
    "from datetime import datetime\n",
    "\n",
    "def training_loop(n_epochs, optimizer, loss_fn, train_loader):\n",
    "    for i in range(1,n_epochs+1):\n",
    "        train_loss=0\n",
    "        for imgs,labels in train_loader:\n",
    "            optimizer.zero_grad() # to prevent accumulation of gradients in every iteration\n",
    "\n",
    "            predicted_labels = model(imgs)\n",
    "            loss = loss_fn(predicted_labels, labels) \n",
    "            loss.backward() # calc gradients\n",
    "            optimizer.step() # update params\n",
    "            train_loss += loss.item() # .item() makes the 1d tensor a normal number. might be effected by gradients if we dont do that.\n",
    "        if i==1 or i%10==0 :\n",
    "            print(f\"[{datetime.now()}] epoch {i} avg training loss per batch {train_loss/len(train_loader)}\")"
   ]
  },
  {
   "cell_type": "code",
   "execution_count": 48,
   "metadata": {},
   "outputs": [
    {
     "output_type": "stream",
     "name": "stdout",
     "text": [
      "[2021-06-11 11:12:31.494472] epoch 1 avg training loss per batch 0.5828628967142409\n",
      "[2021-06-11 11:12:46.161091] epoch 10 avg training loss per batch 0.32597023580863976\n",
      "[2021-06-11 11:13:03.252651] epoch 20 avg training loss per batch 0.29612610000333967\n",
      "[2021-06-11 11:13:21.214713] epoch 30 avg training loss per batch 0.27039896084624493\n",
      "[2021-06-11 11:13:37.807292] epoch 40 avg training loss per batch 0.2489252023541244\n",
      "[2021-06-11 11:13:54.353593] epoch 50 avg training loss per batch 0.23009411601503943\n",
      "[2021-06-11 11:14:10.785188] epoch 60 avg training loss per batch 0.21378976664250823\n",
      "[2021-06-11 11:14:27.741184] epoch 70 avg training loss per batch 0.19505260291562718\n",
      "[2021-06-11 11:14:43.805959] epoch 80 avg training loss per batch 0.18019832452391363\n",
      "[2021-06-11 11:14:59.957730] epoch 90 avg training loss per batch 0.1649000705427425\n",
      "[2021-06-11 11:15:16.833402] epoch 100 avg training loss per batch 0.15087100032977996\n"
     ]
    }
   ],
   "source": [
    "train_loader = torch.utils.data.DataLoader(cifar2, batch_size=64,shuffle=True)\n",
    "model = Net()\n",
    "optimizer = torch.optim.SGD(model.parameters(), lr=1e-2)\n",
    "loss_fn = nn.CrossEntropyLoss()\n",
    "training_loop(\n",
    "    n_epochs=100,\n",
    "    optimizer=optimizer,\n",
    "    loss_fn=loss_fn,\n",
    "    train_loader=train_loader\n",
    ")"
   ]
  },
  {
   "source": [
    "The training loss doesn't tell us that much. We look at accuracies (predicted vs expected) for the training and validation sets."
   ],
   "cell_type": "markdown",
   "metadata": {}
  },
  {
   "cell_type": "code",
   "execution_count": 66,
   "metadata": {
    "tags": []
   },
   "outputs": [
    {
     "output_type": "stream",
     "name": "stdout",
     "text": [
      "train 0.8941\nval 0.8475\n"
     ]
    }
   ],
   "source": [
    "train_loader = torch.utils.data.DataLoader(cifar2, batch_size=64,shuffle=True)\n",
    "val_loader = torch.utils.data.DataLoader(cifar2_val, batch_size=64,shuffle=True)\n",
    "\n",
    "# go over every batch and compare the predicted vs expected.\n",
    "# keep track of total images we predicted right, divide them by total number of images we have\n",
    "\n",
    "def calculate_accuracy(model, loader):\n",
    "    total = 0\n",
    "    correct=0\n",
    "    for imgs,labels in loader:\n",
    "        # # because the model output is not softmax, we have to convert it to probabilities \n",
    "        # prediction = model(imgs)\n",
    "        # probabilities = [F.softmax(output).tolist() for output in prediction]\n",
    "        # # for each probability pair, we want the index of the max value\n",
    "        # labels_predicted = [l.index(max(l)) for l in probabilities]\n",
    "        # for i, item in enumerate(labels_predicted):\n",
    "        #     total+=1\n",
    "        #     if labels_predicted[i]==labels[i]:\n",
    "        #         correct+=1\n",
    "\n",
    "        # or\n",
    "\n",
    "        prediction = model(imgs)\n",
    "        _, labels_predicted = torch.max(prediction, dim=1) # softmax preserves order, so we don't really have to apply it here. the max result will be the same.\n",
    "        total+=labels.shape[0] # batch size at 0th index\n",
    "        correct += int((labels_predicted==labels).sum()) \n",
    "\n",
    "\n",
    "    return correct/total\n",
    "\n",
    "print(f\"train {calculate_accuracy(model, train_loader)}\")\n",
    "print(f\"val {calculate_accuracy(model, val_loader)}\")\n"
   ]
  },
  {
   "source": [
    "## training on the GPU\n",
    "- As per usual convention, you will have to move the tensors onto the respective device (`gpu` or `cpu`)\n",
    "- we use `.to()`\n",
    "    - `model.to` is _in place_\n",
    "    - `tensor.to` is not, it returns a new tensor on the device\n",
    "    "
   ],
   "cell_type": "markdown",
   "metadata": {}
  },
  {
   "cell_type": "code",
   "execution_count": 68,
   "metadata": {},
   "outputs": [
    {
     "output_type": "execute_result",
     "data": {
      "text/plain": [
       "device(type='cuda')"
      ]
     },
     "metadata": {},
     "execution_count": 68
    }
   ],
   "source": [
    "device = (torch.device('cuda') if torch.cuda.is_available() else torch.device('cpu'))\n",
    "device"
   ]
  },
  {
   "cell_type": "code",
   "execution_count": 69,
   "metadata": {},
   "outputs": [
    {
     "output_type": "stream",
     "name": "stdout",
     "text": [
      "[2021-06-11 15:37:43.310713] epoch 1 avg training loss per batch 0.5513810969082413\n",
      "[2021-06-11 15:37:48.398021] epoch 10 avg training loss per batch 0.3261571797026191\n",
      "[2021-06-11 15:37:54.054740] epoch 20 avg training loss per batch 0.2913062528819795\n",
      "[2021-06-11 15:38:00.339158] epoch 30 avg training loss per batch 0.26688439954238335\n",
      "[2021-06-11 15:38:06.284793] epoch 40 avg training loss per batch 0.24876307463570005\n",
      "[2021-06-11 15:38:11.801687] epoch 50 avg training loss per batch 0.2299839769768867\n",
      "[2021-06-11 15:38:17.289746] epoch 60 avg training loss per batch 0.21285620251089143\n",
      "[2021-06-11 15:38:23.418340] epoch 70 avg training loss per batch 0.20052622951519716\n",
      "[2021-06-11 15:38:28.944768] epoch 80 avg training loss per batch 0.1843588383524281\n",
      "[2021-06-11 15:38:34.717610] epoch 90 avg training loss per batch 0.16894880181569963\n",
      "[2021-06-11 15:38:40.314760] epoch 100 avg training loss per batch 0.15628607575870623\n"
     ]
    }
   ],
   "source": [
    "from datetime import datetime\n",
    "\n",
    "def training_loop(n_epochs, optimizer, loss_fn, train_loader):\n",
    "    for i in range(1,n_epochs+1):\n",
    "        train_loss=0\n",
    "        for imgs,labels in train_loader:\n",
    "            optimizer.zero_grad() \n",
    "            ### move data to gpu (returns a tensor, so reassign)\n",
    "            imgs = imgs.to(device=device)\n",
    "            labels = labels.to(device=device)\n",
    "            ###\n",
    "            predicted_labels = model(imgs)\n",
    "            loss = loss_fn(predicted_labels, labels) \n",
    "            loss.backward() \n",
    "            optimizer.step()\n",
    "            train_loss += loss.item() \n",
    "        if i==1 or i%10==0 :\n",
    "            print(f\"[{datetime.now()}] epoch {i} avg training loss per batch {train_loss/len(train_loader)}\")\n",
    "\n",
    "train_loader = torch.utils.data.DataLoader(cifar2, batch_size=64,shuffle=True)\n",
    "## move model parameters to GPU in place\n",
    "model = Net().to(device=device)\n",
    "optimizer = torch.optim.SGD(model.parameters(), lr=1e-2)\n",
    "loss_fn = nn.CrossEntropyLoss()\n",
    "training_loop(\n",
    "    n_epochs=100,\n",
    "    optimizer=optimizer,\n",
    "    loss_fn=loss_fn,\n",
    "    train_loader=train_loader\n",
    ")"
   ]
  },
  {
   "source": [
    "> we can save models and load it ignoring the device the model was saved from"
   ],
   "cell_type": "markdown",
   "metadata": {}
  },
  {
   "cell_type": "code",
   "execution_count": null,
   "metadata": {},
   "outputs": [],
   "source": []
  }
 ]
}