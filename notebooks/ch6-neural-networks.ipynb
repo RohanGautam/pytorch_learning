{
 "metadata": {
  "language_info": {
   "codemirror_mode": {
    "name": "ipython",
    "version": 3
   },
   "file_extension": ".py",
   "mimetype": "text/x-python",
   "name": "python",
   "nbconvert_exporter": "python",
   "pygments_lexer": "ipython3",
   "version": "3.7.10"
  },
  "orig_nbformat": 2,
  "kernelspec": {
   "name": "python3710jvsc74a57bd0b3e614b3786c960a93b9d5d36e7aaa38532a0ca506246ed178fb5ba00ff82899",
   "display_name": "Python 3.7.10 64-bit ('ml_learning': conda)"
  }
 },
 "nbformat": 4,
 "nbformat_minor": 2,
 "cells": [
  {
   "source": [
    "## Neural networks\n",
    "### mental model of learning\n",
    "![](../images/model_of_learning.png)"
   ],
   "cell_type": "markdown",
   "metadata": {}
  },
  {
   "cell_type": "code",
   "execution_count": 32,
   "metadata": {},
   "outputs": [],
   "source": [
    "import torch\n",
    "import torch.nn as nn\n",
    "import torch.optim as optim"
   ]
  },
  {
   "cell_type": "code",
   "execution_count": 63,
   "metadata": {},
   "outputs": [
    {
     "output_type": "stream",
     "name": "stderr",
     "text": [
      "ipykernel_launcher:9: UserWarning: To copy construct from a tensor, it is recommended to use sourceTensor.clone().detach() or sourceTensor.clone().detach().requires_grad_(True), rather than torch.tensor(sourceTensor).\nipykernel_launcher:10: UserWarning: To copy construct from a tensor, it is recommended to use sourceTensor.clone().detach() or sourceTensor.clone().detach().requires_grad_(True), rather than torch.tensor(sourceTensor).\n"
     ]
    },
    {
     "output_type": "execute_result",
     "data": {
      "text/plain": [
       "(tensor([9, 8, 0, 3, 2, 5, 1, 4, 7]), tensor([10,  6]))"
      ]
     },
     "metadata": {},
     "execution_count": 63
    }
   ],
   "source": [
    "# same example data as chapter 5\n",
    "t_c = torch.tensor([0.5,  14.0, 15.0, 28.0, 11.0,  8.0,  3.0, -4.0,  6.0, 13.0, 21.0]) # in celcius\n",
    "t_u = torch.tensor([35.7, 55.9, 58.2, 81.9, 56.3, 48.9, 33.9, 21.8, 48.4, 60.4, 68.4]) # in unknown unit\n",
    "# This makes the size (11) to (11,1)\n",
    "# basically we added an extra dimension of \"1\" at the end\n",
    "# Pytorch expects batch size at the 0th position\n",
    "# here the batch size is 11 (11 data points) and there is just one feature(the temp). That's why we do that.\n",
    "# WE want to reshape it in that form before passing it to the network, as it expects it in that form.\n",
    "t_c = torch.tensor(t_c).unsqueeze(1)  \n",
    "t_u = torch.tensor(t_u).unsqueeze(1)\n",
    "\n",
    "n_samples = t_u.shape[0]\n",
    "n_val = int(0.2 * n_samples)\n",
    "shuffled_indices = torch.randperm(n_samples)\n",
    "train_indices = shuffled_indices[:-n_val]\n",
    "val_indices = shuffled_indices[-n_val:]\n",
    "\n",
    "train_indices, val_indices"
   ]
  },
  {
   "cell_type": "code",
   "execution_count": 64,
   "metadata": {},
   "outputs": [],
   "source": [
    "t_u_train = t_u[train_indices]\n",
    "t_c_train = t_c[train_indices]\n",
    "\n",
    "t_u_val = t_u[val_indices]\n",
    "t_c_val = t_c[val_indices]\n",
    "\n",
    "t_un_train = 0.1 * t_u_train\n",
    "t_un_val = 0.1 * t_u_val"
   ]
  },
  {
   "cell_type": "code",
   "execution_count": 65,
   "metadata": {},
   "outputs": [
    {
     "output_type": "execute_result",
     "data": {
      "text/plain": [
       "torch.Size([2, 1])"
      ]
     },
     "metadata": {},
     "execution_count": 65
    }
   ],
   "source": [
    "t_un_val.size()"
   ]
  },
  {
   "cell_type": "code",
   "execution_count": 66,
   "metadata": {},
   "outputs": [
    {
     "output_type": "execute_result",
     "data": {
      "text/plain": [
       "tensor([[-5.6589],\n",
       "        [-2.5575]], grad_fn=<AddmmBackward>)"
      ]
     },
     "metadata": {},
     "execution_count": 66
    }
   ],
   "source": [
    "# has a __call__ method defined already, which sets up \"hooks\",ie, things for the forward call to work correctly\n",
    "linear_model = nn.Linear(1,1) #(input and output tensor size)\n",
    "linear_model(t_un_val) # alternative to calling forward with the same arguments"
   ]
  },
  {
   "cell_type": "code",
   "execution_count": 67,
   "metadata": {},
   "outputs": [
    {
     "output_type": "execute_result",
     "data": {
      "text/plain": [
       "Parameter containing:\n",
       "tensor([[-0.8990]], requires_grad=True)"
      ]
     },
     "metadata": {},
     "execution_count": 67
    }
   ],
   "source": [
    "linear_model.weight"
   ]
  },
  {
   "cell_type": "code",
   "execution_count": 68,
   "metadata": {},
   "outputs": [
    {
     "output_type": "execute_result",
     "data": {
      "text/plain": [
       "Parameter containing:\n",
       "tensor([0.4899], requires_grad=True)"
      ]
     },
     "metadata": {},
     "execution_count": 68
    }
   ],
   "source": [
    "linear_model.bias"
   ]
  },
  {
   "cell_type": "code",
   "execution_count": 69,
   "metadata": {},
   "outputs": [
    {
     "output_type": "execute_result",
     "data": {
      "text/plain": [
       "tensor([[-0.4090],\n",
       "        [-0.4090],\n",
       "        [-0.4090],\n",
       "        [-0.4090],\n",
       "        [-0.4090],\n",
       "        [-0.4090],\n",
       "        [-0.4090],\n",
       "        [-0.4090],\n",
       "        [-0.4090],\n",
       "        [-0.4090]], grad_fn=<AddmmBackward>)"
      ]
     },
     "metadata": {},
     "execution_count": 69
    }
   ],
   "source": [
    "# can have results for a batch, where the zeroth dimension withh be the batch size\n",
    "linear_model(torch.ones(10,1))"
   ]
  },
  {
   "source": [
    "## using the linear model\n",
    "- it's in the nn module, but, not a neural network yet.\n",
    "- Even the results we get are the exact same as before."
   ],
   "cell_type": "markdown",
   "metadata": {}
  },
  {
   "cell_type": "code",
   "execution_count": 70,
   "metadata": {},
   "outputs": [],
   "source": [
    "def training_loop(n_epochs, model, optimizer, loss_fn, t_u_train, t_c_train, t_u_val, t_c_val):\n",
    "    for i in range(1, n_epochs+1):\n",
    "        optimizer.zero_grad()\n",
    "\n",
    "        train_predicted = model(t_u_train)\n",
    "        train_loss = loss_fn(train_predicted, t_c_train)\n",
    "        val_loss = loss_fn(model(t_u_val), t_c_val)\n",
    "        train_loss.backward() # calc gradients\n",
    "        optimizer.step() # update parameters\n",
    "\n",
    "        if i%500==0:\n",
    "            print(f\"epoch {i} training loss {train_loss}, validation loss {val_loss}\") "
   ]
  },
  {
   "cell_type": "code",
   "execution_count": 71,
   "metadata": {},
   "outputs": [
    {
     "output_type": "stream",
     "name": "stdout",
     "text": [
      "epoch 500 training loss 8.659355163574219, validation loss 7.074272155761719\n",
      "epoch 1000 training loss 3.8009579181671143, validation loss 4.253093242645264\n",
      "epoch 1500 training loss 2.8559889793395996, validation loss 4.459417343139648\n",
      "epoch 2000 training loss 2.6721911430358887, validation loss 4.8325395584106445\n",
      "epoch 2500 training loss 2.636443614959717, validation loss 5.051978588104248\n",
      "epoch 3000 training loss 2.629490613937378, validation loss 5.159413814544678\n",
      "epoch 3500 training loss 2.6281378269195557, validation loss 5.208893775939941\n",
      "epoch 4000 training loss 2.627875328063965, validation loss 5.231110572814941\n",
      "epoch 4500 training loss 2.627823829650879, validation loss 5.240985870361328\n",
      "epoch 5000 training loss 2.6278128623962402, validation loss 5.2453765869140625\n",
      "[Parameter containing:\n",
      "tensor([[5.4199]], requires_grad=True), Parameter containing:\n",
      "tensor([-17.9863], requires_grad=True)]\n"
     ]
    }
   ],
   "source": [
    "linear_model = nn.Linear(1, 1) # one input and output feature (the temperature)\n",
    "## the optimizer with optimize the params of the linear model\n",
    "optimizer = optim.SGD(linear_model.parameters(), lr=1e-2)\n",
    "\n",
    "training_loop(\n",
    "    n_epochs = 5000,\n",
    "    model = linear_model,\n",
    "    optimizer = optimizer,\n",
    "    loss_fn = nn.MSELoss(), # MSELoss is a class, we instantiate it and pass the function to the loop\n",
    "    t_u_train = t_un_train,\n",
    "    t_c_train = t_c_train,\n",
    "    t_u_val = t_un_val,\n",
    "    t_c_val = t_c_val,\n",
    "\n",
    ")\n",
    "print(list(linear_model.parameters()))"
   ]
  },
  {
   "source": [
    "\n",
    "## Using a neural network!\n",
    "The above example was same as in ch5 - a linear model, ie, a straight line here. But we love them curves out here, so let's get down and dirty with some nonlinearity.\n",
    "\n",
    "Using a neural network wont be better, as the modelling is fundamentally linear. We're just trying it out here.\n",
    "\n"
   ],
   "cell_type": "markdown",
   "metadata": {}
  },
  {
   "cell_type": "code",
   "execution_count": 72,
   "metadata": {},
   "outputs": [
    {
     "output_type": "execute_result",
     "data": {
      "text/plain": [
       "Sequential(\n",
       "  (0): Linear(in_features=1, out_features=13, bias=True)\n",
       "  (1): Tanh()\n",
       "  (2): Linear(in_features=13, out_features=1, bias=True)\n",
       ")"
      ]
     },
     "metadata": {},
     "execution_count": 72
    }
   ],
   "source": [
    "# a simple, stacked neural network. Linear->activation->Linear\n",
    "# we can also name layers by passing an ordereddict!\n",
    "seq_model = nn.Sequential(\n",
    "    nn.Linear(1,13), # 13 could be anything\n",
    "    nn.Tanh(), # this is what adds nonlinearity and makes it a neural network.\n",
    "    nn.Linear(13,1)\n",
    ")\n",
    "seq_model # bias=True means we have the 'c' in y=mx+c in the linear layer"
   ]
  },
  {
   "cell_type": "code",
   "execution_count": 75,
   "metadata": {},
   "outputs": [
    {
     "output_type": "execute_result",
     "data": {
      "text/plain": [
       "[Parameter containing:\n",
       " tensor([[-0.7298],\n",
       "         [ 0.3996],\n",
       "         [ 0.9667],\n",
       "         [ 0.0909],\n",
       "         [ 0.0098],\n",
       "         [-0.5687],\n",
       "         [-0.5159],\n",
       "         [ 0.5618],\n",
       "         [-0.0214],\n",
       "         [ 0.4691],\n",
       "         [ 0.8804],\n",
       "         [ 0.4126],\n",
       "         [ 0.9021]], requires_grad=True),\n",
       " Parameter containing:\n",
       " tensor([ 0.2251,  0.4664, -0.6297,  0.7492, -0.2880,  0.5283,  0.0063, -0.4760,\n",
       "         -0.2166,  0.0279,  0.6899, -0.5994,  0.1109], requires_grad=True),\n",
       " Parameter containing:\n",
       " tensor([[-0.1727, -0.0044,  0.1594, -0.2581, -0.2320, -0.0242, -0.0350, -0.2641,\n",
       "          -0.0302,  0.0539, -0.2353, -0.0251,  0.1418]], requires_grad=True),\n",
       " Parameter containing:\n",
       " tensor([0.0382], requires_grad=True)]"
      ]
     },
     "metadata": {},
     "execution_count": 75
    }
   ],
   "source": [
    "list(seq_model.parameters()) # these are the tensors that the optimizer will get and optimize. note, they all have requires_grad=True"
   ]
  },
  {
   "cell_type": "code",
   "execution_count": 77,
   "metadata": {},
   "outputs": [
    {
     "output_type": "stream",
     "name": "stdout",
     "text": [
      "0.weight torch.Size([13, 1])\n0.bias torch.Size([13])\n2.weight torch.Size([1, 13])\n2.bias torch.Size([1])\n"
     ]
    }
   ],
   "source": [
    "# makes it easy to interpret what the parameters are for\n",
    "for name, param in seq_model.named_parameters():\n",
    "    print(name, param.shape)"
   ]
  },
  {
   "cell_type": "code",
   "execution_count": 80,
   "metadata": {},
   "outputs": [
    {
     "output_type": "stream",
     "name": "stdout",
     "text": [
      "epoch 500 training loss 1.520435094833374, validation loss 4.976808547973633\n",
      "epoch 1000 training loss 1.518537998199463, validation loss 5.0050272941589355\n",
      "epoch 1500 training loss 1.516756534576416, validation loss 5.0323381423950195\n",
      "epoch 2000 training loss 1.5150753259658813, validation loss 5.058743000030518\n",
      "epoch 2500 training loss 1.5134791135787964, validation loss 5.0846076011657715\n",
      "epoch 3000 training loss 1.5119596719741821, validation loss 5.1099443435668945\n",
      "epoch 3500 training loss 1.5105026960372925, validation loss 5.134762287139893\n",
      "epoch 4000 training loss 1.5091010332107544, validation loss 5.159358978271484\n",
      "epoch 4500 training loss 1.5077471733093262, validation loss 5.183654308319092\n",
      "epoch 5000 training loss 1.506432294845581, validation loss 5.207746505737305\n"
     ]
    }
   ],
   "source": [
    "\n",
    "optimizer = optim.SGD(seq_model.parameters(), lr=1e-3)\n",
    "\n",
    "training_loop(\n",
    "    n_epochs = 5000,\n",
    "    model = seq_model,\n",
    "    optimizer = optimizer,\n",
    "    loss_fn = nn.MSELoss(), # MSELoss is a class, we instantiate it and pass the function to the loop\n",
    "    t_u_train = t_un_train,\n",
    "    t_c_train = t_c_train,\n",
    "    t_u_val = t_un_val,\n",
    "    t_c_val = t_c_val,\n",
    "\n",
    ")\n",
    "# print(list(seq_model.parameters())) # note, params not interpretable anymore\n",
    "\n",
    "## if the layers were named with OrderedDict, we could have printed out hidden info like\n",
    "# seq_model.hidden_linear.weight.grad"
   ]
  },
  {
   "source": [
    "### visualize (hint : not a straight line)"
   ],
   "cell_type": "markdown",
   "metadata": {}
  },
  {
   "cell_type": "code",
   "execution_count": 84,
   "metadata": {},
   "outputs": [
    {
     "output_type": "execute_result",
     "data": {
      "text/plain": [
       "[<matplotlib.lines.Line2D at 0x7fb759ad06d0>]"
      ]
     },
     "metadata": {},
     "execution_count": 84
    },
    {
     "output_type": "display_data",
     "data": {
      "text/plain": "<Figure size 432x288 with 1 Axes>",
      "image/svg+xml": "<?xml version=\"1.0\" encoding=\"utf-8\" standalone=\"no\"?>\n<!DOCTYPE svg PUBLIC \"-//W3C//DTD SVG 1.1//EN\"\n  \"http://www.w3.org/Graphics/SVG/1.1/DTD/svg11.dtd\">\n<svg height=\"262.19625pt\" version=\"1.1\" viewBox=\"0 0 384.620313 262.19625\" width=\"384.620313pt\" xmlns=\"http://www.w3.org/2000/svg\" xmlns:xlink=\"http://www.w3.org/1999/xlink\">\n <metadata>\n  <rdf:RDF xmlns:cc=\"http://creativecommons.org/ns#\" xmlns:dc=\"http://purl.org/dc/elements/1.1/\" xmlns:rdf=\"http://www.w3.org/1999/02/22-rdf-syntax-ns#\">\n   <cc:Work>\n    <dc:type rdf:resource=\"http://purl.org/dc/dcmitype/StillImage\"/>\n    <dc:date>2021-06-09T17:05:41.331228</dc:date>\n    <dc:format>image/svg+xml</dc:format>\n    <dc:creator>\n     <cc:Agent>\n      <dc:title>Matplotlib v3.4.2, https://matplotlib.org/</dc:title>\n     </cc:Agent>\n    </dc:creator>\n   </cc:Work>\n  </rdf:RDF>\n </metadata>\n <defs>\n  <style type=\"text/css\">*{stroke-linecap:butt;stroke-linejoin:round;}</style>\n </defs>\n <g id=\"figure_1\">\n  <g id=\"patch_1\">\n   <path d=\"M 0 262.19625 \nL 384.620313 262.19625 \nL 384.620313 0 \nL 0 0 \nz\n\" style=\"fill:none;\"/>\n  </g>\n  <g id=\"axes_1\">\n   <g id=\"patch_2\">\n    <path d=\"M 42.620313 224.64 \nL 377.420313 224.64 \nL 377.420313 7.2 \nL 42.620313 7.2 \nz\n\" style=\"fill:#ffffff;\"/>\n   </g>\n   <g id=\"matplotlib.axis_1\">\n    <g id=\"xtick_1\">\n     <g id=\"line2d_1\">\n      <defs>\n       <path d=\"M 0 0 \nL 0 3.5 \n\" id=\"mfc44849dcc\" style=\"stroke:#000000;stroke-width:0.8;\"/>\n      </defs>\n      <g>\n       <use style=\"stroke:#000000;stroke-width:0.8;\" x=\"57.838494\" xlink:href=\"#mfc44849dcc\" y=\"224.64\"/>\n      </g>\n     </g>\n     <g id=\"text_1\">\n      <!-- 20 -->\n      <g transform=\"translate(51.475994 239.238437)scale(0.1 -0.1)\">\n       <defs>\n        <path d=\"M 1228 531 \nL 3431 531 \nL 3431 0 \nL 469 0 \nL 469 531 \nQ 828 903 1448 1529 \nQ 2069 2156 2228 2338 \nQ 2531 2678 2651 2914 \nQ 2772 3150 2772 3378 \nQ 2772 3750 2511 3984 \nQ 2250 4219 1831 4219 \nQ 1534 4219 1204 4116 \nQ 875 4013 500 3803 \nL 500 4441 \nQ 881 4594 1212 4672 \nQ 1544 4750 1819 4750 \nQ 2544 4750 2975 4387 \nQ 3406 4025 3406 3419 \nQ 3406 3131 3298 2873 \nQ 3191 2616 2906 2266 \nQ 2828 2175 2409 1742 \nQ 1991 1309 1228 531 \nz\n\" id=\"DejaVuSans-32\" transform=\"scale(0.015625)\"/>\n        <path d=\"M 2034 4250 \nQ 1547 4250 1301 3770 \nQ 1056 3291 1056 2328 \nQ 1056 1369 1301 889 \nQ 1547 409 2034 409 \nQ 2525 409 2770 889 \nQ 3016 1369 3016 2328 \nQ 3016 3291 2770 3770 \nQ 2525 4250 2034 4250 \nz\nM 2034 4750 \nQ 2819 4750 3233 4129 \nQ 3647 3509 3647 2328 \nQ 3647 1150 3233 529 \nQ 2819 -91 2034 -91 \nQ 1250 -91 836 529 \nQ 422 1150 422 2328 \nQ 422 3509 836 4129 \nQ 1250 4750 2034 4750 \nz\n\" id=\"DejaVuSans-30\" transform=\"scale(0.015625)\"/>\n       </defs>\n       <use xlink:href=\"#DejaVuSans-32\"/>\n       <use x=\"63.623047\" xlink:href=\"#DejaVuSans-30\"/>\n      </g>\n     </g>\n    </g>\n    <g id=\"xtick_2\">\n     <g id=\"line2d_2\">\n      <g>\n       <use style=\"stroke:#000000;stroke-width:0.8;\" x=\"101.949166\" xlink:href=\"#mfc44849dcc\" y=\"224.64\"/>\n      </g>\n     </g>\n     <g id=\"text_2\">\n      <!-- 30 -->\n      <g transform=\"translate(95.586666 239.238437)scale(0.1 -0.1)\">\n       <defs>\n        <path d=\"M 2597 2516 \nQ 3050 2419 3304 2112 \nQ 3559 1806 3559 1356 \nQ 3559 666 3084 287 \nQ 2609 -91 1734 -91 \nQ 1441 -91 1130 -33 \nQ 819 25 488 141 \nL 488 750 \nQ 750 597 1062 519 \nQ 1375 441 1716 441 \nQ 2309 441 2620 675 \nQ 2931 909 2931 1356 \nQ 2931 1769 2642 2001 \nQ 2353 2234 1838 2234 \nL 1294 2234 \nL 1294 2753 \nL 1863 2753 \nQ 2328 2753 2575 2939 \nQ 2822 3125 2822 3475 \nQ 2822 3834 2567 4026 \nQ 2313 4219 1838 4219 \nQ 1578 4219 1281 4162 \nQ 984 4106 628 3988 \nL 628 4550 \nQ 988 4650 1302 4700 \nQ 1616 4750 1894 4750 \nQ 2613 4750 3031 4423 \nQ 3450 4097 3450 3541 \nQ 3450 3153 3228 2886 \nQ 3006 2619 2597 2516 \nz\n\" id=\"DejaVuSans-33\" transform=\"scale(0.015625)\"/>\n       </defs>\n       <use xlink:href=\"#DejaVuSans-33\"/>\n       <use x=\"63.623047\" xlink:href=\"#DejaVuSans-30\"/>\n      </g>\n     </g>\n    </g>\n    <g id=\"xtick_3\">\n     <g id=\"line2d_3\">\n      <g>\n       <use style=\"stroke:#000000;stroke-width:0.8;\" x=\"146.059838\" xlink:href=\"#mfc44849dcc\" y=\"224.64\"/>\n      </g>\n     </g>\n     <g id=\"text_3\">\n      <!-- 40 -->\n      <g transform=\"translate(139.697338 239.238437)scale(0.1 -0.1)\">\n       <defs>\n        <path d=\"M 2419 4116 \nL 825 1625 \nL 2419 1625 \nL 2419 4116 \nz\nM 2253 4666 \nL 3047 4666 \nL 3047 1625 \nL 3713 1625 \nL 3713 1100 \nL 3047 1100 \nL 3047 0 \nL 2419 0 \nL 2419 1100 \nL 313 1100 \nL 313 1709 \nL 2253 4666 \nz\n\" id=\"DejaVuSans-34\" transform=\"scale(0.015625)\"/>\n       </defs>\n       <use xlink:href=\"#DejaVuSans-34\"/>\n       <use x=\"63.623047\" xlink:href=\"#DejaVuSans-30\"/>\n      </g>\n     </g>\n    </g>\n    <g id=\"xtick_4\">\n     <g id=\"line2d_4\">\n      <g>\n       <use style=\"stroke:#000000;stroke-width:0.8;\" x=\"190.17051\" xlink:href=\"#mfc44849dcc\" y=\"224.64\"/>\n      </g>\n     </g>\n     <g id=\"text_4\">\n      <!-- 50 -->\n      <g transform=\"translate(183.80801 239.238437)scale(0.1 -0.1)\">\n       <defs>\n        <path d=\"M 691 4666 \nL 3169 4666 \nL 3169 4134 \nL 1269 4134 \nL 1269 2991 \nQ 1406 3038 1543 3061 \nQ 1681 3084 1819 3084 \nQ 2600 3084 3056 2656 \nQ 3513 2228 3513 1497 \nQ 3513 744 3044 326 \nQ 2575 -91 1722 -91 \nQ 1428 -91 1123 -41 \nQ 819 9 494 109 \nL 494 744 \nQ 775 591 1075 516 \nQ 1375 441 1709 441 \nQ 2250 441 2565 725 \nQ 2881 1009 2881 1497 \nQ 2881 1984 2565 2268 \nQ 2250 2553 1709 2553 \nQ 1456 2553 1204 2497 \nQ 953 2441 691 2322 \nL 691 4666 \nz\n\" id=\"DejaVuSans-35\" transform=\"scale(0.015625)\"/>\n       </defs>\n       <use xlink:href=\"#DejaVuSans-35\"/>\n       <use x=\"63.623047\" xlink:href=\"#DejaVuSans-30\"/>\n      </g>\n     </g>\n    </g>\n    <g id=\"xtick_5\">\n     <g id=\"line2d_5\">\n      <g>\n       <use style=\"stroke:#000000;stroke-width:0.8;\" x=\"234.281182\" xlink:href=\"#mfc44849dcc\" y=\"224.64\"/>\n      </g>\n     </g>\n     <g id=\"text_5\">\n      <!-- 60 -->\n      <g transform=\"translate(227.918682 239.238437)scale(0.1 -0.1)\">\n       <defs>\n        <path d=\"M 2113 2584 \nQ 1688 2584 1439 2293 \nQ 1191 2003 1191 1497 \nQ 1191 994 1439 701 \nQ 1688 409 2113 409 \nQ 2538 409 2786 701 \nQ 3034 994 3034 1497 \nQ 3034 2003 2786 2293 \nQ 2538 2584 2113 2584 \nz\nM 3366 4563 \nL 3366 3988 \nQ 3128 4100 2886 4159 \nQ 2644 4219 2406 4219 \nQ 1781 4219 1451 3797 \nQ 1122 3375 1075 2522 \nQ 1259 2794 1537 2939 \nQ 1816 3084 2150 3084 \nQ 2853 3084 3261 2657 \nQ 3669 2231 3669 1497 \nQ 3669 778 3244 343 \nQ 2819 -91 2113 -91 \nQ 1303 -91 875 529 \nQ 447 1150 447 2328 \nQ 447 3434 972 4092 \nQ 1497 4750 2381 4750 \nQ 2619 4750 2861 4703 \nQ 3103 4656 3366 4563 \nz\n\" id=\"DejaVuSans-36\" transform=\"scale(0.015625)\"/>\n       </defs>\n       <use xlink:href=\"#DejaVuSans-36\"/>\n       <use x=\"63.623047\" xlink:href=\"#DejaVuSans-30\"/>\n      </g>\n     </g>\n    </g>\n    <g id=\"xtick_6\">\n     <g id=\"line2d_6\">\n      <g>\n       <use style=\"stroke:#000000;stroke-width:0.8;\" x=\"278.391854\" xlink:href=\"#mfc44849dcc\" y=\"224.64\"/>\n      </g>\n     </g>\n     <g id=\"text_6\">\n      <!-- 70 -->\n      <g transform=\"translate(272.029354 239.238437)scale(0.1 -0.1)\">\n       <defs>\n        <path d=\"M 525 4666 \nL 3525 4666 \nL 3525 4397 \nL 1831 0 \nL 1172 0 \nL 2766 4134 \nL 525 4134 \nL 525 4666 \nz\n\" id=\"DejaVuSans-37\" transform=\"scale(0.015625)\"/>\n       </defs>\n       <use xlink:href=\"#DejaVuSans-37\"/>\n       <use x=\"63.623047\" xlink:href=\"#DejaVuSans-30\"/>\n      </g>\n     </g>\n    </g>\n    <g id=\"xtick_7\">\n     <g id=\"line2d_7\">\n      <g>\n       <use style=\"stroke:#000000;stroke-width:0.8;\" x=\"322.502526\" xlink:href=\"#mfc44849dcc\" y=\"224.64\"/>\n      </g>\n     </g>\n     <g id=\"text_7\">\n      <!-- 80 -->\n      <g transform=\"translate(316.140026 239.238437)scale(0.1 -0.1)\">\n       <defs>\n        <path d=\"M 2034 2216 \nQ 1584 2216 1326 1975 \nQ 1069 1734 1069 1313 \nQ 1069 891 1326 650 \nQ 1584 409 2034 409 \nQ 2484 409 2743 651 \nQ 3003 894 3003 1313 \nQ 3003 1734 2745 1975 \nQ 2488 2216 2034 2216 \nz\nM 1403 2484 \nQ 997 2584 770 2862 \nQ 544 3141 544 3541 \nQ 544 4100 942 4425 \nQ 1341 4750 2034 4750 \nQ 2731 4750 3128 4425 \nQ 3525 4100 3525 3541 \nQ 3525 3141 3298 2862 \nQ 3072 2584 2669 2484 \nQ 3125 2378 3379 2068 \nQ 3634 1759 3634 1313 \nQ 3634 634 3220 271 \nQ 2806 -91 2034 -91 \nQ 1263 -91 848 271 \nQ 434 634 434 1313 \nQ 434 1759 690 2068 \nQ 947 2378 1403 2484 \nz\nM 1172 3481 \nQ 1172 3119 1398 2916 \nQ 1625 2713 2034 2713 \nQ 2441 2713 2670 2916 \nQ 2900 3119 2900 3481 \nQ 2900 3844 2670 4047 \nQ 2441 4250 2034 4250 \nQ 1625 4250 1398 4047 \nQ 1172 3844 1172 3481 \nz\n\" id=\"DejaVuSans-38\" transform=\"scale(0.015625)\"/>\n       </defs>\n       <use xlink:href=\"#DejaVuSans-38\"/>\n       <use x=\"63.623047\" xlink:href=\"#DejaVuSans-30\"/>\n      </g>\n     </g>\n    </g>\n    <g id=\"xtick_8\">\n     <g id=\"line2d_8\">\n      <g>\n       <use style=\"stroke:#000000;stroke-width:0.8;\" x=\"366.613198\" xlink:href=\"#mfc44849dcc\" y=\"224.64\"/>\n      </g>\n     </g>\n     <g id=\"text_8\">\n      <!-- 90 -->\n      <g transform=\"translate(360.250698 239.238437)scale(0.1 -0.1)\">\n       <defs>\n        <path d=\"M 703 97 \nL 703 672 \nQ 941 559 1184 500 \nQ 1428 441 1663 441 \nQ 2288 441 2617 861 \nQ 2947 1281 2994 2138 \nQ 2813 1869 2534 1725 \nQ 2256 1581 1919 1581 \nQ 1219 1581 811 2004 \nQ 403 2428 403 3163 \nQ 403 3881 828 4315 \nQ 1253 4750 1959 4750 \nQ 2769 4750 3195 4129 \nQ 3622 3509 3622 2328 \nQ 3622 1225 3098 567 \nQ 2575 -91 1691 -91 \nQ 1453 -91 1209 -44 \nQ 966 3 703 97 \nz\nM 1959 2075 \nQ 2384 2075 2632 2365 \nQ 2881 2656 2881 3163 \nQ 2881 3666 2632 3958 \nQ 2384 4250 1959 4250 \nQ 1534 4250 1286 3958 \nQ 1038 3666 1038 3163 \nQ 1038 2656 1286 2365 \nQ 1534 2075 1959 2075 \nz\n\" id=\"DejaVuSans-39\" transform=\"scale(0.015625)\"/>\n       </defs>\n       <use xlink:href=\"#DejaVuSans-39\"/>\n       <use x=\"63.623047\" xlink:href=\"#DejaVuSans-30\"/>\n      </g>\n     </g>\n    </g>\n    <g id=\"text_9\">\n     <!-- Fahrenheit -->\n     <g transform=\"translate(183.585156 252.916562)scale(0.1 -0.1)\">\n      <defs>\n       <path d=\"M 628 4666 \nL 3309 4666 \nL 3309 4134 \nL 1259 4134 \nL 1259 2759 \nL 3109 2759 \nL 3109 2228 \nL 1259 2228 \nL 1259 0 \nL 628 0 \nL 628 4666 \nz\n\" id=\"DejaVuSans-46\" transform=\"scale(0.015625)\"/>\n       <path d=\"M 2194 1759 \nQ 1497 1759 1228 1600 \nQ 959 1441 959 1056 \nQ 959 750 1161 570 \nQ 1363 391 1709 391 \nQ 2188 391 2477 730 \nQ 2766 1069 2766 1631 \nL 2766 1759 \nL 2194 1759 \nz\nM 3341 1997 \nL 3341 0 \nL 2766 0 \nL 2766 531 \nQ 2569 213 2275 61 \nQ 1981 -91 1556 -91 \nQ 1019 -91 701 211 \nQ 384 513 384 1019 \nQ 384 1609 779 1909 \nQ 1175 2209 1959 2209 \nL 2766 2209 \nL 2766 2266 \nQ 2766 2663 2505 2880 \nQ 2244 3097 1772 3097 \nQ 1472 3097 1187 3025 \nQ 903 2953 641 2809 \nL 641 3341 \nQ 956 3463 1253 3523 \nQ 1550 3584 1831 3584 \nQ 2591 3584 2966 3190 \nQ 3341 2797 3341 1997 \nz\n\" id=\"DejaVuSans-61\" transform=\"scale(0.015625)\"/>\n       <path d=\"M 3513 2113 \nL 3513 0 \nL 2938 0 \nL 2938 2094 \nQ 2938 2591 2744 2837 \nQ 2550 3084 2163 3084 \nQ 1697 3084 1428 2787 \nQ 1159 2491 1159 1978 \nL 1159 0 \nL 581 0 \nL 581 4863 \nL 1159 4863 \nL 1159 2956 \nQ 1366 3272 1645 3428 \nQ 1925 3584 2291 3584 \nQ 2894 3584 3203 3211 \nQ 3513 2838 3513 2113 \nz\n\" id=\"DejaVuSans-68\" transform=\"scale(0.015625)\"/>\n       <path d=\"M 2631 2963 \nQ 2534 3019 2420 3045 \nQ 2306 3072 2169 3072 \nQ 1681 3072 1420 2755 \nQ 1159 2438 1159 1844 \nL 1159 0 \nL 581 0 \nL 581 3500 \nL 1159 3500 \nL 1159 2956 \nQ 1341 3275 1631 3429 \nQ 1922 3584 2338 3584 \nQ 2397 3584 2469 3576 \nQ 2541 3569 2628 3553 \nL 2631 2963 \nz\n\" id=\"DejaVuSans-72\" transform=\"scale(0.015625)\"/>\n       <path d=\"M 3597 1894 \nL 3597 1613 \nL 953 1613 \nQ 991 1019 1311 708 \nQ 1631 397 2203 397 \nQ 2534 397 2845 478 \nQ 3156 559 3463 722 \nL 3463 178 \nQ 3153 47 2828 -22 \nQ 2503 -91 2169 -91 \nQ 1331 -91 842 396 \nQ 353 884 353 1716 \nQ 353 2575 817 3079 \nQ 1281 3584 2069 3584 \nQ 2775 3584 3186 3129 \nQ 3597 2675 3597 1894 \nz\nM 3022 2063 \nQ 3016 2534 2758 2815 \nQ 2500 3097 2075 3097 \nQ 1594 3097 1305 2825 \nQ 1016 2553 972 2059 \nL 3022 2063 \nz\n\" id=\"DejaVuSans-65\" transform=\"scale(0.015625)\"/>\n       <path d=\"M 3513 2113 \nL 3513 0 \nL 2938 0 \nL 2938 2094 \nQ 2938 2591 2744 2837 \nQ 2550 3084 2163 3084 \nQ 1697 3084 1428 2787 \nQ 1159 2491 1159 1978 \nL 1159 0 \nL 581 0 \nL 581 3500 \nL 1159 3500 \nL 1159 2956 \nQ 1366 3272 1645 3428 \nQ 1925 3584 2291 3584 \nQ 2894 3584 3203 3211 \nQ 3513 2838 3513 2113 \nz\n\" id=\"DejaVuSans-6e\" transform=\"scale(0.015625)\"/>\n       <path d=\"M 603 3500 \nL 1178 3500 \nL 1178 0 \nL 603 0 \nL 603 3500 \nz\nM 603 4863 \nL 1178 4863 \nL 1178 4134 \nL 603 4134 \nL 603 4863 \nz\n\" id=\"DejaVuSans-69\" transform=\"scale(0.015625)\"/>\n       <path d=\"M 1172 4494 \nL 1172 3500 \nL 2356 3500 \nL 2356 3053 \nL 1172 3053 \nL 1172 1153 \nQ 1172 725 1289 603 \nQ 1406 481 1766 481 \nL 2356 481 \nL 2356 0 \nL 1766 0 \nQ 1100 0 847 248 \nQ 594 497 594 1153 \nL 594 3053 \nL 172 3053 \nL 172 3500 \nL 594 3500 \nL 594 4494 \nL 1172 4494 \nz\n\" id=\"DejaVuSans-74\" transform=\"scale(0.015625)\"/>\n      </defs>\n      <use xlink:href=\"#DejaVuSans-46\"/>\n      <use x=\"48.394531\" xlink:href=\"#DejaVuSans-61\"/>\n      <use x=\"109.673828\" xlink:href=\"#DejaVuSans-68\"/>\n      <use x=\"173.052734\" xlink:href=\"#DejaVuSans-72\"/>\n      <use x=\"211.916016\" xlink:href=\"#DejaVuSans-65\"/>\n      <use x=\"273.439453\" xlink:href=\"#DejaVuSans-6e\"/>\n      <use x=\"336.818359\" xlink:href=\"#DejaVuSans-68\"/>\n      <use x=\"400.197266\" xlink:href=\"#DejaVuSans-65\"/>\n      <use x=\"461.720703\" xlink:href=\"#DejaVuSans-69\"/>\n      <use x=\"489.503906\" xlink:href=\"#DejaVuSans-74\"/>\n     </g>\n    </g>\n   </g>\n   <g id=\"matplotlib.axis_2\">\n    <g id=\"ytick_1\">\n     <g id=\"line2d_9\">\n      <defs>\n       <path d=\"M 0 0 \nL -3.5 0 \n\" id=\"m4af16c655f\" style=\"stroke:#000000;stroke-width:0.8;\"/>\n      </defs>\n      <g>\n       <use style=\"stroke:#000000;stroke-width:0.8;\" x=\"42.620313\" xlink:href=\"#m4af16c655f\" y=\"216.816275\"/>\n      </g>\n     </g>\n     <g id=\"text_10\">\n      <!-- −5 -->\n      <g transform=\"translate(20.878125 220.615494)scale(0.1 -0.1)\">\n       <defs>\n        <path d=\"M 678 2272 \nL 4684 2272 \nL 4684 1741 \nL 678 1741 \nL 678 2272 \nz\n\" id=\"DejaVuSans-2212\" transform=\"scale(0.015625)\"/>\n       </defs>\n       <use xlink:href=\"#DejaVuSans-2212\"/>\n       <use x=\"83.789062\" xlink:href=\"#DejaVuSans-35\"/>\n      </g>\n     </g>\n    </g>\n    <g id=\"ytick_2\">\n     <g id=\"line2d_10\">\n      <g>\n       <use style=\"stroke:#000000;stroke-width:0.8;\" x=\"42.620313\" xlink:href=\"#m4af16c655f\" y=\"188.675491\"/>\n      </g>\n     </g>\n     <g id=\"text_11\">\n      <!-- 0 -->\n      <g transform=\"translate(29.257813 192.47471)scale(0.1 -0.1)\">\n       <use xlink:href=\"#DejaVuSans-30\"/>\n      </g>\n     </g>\n    </g>\n    <g id=\"ytick_3\">\n     <g id=\"line2d_11\">\n      <g>\n       <use style=\"stroke:#000000;stroke-width:0.8;\" x=\"42.620313\" xlink:href=\"#m4af16c655f\" y=\"160.534706\"/>\n      </g>\n     </g>\n     <g id=\"text_12\">\n      <!-- 5 -->\n      <g transform=\"translate(29.257813 164.333925)scale(0.1 -0.1)\">\n       <use xlink:href=\"#DejaVuSans-35\"/>\n      </g>\n     </g>\n    </g>\n    <g id=\"ytick_4\">\n     <g id=\"line2d_12\">\n      <g>\n       <use style=\"stroke:#000000;stroke-width:0.8;\" x=\"42.620313\" xlink:href=\"#m4af16c655f\" y=\"132.393922\"/>\n      </g>\n     </g>\n     <g id=\"text_13\">\n      <!-- 10 -->\n      <g transform=\"translate(22.895313 136.19314)scale(0.1 -0.1)\">\n       <defs>\n        <path d=\"M 794 531 \nL 1825 531 \nL 1825 4091 \nL 703 3866 \nL 703 4441 \nL 1819 4666 \nL 2450 4666 \nL 2450 531 \nL 3481 531 \nL 3481 0 \nL 794 0 \nL 794 531 \nz\n\" id=\"DejaVuSans-31\" transform=\"scale(0.015625)\"/>\n       </defs>\n       <use xlink:href=\"#DejaVuSans-31\"/>\n       <use x=\"63.623047\" xlink:href=\"#DejaVuSans-30\"/>\n      </g>\n     </g>\n    </g>\n    <g id=\"ytick_5\">\n     <g id=\"line2d_13\">\n      <g>\n       <use style=\"stroke:#000000;stroke-width:0.8;\" x=\"42.620313\" xlink:href=\"#m4af16c655f\" y=\"104.253137\"/>\n      </g>\n     </g>\n     <g id=\"text_14\">\n      <!-- 15 -->\n      <g transform=\"translate(22.895313 108.052356)scale(0.1 -0.1)\">\n       <use xlink:href=\"#DejaVuSans-31\"/>\n       <use x=\"63.623047\" xlink:href=\"#DejaVuSans-35\"/>\n      </g>\n     </g>\n    </g>\n    <g id=\"ytick_6\">\n     <g id=\"line2d_14\">\n      <g>\n       <use style=\"stroke:#000000;stroke-width:0.8;\" x=\"42.620313\" xlink:href=\"#m4af16c655f\" y=\"76.112352\"/>\n      </g>\n     </g>\n     <g id=\"text_15\">\n      <!-- 20 -->\n      <g transform=\"translate(22.895313 79.911571)scale(0.1 -0.1)\">\n       <use xlink:href=\"#DejaVuSans-32\"/>\n       <use x=\"63.623047\" xlink:href=\"#DejaVuSans-30\"/>\n      </g>\n     </g>\n    </g>\n    <g id=\"ytick_7\">\n     <g id=\"line2d_15\">\n      <g>\n       <use style=\"stroke:#000000;stroke-width:0.8;\" x=\"42.620313\" xlink:href=\"#m4af16c655f\" y=\"47.971568\"/>\n      </g>\n     </g>\n     <g id=\"text_16\">\n      <!-- 25 -->\n      <g transform=\"translate(22.895313 51.770786)scale(0.1 -0.1)\">\n       <use xlink:href=\"#DejaVuSans-32\"/>\n       <use x=\"63.623047\" xlink:href=\"#DejaVuSans-35\"/>\n      </g>\n     </g>\n    </g>\n    <g id=\"ytick_8\">\n     <g id=\"line2d_16\">\n      <g>\n       <use style=\"stroke:#000000;stroke-width:0.8;\" x=\"42.620313\" xlink:href=\"#m4af16c655f\" y=\"19.830783\"/>\n      </g>\n     </g>\n     <g id=\"text_17\">\n      <!-- 30 -->\n      <g transform=\"translate(22.895313 23.630002)scale(0.1 -0.1)\">\n       <use xlink:href=\"#DejaVuSans-33\"/>\n       <use x=\"63.623047\" xlink:href=\"#DejaVuSans-30\"/>\n      </g>\n     </g>\n    </g>\n    <g id=\"text_18\">\n     <!-- Celsius -->\n     <g transform=\"translate(14.798438 133.644219)rotate(-90)scale(0.1 -0.1)\">\n      <defs>\n       <path d=\"M 4122 4306 \nL 4122 3641 \nQ 3803 3938 3442 4084 \nQ 3081 4231 2675 4231 \nQ 1875 4231 1450 3742 \nQ 1025 3253 1025 2328 \nQ 1025 1406 1450 917 \nQ 1875 428 2675 428 \nQ 3081 428 3442 575 \nQ 3803 722 4122 1019 \nL 4122 359 \nQ 3791 134 3420 21 \nQ 3050 -91 2638 -91 \nQ 1578 -91 968 557 \nQ 359 1206 359 2328 \nQ 359 3453 968 4101 \nQ 1578 4750 2638 4750 \nQ 3056 4750 3426 4639 \nQ 3797 4528 4122 4306 \nz\n\" id=\"DejaVuSans-43\" transform=\"scale(0.015625)\"/>\n       <path d=\"M 603 4863 \nL 1178 4863 \nL 1178 0 \nL 603 0 \nL 603 4863 \nz\n\" id=\"DejaVuSans-6c\" transform=\"scale(0.015625)\"/>\n       <path d=\"M 2834 3397 \nL 2834 2853 \nQ 2591 2978 2328 3040 \nQ 2066 3103 1784 3103 \nQ 1356 3103 1142 2972 \nQ 928 2841 928 2578 \nQ 928 2378 1081 2264 \nQ 1234 2150 1697 2047 \nL 1894 2003 \nQ 2506 1872 2764 1633 \nQ 3022 1394 3022 966 \nQ 3022 478 2636 193 \nQ 2250 -91 1575 -91 \nQ 1294 -91 989 -36 \nQ 684 19 347 128 \nL 347 722 \nQ 666 556 975 473 \nQ 1284 391 1588 391 \nQ 1994 391 2212 530 \nQ 2431 669 2431 922 \nQ 2431 1156 2273 1281 \nQ 2116 1406 1581 1522 \nL 1381 1569 \nQ 847 1681 609 1914 \nQ 372 2147 372 2553 \nQ 372 3047 722 3315 \nQ 1072 3584 1716 3584 \nQ 2034 3584 2315 3537 \nQ 2597 3491 2834 3397 \nz\n\" id=\"DejaVuSans-73\" transform=\"scale(0.015625)\"/>\n       <path d=\"M 544 1381 \nL 544 3500 \nL 1119 3500 \nL 1119 1403 \nQ 1119 906 1312 657 \nQ 1506 409 1894 409 \nQ 2359 409 2629 706 \nQ 2900 1003 2900 1516 \nL 2900 3500 \nL 3475 3500 \nL 3475 0 \nL 2900 0 \nL 2900 538 \nQ 2691 219 2414 64 \nQ 2138 -91 1772 -91 \nQ 1169 -91 856 284 \nQ 544 659 544 1381 \nz\nM 1991 3584 \nL 1991 3584 \nz\n\" id=\"DejaVuSans-75\" transform=\"scale(0.015625)\"/>\n      </defs>\n      <use xlink:href=\"#DejaVuSans-43\"/>\n      <use x=\"69.824219\" xlink:href=\"#DejaVuSans-65\"/>\n      <use x=\"131.347656\" xlink:href=\"#DejaVuSans-6c\"/>\n      <use x=\"159.130859\" xlink:href=\"#DejaVuSans-73\"/>\n      <use x=\"211.230469\" xlink:href=\"#DejaVuSans-69\"/>\n      <use x=\"239.013672\" xlink:href=\"#DejaVuSans-75\"/>\n      <use x=\"302.392578\" xlink:href=\"#DejaVuSans-73\"/>\n     </g>\n    </g>\n   </g>\n   <g id=\"line2d_17\">\n    <defs>\n     <path d=\"M 0 3 \nC 0.795609 3 1.55874 2.683901 2.12132 2.12132 \nC 2.683901 1.55874 3 0.795609 3 0 \nC 3 -0.795609 2.683901 -1.55874 2.12132 -2.12132 \nC 1.55874 -2.683901 0.795609 -3 0 -3 \nC -0.795609 -3 -1.55874 -2.683901 -2.12132 -2.12132 \nC -2.683901 -1.55874 -3 -0.795609 -3 0 \nC -3 0.795609 -2.683901 1.55874 -2.12132 2.12132 \nC -1.55874 2.683901 -0.795609 3 0 3 \nz\n\" id=\"m4b4687e338\" style=\"stroke:#1f77b4;\"/>\n    </defs>\n    <g clip-path=\"url(#p695ae05d6d)\">\n     <use style=\"fill:#1f77b4;stroke:#1f77b4;\" x=\"127.092253\" xlink:href=\"#m4b4687e338\" y=\"185.861412\"/>\n     <use style=\"fill:#1f77b4;stroke:#1f77b4;\" x=\"216.195813\" xlink:href=\"#m4b4687e338\" y=\"109.881294\"/>\n     <use style=\"fill:#1f77b4;stroke:#1f77b4;\" x=\"226.341264\" xlink:href=\"#m4b4687e338\" y=\"104.253137\"/>\n     <use style=\"fill:#1f77b4;stroke:#1f77b4;\" x=\"330.88356\" xlink:href=\"#m4b4687e338\" y=\"31.087097\"/>\n     <use style=\"fill:#1f77b4;stroke:#1f77b4;\" x=\"217.96023\" xlink:href=\"#m4b4687e338\" y=\"126.765765\"/>\n     <use style=\"fill:#1f77b4;stroke:#1f77b4;\" x=\"185.318343\" xlink:href=\"#m4b4687e338\" y=\"143.650235\"/>\n     <use style=\"fill:#1f77b4;stroke:#1f77b4;\" x=\"119.152335\" xlink:href=\"#m4b4687e338\" y=\"171.79102\"/>\n     <use style=\"fill:#1f77b4;stroke:#1f77b4;\" x=\"65.778412\" xlink:href=\"#m4b4687e338\" y=\"211.188118\"/>\n     <use style=\"fill:#1f77b4;stroke:#1f77b4;\" x=\"183.112809\" xlink:href=\"#m4b4687e338\" y=\"154.906549\"/>\n     <use style=\"fill:#1f77b4;stroke:#1f77b4;\" x=\"236.045616\" xlink:href=\"#m4b4687e338\" y=\"115.509451\"/>\n     <use style=\"fill:#1f77b4;stroke:#1f77b4;\" x=\"271.334153\" xlink:href=\"#m4b4687e338\" y=\"70.484195\"/>\n    </g>\n   </g>\n   <g id=\"line2d_18\">\n    <path clip-path=\"url(#p695ae05d6d)\" d=\"M 57.838494 214.756364 \nL 62.249562 213.201715 \nL 66.660629 211.629751 \nL 71.071696 210.033551 \nL 75.482763 208.406721 \nL 79.89383 206.743266 \nL 84.304897 205.037578 \nL 88.715965 203.284382 \nL 93.127032 201.478694 \nL 97.538099 199.615836 \nL 101.949166 197.691406 \nL 106.360233 195.701301 \nL 110.771301 193.64173 \nL 115.182368 191.509223 \nL 119.593435 189.300669 \nL 124.004502 187.01336 \nL 128.415569 184.645001 \nL 132.826637 182.193772 \nL 137.237704 179.658333 \nL 141.648771 177.037876 \nL 146.059838 174.332147 \nL 150.470905 171.541429 \nL 154.881973 168.666561 \nL 159.29304 165.708983 \nL 163.704107 162.670605 \nL 168.115174 159.553889 \nL 172.526241 156.361707 \nL 176.937309 153.097366 \nL 181.348376 149.764553 \nL 185.759443 146.367217 \nL 190.17051 142.909557 \nL 194.581577 139.395952 \nL 198.992645 135.830922 \nL 203.403712 132.219142 \nL 207.814779 128.565302 \nL 212.225846 124.874191 \nL 216.636913 121.150667 \nL 221.04798 117.399623 \nL 225.459048 113.626127 \nL 229.870115 109.835284 \nL 234.281182 106.032397 \nL 238.692249 102.222896 \nL 243.103316 98.412441 \nL 247.514384 94.606934 \nL 251.925451 90.812451 \nL 256.336518 87.035338 \nL 260.747585 83.282131 \nL 265.158652 79.55953 \nL 269.56972 75.874457 \nL 273.980787 72.233838 \nL 278.391854 68.644638 \nL 282.802921 65.113804 \nL 287.213988 61.648055 \nL 291.625056 58.253983 \nL 296.036123 54.937792 \nL 300.44719 51.705312 \nL 304.858257 48.561845 \nL 309.269324 45.512201 \nL 313.680392 42.560566 \nL 318.091459 39.71044 \nL 322.502526 36.964678 \nL 326.913593 34.325395 \nL 331.32466 31.794084 \nL 335.735728 29.371441 \nL 340.146795 27.057629 \nL 344.557862 24.85212 \nL 348.968929 22.753799 \nL 353.379996 20.761076 \nL 357.791063 18.871849 \nL 362.202131 17.083636 \n\" style=\"fill:none;stroke:#00bfbf;stroke-linecap:square;stroke-width:1.5;\"/>\n   </g>\n   <g id=\"line2d_19\">\n    <defs>\n     <path d=\"M -3 3 \nL 3 -3 \nM -3 -3 \nL 3 3 \n\" id=\"m74cd520479\" style=\"stroke:#000000;\"/>\n    </defs>\n    <g clip-path=\"url(#p695ae05d6d)\">\n     <use style=\"stroke:#000000;\" x=\"127.092253\" xlink:href=\"#m74cd520479\" y=\"185.364132\"/>\n     <use style=\"stroke:#000000;\" x=\"216.195813\" xlink:href=\"#m74cd520479\" y=\"121.524331\"/>\n     <use style=\"stroke:#000000;\" x=\"226.341264\" xlink:href=\"#m74cd520479\" y=\"112.86918\"/>\n     <use style=\"stroke:#000000;\" x=\"330.88356\" xlink:href=\"#m74cd520479\" y=\"32.042317\"/>\n     <use style=\"stroke:#000000;\" x=\"217.96023\" xlink:href=\"#m74cd520479\" y=\"120.02801\"/>\n     <use style=\"stroke:#000000;\" x=\"185.318343\" xlink:href=\"#m74cd520479\" y=\"146.709729\"/>\n     <use style=\"stroke:#000000;\" x=\"119.152335\" xlink:href=\"#m74cd520479\" y=\"189.525026\"/>\n     <use style=\"stroke:#000000;\" x=\"65.778412\" xlink:href=\"#m74cd520479\" y=\"211.945865\"/>\n     <use style=\"stroke:#000000;\" x=\"183.112809\" xlink:href=\"#m74cd520479\" y=\"148.413136\"/>\n     <use style=\"stroke:#000000;\" x=\"236.045616\" xlink:href=\"#m74cd520479\" y=\"104.509056\"/>\n     <use style=\"stroke:#000000;\" x=\"271.334153\" xlink:href=\"#m74cd520479\" y=\"74.412477\"/>\n    </g>\n   </g>\n   <g id=\"patch_3\">\n    <path d=\"M 42.620313 224.64 \nL 42.620313 7.2 \n\" style=\"fill:none;stroke:#000000;stroke-linecap:square;stroke-linejoin:miter;stroke-width:0.8;\"/>\n   </g>\n   <g id=\"patch_4\">\n    <path d=\"M 377.420313 224.64 \nL 377.420313 7.2 \n\" style=\"fill:none;stroke:#000000;stroke-linecap:square;stroke-linejoin:miter;stroke-width:0.8;\"/>\n   </g>\n   <g id=\"patch_5\">\n    <path d=\"M 42.620313 224.64 \nL 377.420313 224.64 \n\" style=\"fill:none;stroke:#000000;stroke-linecap:square;stroke-linejoin:miter;stroke-width:0.8;\"/>\n   </g>\n   <g id=\"patch_6\">\n    <path d=\"M 42.620313 7.2 \nL 377.420313 7.2 \n\" style=\"fill:none;stroke:#000000;stroke-linecap:square;stroke-linejoin:miter;stroke-width:0.8;\"/>\n   </g>\n  </g>\n </g>\n <defs>\n  <clipPath id=\"p695ae05d6d\">\n   <rect height=\"217.44\" width=\"334.8\" x=\"42.620313\" y=\"7.2\"/>\n  </clipPath>\n </defs>\n</svg>\n",
      "image/png": "[encoded data removed]"
     },
     "metadata": {
      "needs_background": "light"
     }
    }
   ],
   "source": [
    "from matplotlib import pyplot as plt\n",
    "t_range = torch.arange(20., 90.).unsqueeze(1)\n",
    "# fig = plt.figure(dpi=600) # higher res and bigger\n",
    "plt.xlabel(\"Fahrenheit\")\n",
    "plt.ylabel(\"Celsius\")\n",
    "plt.plot(t_u.numpy(), t_c.numpy(), 'o')\n",
    "plt.plot(t_range.numpy(), seq_model(0.1 * t_range).detach().numpy(), 'c-')\n",
    "plt.plot(t_u.numpy(), seq_model(0.1 * t_u).detach().numpy(), 'kx')"
   ]
  },
  {
   "source": [],
   "cell_type": "markdown",
   "metadata": {}
  }
 ]
}