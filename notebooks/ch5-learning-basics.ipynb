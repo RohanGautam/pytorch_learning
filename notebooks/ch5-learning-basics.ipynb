{
 "metadata": {
  "language_info": {
   "codemirror_mode": {
    "name": "ipython",
    "version": 3
   },
   "file_extension": ".py",
   "mimetype": "text/x-python",
   "name": "python",
   "nbconvert_exporter": "python",
   "pygments_lexer": "ipython3",
   "version": "3.7.10"
  },
  "orig_nbformat": 2,
  "kernelspec": {
   "name": "python3710jvsc74a57bd0b3e614b3786c960a93b9d5d36e7aaa38532a0ca506246ed178fb5ba00ff82899",
   "display_name": "Python 3.7.10 64-bit ('ml_learning': conda)"
  }
 },
 "nbformat": 4,
 "nbformat_minor": 2,
 "cells": [
  {
   "cell_type": "code",
   "execution_count": 2,
   "metadata": {},
   "outputs": [],
   "source": [
    "import torch\n",
    "import seaborn as sns\n",
    "sns.set_theme(style=\"darkgrid\")"
   ]
  },
  {
   "cell_type": "code",
   "execution_count": 3,
   "metadata": {},
   "outputs": [],
   "source": [
    "t_c = torch.tensor([0.5,  14.0, 15.0, 28.0, 11.0,  8.0,  3.0, -4.0,  6.0, 13.0, 21.0]) # in celcius\n",
    "t_u = torch.tensor([35.7, 55.9, 58.2, 81.9, 56.3, 48.9, 33.9, 21.8, 48.4, 60.4, 68.4]) # in unknown unit"
   ]
  },
  {
   "cell_type": "code",
   "execution_count": 4,
   "metadata": {},
   "outputs": [
    {
     "output_type": "execute_result",
     "data": {
      "text/plain": [
       "<seaborn.axisgrid.FacetGrid at 0x7fa550900cd0>"
      ]
     },
     "metadata": {},
     "execution_count": 4
    },
    {
     "output_type": "display_data",
     "data": {
      "text/plain": "<Figure size 360x360 with 1 Axes>",
      "image/svg+xml": "<?xml version=\"1.0\" encoding=\"utf-8\" standalone=\"no\"?>\n<!DOCTYPE svg PUBLIC \"-//W3C//DTD SVG 1.1//EN\"\n  \"http://www.w3.org/Graphics/SVG/1.1/DTD/svg11.dtd\">\n<svg height=\"349.125937pt\" version=\"1.1\" viewBox=\"0 0 348.4775 349.125937\" width=\"348.4775pt\" xmlns=\"http://www.w3.org/2000/svg\" xmlns:xlink=\"http://www.w3.org/1999/xlink\">\n <metadata>\n  <rdf:RDF xmlns:cc=\"http://creativecommons.org/ns#\" xmlns:dc=\"http://purl.org/dc/elements/1.1/\" xmlns:rdf=\"http://www.w3.org/1999/02/22-rdf-syntax-ns#\">\n   <cc:Work>\n    <dc:type rdf:resource=\"http://purl.org/dc/dcmitype/StillImage\"/>\n    <dc:date>2021-06-08T10:21:40.756118</dc:date>\n    <dc:format>image/svg+xml</dc:format>\n    <dc:creator>\n     <cc:Agent>\n      <dc:title>Matplotlib v3.4.2, https://matplotlib.org/</dc:title>\n     </cc:Agent>\n    </dc:creator>\n   </cc:Work>\n  </rdf:RDF>\n </metadata>\n <defs>\n  <style type=\"text/css\">*{stroke-linecap:butt;stroke-linejoin:round;}</style>\n </defs>\n <g id=\"figure_1\">\n  <g id=\"patch_1\">\n   <path d=\"M 0 349.125937 \nL 348.4775 349.125937 \nL 348.4775 0 \nL 0 0 \nz\n\" style=\"fill:#ffffff;\"/>\n  </g>\n  <g id=\"axes_1\">\n   <g id=\"patch_2\">\n    <path d=\"M 30.6975 321.78 \nL 341.2775 321.78 \nL 341.2775 7.2 \nL 30.6975 7.2 \nz\n\" style=\"fill:#eaeaf2;\"/>\n   </g>\n   <g id=\"matplotlib.axis_1\">\n    <g id=\"xtick_1\">\n     <g id=\"line2d_1\">\n      <path clip-path=\"url(#p94d8721a38)\" d=\"M 35.991477 321.78 \nL 35.991477 7.2 \n\" style=\"fill:none;stroke:#ffffff;stroke-linecap:round;\"/>\n     </g>\n     <g id=\"text_1\">\n      <!-- −5 -->\n      <g style=\"fill:#262626;\" transform=\"translate(27.883274 339.638281)scale(0.11 -0.11)\">\n       <defs>\n        <path d=\"M 678 2272 \nL 4684 2272 \nL 4684 1741 \nL 678 1741 \nL 678 2272 \nz\n\" id=\"DejaVuSans-2212\" transform=\"scale(0.015625)\"/>\n        <path d=\"M 691 4666 \nL 3169 4666 \nL 3169 4134 \nL 1269 4134 \nL 1269 2991 \nQ 1406 3038 1543 3061 \nQ 1681 3084 1819 3084 \nQ 2600 3084 3056 2656 \nQ 3513 2228 3513 1497 \nQ 3513 744 3044 326 \nQ 2575 -91 1722 -91 \nQ 1428 -91 1123 -41 \nQ 819 9 494 109 \nL 494 744 \nQ 775 591 1075 516 \nQ 1375 441 1709 441 \nQ 2250 441 2565 725 \nQ 2881 1009 2881 1497 \nQ 2881 1984 2565 2268 \nQ 2250 2553 1709 2553 \nQ 1456 2553 1204 2497 \nQ 953 2441 691 2322 \nL 691 4666 \nz\n\" id=\"DejaVuSans-35\" transform=\"scale(0.015625)\"/>\n       </defs>\n       <use xlink:href=\"#DejaVuSans-2212\"/>\n       <use x=\"83.789062\" xlink:href=\"#DejaVuSans-35\"/>\n      </g>\n     </g>\n    </g>\n    <g id=\"xtick_2\">\n     <g id=\"line2d_2\">\n      <path clip-path=\"url(#p94d8721a38)\" d=\"M 80.107955 321.78 \nL 80.107955 7.2 \n\" style=\"fill:none;stroke:#ffffff;stroke-linecap:round;\"/>\n     </g>\n     <g id=\"text_2\">\n      <!-- 0 -->\n      <g style=\"fill:#262626;\" transform=\"translate(76.60858 339.638281)scale(0.11 -0.11)\">\n       <defs>\n        <path d=\"M 2034 4250 \nQ 1547 4250 1301 3770 \nQ 1056 3291 1056 2328 \nQ 1056 1369 1301 889 \nQ 1547 409 2034 409 \nQ 2525 409 2770 889 \nQ 3016 1369 3016 2328 \nQ 3016 3291 2770 3770 \nQ 2525 4250 2034 4250 \nz\nM 2034 4750 \nQ 2819 4750 3233 4129 \nQ 3647 3509 3647 2328 \nQ 3647 1150 3233 529 \nQ 2819 -91 2034 -91 \nQ 1250 -91 836 529 \nQ 422 1150 422 2328 \nQ 422 3509 836 4129 \nQ 1250 4750 2034 4750 \nz\n\" id=\"DejaVuSans-30\" transform=\"scale(0.015625)\"/>\n       </defs>\n       <use xlink:href=\"#DejaVuSans-30\"/>\n      </g>\n     </g>\n    </g>\n    <g id=\"xtick_3\">\n     <g id=\"line2d_3\">\n      <path clip-path=\"url(#p94d8721a38)\" d=\"M 124.224432 321.78 \nL 124.224432 7.2 \n\" style=\"fill:none;stroke:#ffffff;stroke-linecap:round;\"/>\n     </g>\n     <g id=\"text_3\">\n      <!-- 5 -->\n      <g style=\"fill:#262626;\" transform=\"translate(120.725057 339.638281)scale(0.11 -0.11)\">\n       <use xlink:href=\"#DejaVuSans-35\"/>\n      </g>\n     </g>\n    </g>\n    <g id=\"xtick_4\">\n     <g id=\"line2d_4\">\n      <path clip-path=\"url(#p94d8721a38)\" d=\"M 168.340909 321.78 \nL 168.340909 7.2 \n\" style=\"fill:none;stroke:#ffffff;stroke-linecap:round;\"/>\n     </g>\n     <g id=\"text_4\">\n      <!-- 10 -->\n      <g style=\"fill:#262626;\" transform=\"translate(161.342159 339.638281)scale(0.11 -0.11)\">\n       <defs>\n        <path d=\"M 794 531 \nL 1825 531 \nL 1825 4091 \nL 703 3866 \nL 703 4441 \nL 1819 4666 \nL 2450 4666 \nL 2450 531 \nL 3481 531 \nL 3481 0 \nL 794 0 \nL 794 531 \nz\n\" id=\"DejaVuSans-31\" transform=\"scale(0.015625)\"/>\n       </defs>\n       <use xlink:href=\"#DejaVuSans-31\"/>\n       <use x=\"63.623047\" xlink:href=\"#DejaVuSans-30\"/>\n      </g>\n     </g>\n    </g>\n    <g id=\"xtick_5\">\n     <g id=\"line2d_5\">\n      <path clip-path=\"url(#p94d8721a38)\" d=\"M 212.457386 321.78 \nL 212.457386 7.2 \n\" style=\"fill:none;stroke:#ffffff;stroke-linecap:round;\"/>\n     </g>\n     <g id=\"text_5\">\n      <!-- 15 -->\n      <g style=\"fill:#262626;\" transform=\"translate(205.458636 339.638281)scale(0.11 -0.11)\">\n       <use xlink:href=\"#DejaVuSans-31\"/>\n       <use x=\"63.623047\" xlink:href=\"#DejaVuSans-35\"/>\n      </g>\n     </g>\n    </g>\n    <g id=\"xtick_6\">\n     <g id=\"line2d_6\">\n      <path clip-path=\"url(#p94d8721a38)\" d=\"M 256.573864 321.78 \nL 256.573864 7.2 \n\" style=\"fill:none;stroke:#ffffff;stroke-linecap:round;\"/>\n     </g>\n     <g id=\"text_6\">\n      <!-- 20 -->\n      <g style=\"fill:#262626;\" transform=\"translate(249.575114 339.638281)scale(0.11 -0.11)\">\n       <defs>\n        <path d=\"M 1228 531 \nL 3431 531 \nL 3431 0 \nL 469 0 \nL 469 531 \nQ 828 903 1448 1529 \nQ 2069 2156 2228 2338 \nQ 2531 2678 2651 2914 \nQ 2772 3150 2772 3378 \nQ 2772 3750 2511 3984 \nQ 2250 4219 1831 4219 \nQ 1534 4219 1204 4116 \nQ 875 4013 500 3803 \nL 500 4441 \nQ 881 4594 1212 4672 \nQ 1544 4750 1819 4750 \nQ 2544 4750 2975 4387 \nQ 3406 4025 3406 3419 \nQ 3406 3131 3298 2873 \nQ 3191 2616 2906 2266 \nQ 2828 2175 2409 1742 \nQ 1991 1309 1228 531 \nz\n\" id=\"DejaVuSans-32\" transform=\"scale(0.015625)\"/>\n       </defs>\n       <use xlink:href=\"#DejaVuSans-32\"/>\n       <use x=\"63.623047\" xlink:href=\"#DejaVuSans-30\"/>\n      </g>\n     </g>\n    </g>\n    <g id=\"xtick_7\">\n     <g id=\"line2d_7\">\n      <path clip-path=\"url(#p94d8721a38)\" d=\"M 300.690341 321.78 \nL 300.690341 7.2 \n\" style=\"fill:none;stroke:#ffffff;stroke-linecap:round;\"/>\n     </g>\n     <g id=\"text_7\">\n      <!-- 25 -->\n      <g style=\"fill:#262626;\" transform=\"translate(293.691591 339.638281)scale(0.11 -0.11)\">\n       <use xlink:href=\"#DejaVuSans-32\"/>\n       <use x=\"63.623047\" xlink:href=\"#DejaVuSans-35\"/>\n      </g>\n     </g>\n    </g>\n   </g>\n   <g id=\"matplotlib.axis_2\">\n    <g id=\"ytick_1\">\n     <g id=\"line2d_8\">\n      <path clip-path=\"url(#p94d8721a38)\" d=\"M 30.6975 316.046084 \nL 341.2775 316.046084 \n\" style=\"fill:none;stroke:#ffffff;stroke-linecap:round;\"/>\n     </g>\n     <g id=\"text_8\">\n      <!-- 20 -->\n      <g style=\"fill:#262626;\" transform=\"translate(7.2 320.225225)scale(0.11 -0.11)\">\n       <use xlink:href=\"#DejaVuSans-32\"/>\n       <use x=\"63.623047\" xlink:href=\"#DejaVuSans-30\"/>\n      </g>\n     </g>\n    </g>\n    <g id=\"ytick_2\">\n     <g id=\"line2d_9\">\n      <path clip-path=\"url(#p94d8721a38)\" d=\"M 30.6975 268.461757 \nL 341.2775 268.461757 \n\" style=\"fill:none;stroke:#ffffff;stroke-linecap:round;\"/>\n     </g>\n     <g id=\"text_9\">\n      <!-- 30 -->\n      <g style=\"fill:#262626;\" transform=\"translate(7.2 272.640898)scale(0.11 -0.11)\">\n       <defs>\n        <path d=\"M 2597 2516 \nQ 3050 2419 3304 2112 \nQ 3559 1806 3559 1356 \nQ 3559 666 3084 287 \nQ 2609 -91 1734 -91 \nQ 1441 -91 1130 -33 \nQ 819 25 488 141 \nL 488 750 \nQ 750 597 1062 519 \nQ 1375 441 1716 441 \nQ 2309 441 2620 675 \nQ 2931 909 2931 1356 \nQ 2931 1769 2642 2001 \nQ 2353 2234 1838 2234 \nL 1294 2234 \nL 1294 2753 \nL 1863 2753 \nQ 2328 2753 2575 2939 \nQ 2822 3125 2822 3475 \nQ 2822 3834 2567 4026 \nQ 2313 4219 1838 4219 \nQ 1578 4219 1281 4162 \nQ 984 4106 628 3988 \nL 628 4550 \nQ 988 4650 1302 4700 \nQ 1616 4750 1894 4750 \nQ 2613 4750 3031 4423 \nQ 3450 4097 3450 3541 \nQ 3450 3153 3228 2886 \nQ 3006 2619 2597 2516 \nz\n\" id=\"DejaVuSans-33\" transform=\"scale(0.015625)\"/>\n       </defs>\n       <use xlink:href=\"#DejaVuSans-33\"/>\n       <use x=\"63.623047\" xlink:href=\"#DejaVuSans-30\"/>\n      </g>\n     </g>\n    </g>\n    <g id=\"ytick_3\">\n     <g id=\"line2d_10\">\n      <path clip-path=\"url(#p94d8721a38)\" d=\"M 30.6975 220.87743 \nL 341.2775 220.87743 \n\" style=\"fill:none;stroke:#ffffff;stroke-linecap:round;\"/>\n     </g>\n     <g id=\"text_10\">\n      <!-- 40 -->\n      <g style=\"fill:#262626;\" transform=\"translate(7.2 225.05657)scale(0.11 -0.11)\">\n       <defs>\n        <path d=\"M 2419 4116 \nL 825 1625 \nL 2419 1625 \nL 2419 4116 \nz\nM 2253 4666 \nL 3047 4666 \nL 3047 1625 \nL 3713 1625 \nL 3713 1100 \nL 3047 1100 \nL 3047 0 \nL 2419 0 \nL 2419 1100 \nL 313 1100 \nL 313 1709 \nL 2253 4666 \nz\n\" id=\"DejaVuSans-34\" transform=\"scale(0.015625)\"/>\n       </defs>\n       <use xlink:href=\"#DejaVuSans-34\"/>\n       <use x=\"63.623047\" xlink:href=\"#DejaVuSans-30\"/>\n      </g>\n     </g>\n    </g>\n    <g id=\"ytick_4\">\n     <g id=\"line2d_11\">\n      <path clip-path=\"url(#p94d8721a38)\" d=\"M 30.6975 173.293102 \nL 341.2775 173.293102 \n\" style=\"fill:none;stroke:#ffffff;stroke-linecap:round;\"/>\n     </g>\n     <g id=\"text_11\">\n      <!-- 50 -->\n      <g style=\"fill:#262626;\" transform=\"translate(7.2 177.472243)scale(0.11 -0.11)\">\n       <use xlink:href=\"#DejaVuSans-35\"/>\n       <use x=\"63.623047\" xlink:href=\"#DejaVuSans-30\"/>\n      </g>\n     </g>\n    </g>\n    <g id=\"ytick_5\">\n     <g id=\"line2d_12\">\n      <path clip-path=\"url(#p94d8721a38)\" d=\"M 30.6975 125.708775 \nL 341.2775 125.708775 \n\" style=\"fill:none;stroke:#ffffff;stroke-linecap:round;\"/>\n     </g>\n     <g id=\"text_12\">\n      <!-- 60 -->\n      <g style=\"fill:#262626;\" transform=\"translate(7.2 129.887916)scale(0.11 -0.11)\">\n       <defs>\n        <path d=\"M 2113 2584 \nQ 1688 2584 1439 2293 \nQ 1191 2003 1191 1497 \nQ 1191 994 1439 701 \nQ 1688 409 2113 409 \nQ 2538 409 2786 701 \nQ 3034 994 3034 1497 \nQ 3034 2003 2786 2293 \nQ 2538 2584 2113 2584 \nz\nM 3366 4563 \nL 3366 3988 \nQ 3128 4100 2886 4159 \nQ 2644 4219 2406 4219 \nQ 1781 4219 1451 3797 \nQ 1122 3375 1075 2522 \nQ 1259 2794 1537 2939 \nQ 1816 3084 2150 3084 \nQ 2853 3084 3261 2657 \nQ 3669 2231 3669 1497 \nQ 3669 778 3244 343 \nQ 2819 -91 2113 -91 \nQ 1303 -91 875 529 \nQ 447 1150 447 2328 \nQ 447 3434 972 4092 \nQ 1497 4750 2381 4750 \nQ 2619 4750 2861 4703 \nQ 3103 4656 3366 4563 \nz\n\" id=\"DejaVuSans-36\" transform=\"scale(0.015625)\"/>\n       </defs>\n       <use xlink:href=\"#DejaVuSans-36\"/>\n       <use x=\"63.623047\" xlink:href=\"#DejaVuSans-30\"/>\n      </g>\n     </g>\n    </g>\n    <g id=\"ytick_6\">\n     <g id=\"line2d_13\">\n      <path clip-path=\"url(#p94d8721a38)\" d=\"M 30.6975 78.124448 \nL 341.2775 78.124448 \n\" style=\"fill:none;stroke:#ffffff;stroke-linecap:round;\"/>\n     </g>\n     <g id=\"text_13\">\n      <!-- 70 -->\n      <g style=\"fill:#262626;\" transform=\"translate(7.2 82.303588)scale(0.11 -0.11)\">\n       <defs>\n        <path d=\"M 525 4666 \nL 3525 4666 \nL 3525 4397 \nL 1831 0 \nL 1172 0 \nL 2766 4134 \nL 525 4134 \nL 525 4666 \nz\n\" id=\"DejaVuSans-37\" transform=\"scale(0.015625)\"/>\n       </defs>\n       <use xlink:href=\"#DejaVuSans-37\"/>\n       <use x=\"63.623047\" xlink:href=\"#DejaVuSans-30\"/>\n      </g>\n     </g>\n    </g>\n    <g id=\"ytick_7\">\n     <g id=\"line2d_14\">\n      <path clip-path=\"url(#p94d8721a38)\" d=\"M 30.6975 30.54012 \nL 341.2775 30.54012 \n\" style=\"fill:none;stroke:#ffffff;stroke-linecap:round;\"/>\n     </g>\n     <g id=\"text_14\">\n      <!-- 80 -->\n      <g style=\"fill:#262626;\" transform=\"translate(7.2 34.719261)scale(0.11 -0.11)\">\n       <defs>\n        <path d=\"M 2034 2216 \nQ 1584 2216 1326 1975 \nQ 1069 1734 1069 1313 \nQ 1069 891 1326 650 \nQ 1584 409 2034 409 \nQ 2484 409 2743 651 \nQ 3003 894 3003 1313 \nQ 3003 1734 2745 1975 \nQ 2488 2216 2034 2216 \nz\nM 1403 2484 \nQ 997 2584 770 2862 \nQ 544 3141 544 3541 \nQ 544 4100 942 4425 \nQ 1341 4750 2034 4750 \nQ 2731 4750 3128 4425 \nQ 3525 4100 3525 3541 \nQ 3525 3141 3298 2862 \nQ 3072 2584 2669 2484 \nQ 3125 2378 3379 2068 \nQ 3634 1759 3634 1313 \nQ 3634 634 3220 271 \nQ 2806 -91 2034 -91 \nQ 1263 -91 848 271 \nQ 434 634 434 1313 \nQ 434 1759 690 2068 \nQ 947 2378 1403 2484 \nz\nM 1172 3481 \nQ 1172 3119 1398 2916 \nQ 1625 2713 2034 2713 \nQ 2441 2713 2670 2916 \nQ 2900 3119 2900 3481 \nQ 2900 3844 2670 4047 \nQ 2441 4250 2034 4250 \nQ 1625 4250 1398 4047 \nQ 1172 3844 1172 3481 \nz\n\" id=\"DejaVuSans-38\" transform=\"scale(0.015625)\"/>\n       </defs>\n       <use xlink:href=\"#DejaVuSans-38\"/>\n       <use x=\"63.623047\" xlink:href=\"#DejaVuSans-30\"/>\n      </g>\n     </g>\n    </g>\n   </g>\n   <g id=\"PathCollection_1\">\n    <defs>\n     <path d=\"M 0 3 \nC 0.795609 3 1.55874 2.683901 2.12132 2.12132 \nC 2.683901 1.55874 3 0.795609 3 0 \nC 3 -0.795609 2.683901 -1.55874 2.12132 -2.12132 \nC 1.55874 -2.683901 0.795609 -3 0 -3 \nC -0.795609 -3 -1.55874 -2.683901 -2.12132 -2.12132 \nC -2.683901 -1.55874 -3 -0.795609 -3 0 \nC -3 0.795609 -2.683901 1.55874 -2.12132 2.12132 \nC -1.55874 2.683901 -0.795609 3 0 3 \nz\n\" id=\"m1f68304233\" style=\"stroke:#ffffff;stroke-width:0.48;\"/>\n    </defs>\n    <g clip-path=\"url(#p94d8721a38)\">\n     <use style=\"fill:#4c72b0;stroke:#ffffff;stroke-width:0.48;\" x=\"84.519602\" xlink:href=\"#m1f68304233\" y=\"241.338687\"/>\n     <use style=\"fill:#4c72b0;stroke:#ffffff;stroke-width:0.48;\" x=\"203.634091\" xlink:href=\"#m1f68304233\" y=\"145.218342\"/>\n     <use style=\"fill:#4c72b0;stroke:#ffffff;stroke-width:0.48;\" x=\"212.457386\" xlink:href=\"#m1f68304233\" y=\"134.27395\"/>\n     <use style=\"fill:#4c72b0;stroke:#ffffff;stroke-width:0.48;\" x=\"327.160227\" xlink:href=\"#m1f68304233\" y=\"21.499091\"/>\n     <use style=\"fill:#4c72b0;stroke:#ffffff;stroke-width:0.48;\" x=\"177.164205\" xlink:href=\"#m1f68304233\" y=\"143.31498\"/>\n     <use style=\"fill:#4c72b0;stroke:#ffffff;stroke-width:0.48;\" x=\"150.694318\" xlink:href=\"#m1f68304233\" y=\"178.527371\"/>\n     <use style=\"fill:#4c72b0;stroke:#ffffff;stroke-width:0.48;\" x=\"106.577841\" xlink:href=\"#m1f68304233\" y=\"249.903862\"/>\n     <use style=\"fill:#4c72b0;stroke:#ffffff;stroke-width:0.48;\" x=\"44.814773\" xlink:href=\"#m1f68304233\" y=\"307.480909\"/>\n     <use style=\"fill:#4c72b0;stroke:#ffffff;stroke-width:0.48;\" x=\"133.047727\" xlink:href=\"#m1f68304233\" y=\"180.906587\"/>\n     <use style=\"fill:#4c72b0;stroke:#ffffff;stroke-width:0.48;\" x=\"194.810795\" xlink:href=\"#m1f68304233\" y=\"123.805395\"/>\n     <use style=\"fill:#4c72b0;stroke:#ffffff;stroke-width:0.48;\" x=\"265.397159\" xlink:href=\"#m1f68304233\" y=\"85.737933\"/>\n    </g>\n   </g>\n   <g id=\"patch_3\">\n    <path d=\"M 30.6975 321.78 \nL 30.6975 7.2 \n\" style=\"fill:none;stroke:#ffffff;stroke-linecap:square;stroke-linejoin:miter;stroke-width:1.25;\"/>\n   </g>\n   <g id=\"patch_4\">\n    <path d=\"M 30.6975 321.78 \nL 341.2775 321.78 \n\" style=\"fill:none;stroke:#ffffff;stroke-linecap:square;stroke-linejoin:miter;stroke-width:1.25;\"/>\n   </g>\n  </g>\n </g>\n <defs>\n  <clipPath id=\"p94d8721a38\">\n   <rect height=\"314.58\" width=\"310.58\" x=\"30.6975\" y=\"7.2\"/>\n  </clipPath>\n </defs>\n</svg>\n",
      "image/png": "[encoded data removed]"
     },
     "metadata": {}
    }
   ],
   "source": [
    "# We want a scatter plot. The relational plot function is more general, and uses a scatter plot as default\n",
    "sns.relplot(x=t_c, y=t_u)"
   ]
  },
  {
   "cell_type": "code",
   "execution_count": 5,
   "metadata": {},
   "outputs": [
    {
     "output_type": "execute_result",
     "data": {
      "text/plain": [
       "<AxesSubplot:>"
      ]
     },
     "metadata": {},
     "execution_count": 5
    },
    {
     "output_type": "display_data",
     "data": {
      "text/plain": "<Figure size 432x288 with 1 Axes>",
      "image/svg+xml": "<?xml version=\"1.0\" encoding=\"utf-8\" standalone=\"no\"?>\n<!DOCTYPE svg PUBLIC \"-//W3C//DTD SVG 1.1//EN\"\n  \"http://www.w3.org/Graphics/SVG/1.1/DTD/svg11.dtd\">\n<svg height=\"251.985937pt\" version=\"1.1\" viewBox=\"0 0 372.6975 251.985937\" width=\"372.6975pt\" xmlns=\"http://www.w3.org/2000/svg\" xmlns:xlink=\"http://www.w3.org/1999/xlink\">\n <metadata>\n  <rdf:RDF xmlns:cc=\"http://creativecommons.org/ns#\" xmlns:dc=\"http://purl.org/dc/elements/1.1/\" xmlns:rdf=\"http://www.w3.org/1999/02/22-rdf-syntax-ns#\">\n   <cc:Work>\n    <dc:type rdf:resource=\"http://purl.org/dc/dcmitype/StillImage\"/>\n    <dc:date>2021-06-08T10:21:41.075056</dc:date>\n    <dc:format>image/svg+xml</dc:format>\n    <dc:creator>\n     <cc:Agent>\n      <dc:title>Matplotlib v3.4.2, https://matplotlib.org/</dc:title>\n     </cc:Agent>\n    </dc:creator>\n   </cc:Work>\n  </rdf:RDF>\n </metadata>\n <defs>\n  <style type=\"text/css\">*{stroke-linecap:butt;stroke-linejoin:round;}</style>\n </defs>\n <g id=\"figure_1\">\n  <g id=\"patch_1\">\n   <path d=\"M 0 251.985937 \nL 372.6975 251.985937 \nL 372.6975 0 \nL 0 0 \nz\n\" style=\"fill:#ffffff;\"/>\n  </g>\n  <g id=\"axes_1\">\n   <g id=\"patch_2\">\n    <path d=\"M 30.6975 224.64 \nL 365.4975 224.64 \nL 365.4975 7.2 \nL 30.6975 7.2 \nz\n\" style=\"fill:#eaeaf2;\"/>\n   </g>\n   <g id=\"matplotlib.axis_1\">\n    <g id=\"xtick_1\">\n     <g id=\"line2d_1\">\n      <path clip-path=\"url(#pd840bf2200)\" d=\"M 72.5475 224.64 \nL 72.5475 7.2 \n\" style=\"fill:none;stroke:#ffffff;stroke-linecap:round;\"/>\n     </g>\n     <g id=\"text_1\">\n      <!-- 0 -->\n      <g style=\"fill:#262626;\" transform=\"translate(69.048125 242.498281)scale(0.11 -0.11)\">\n       <defs>\n        <path d=\"M 2034 4250 \nQ 1547 4250 1301 3770 \nQ 1056 3291 1056 2328 \nQ 1056 1369 1301 889 \nQ 1547 409 2034 409 \nQ 2525 409 2770 889 \nQ 3016 1369 3016 2328 \nQ 3016 3291 2770 3770 \nQ 2525 4250 2034 4250 \nz\nM 2034 4750 \nQ 2819 4750 3233 4129 \nQ 3647 3509 3647 2328 \nQ 3647 1150 3233 529 \nQ 2819 -91 2034 -91 \nQ 1250 -91 836 529 \nQ 422 1150 422 2328 \nQ 422 3509 836 4129 \nQ 1250 4750 2034 4750 \nz\n\" id=\"DejaVuSans-30\" transform=\"scale(0.015625)\"/>\n       </defs>\n       <use xlink:href=\"#DejaVuSans-30\"/>\n      </g>\n     </g>\n    </g>\n    <g id=\"xtick_2\">\n     <g id=\"line2d_2\">\n      <path clip-path=\"url(#pd840bf2200)\" d=\"M 124.86 224.64 \nL 124.86 7.2 \n\" style=\"fill:none;stroke:#ffffff;stroke-linecap:round;\"/>\n     </g>\n     <g id=\"text_2\">\n      <!-- 5 -->\n      <g style=\"fill:#262626;\" transform=\"translate(121.360625 242.498281)scale(0.11 -0.11)\">\n       <defs>\n        <path d=\"M 691 4666 \nL 3169 4666 \nL 3169 4134 \nL 1269 4134 \nL 1269 2991 \nQ 1406 3038 1543 3061 \nQ 1681 3084 1819 3084 \nQ 2600 3084 3056 2656 \nQ 3513 2228 3513 1497 \nQ 3513 744 3044 326 \nQ 2575 -91 1722 -91 \nQ 1428 -91 1123 -41 \nQ 819 9 494 109 \nL 494 744 \nQ 775 591 1075 516 \nQ 1375 441 1709 441 \nQ 2250 441 2565 725 \nQ 2881 1009 2881 1497 \nQ 2881 1984 2565 2268 \nQ 2250 2553 1709 2553 \nQ 1456 2553 1204 2497 \nQ 953 2441 691 2322 \nL 691 4666 \nz\n\" id=\"DejaVuSans-35\" transform=\"scale(0.015625)\"/>\n       </defs>\n       <use xlink:href=\"#DejaVuSans-35\"/>\n      </g>\n     </g>\n    </g>\n    <g id=\"xtick_3\">\n     <g id=\"line2d_3\">\n      <path clip-path=\"url(#pd840bf2200)\" d=\"M 177.1725 224.64 \nL 177.1725 7.2 \n\" style=\"fill:none;stroke:#ffffff;stroke-linecap:round;\"/>\n     </g>\n     <g id=\"text_3\">\n      <!-- 10 -->\n      <g style=\"fill:#262626;\" transform=\"translate(170.17375 242.498281)scale(0.11 -0.11)\">\n       <defs>\n        <path d=\"M 794 531 \nL 1825 531 \nL 1825 4091 \nL 703 3866 \nL 703 4441 \nL 1819 4666 \nL 2450 4666 \nL 2450 531 \nL 3481 531 \nL 3481 0 \nL 794 0 \nL 794 531 \nz\n\" id=\"DejaVuSans-31\" transform=\"scale(0.015625)\"/>\n       </defs>\n       <use xlink:href=\"#DejaVuSans-31\"/>\n       <use x=\"63.623047\" xlink:href=\"#DejaVuSans-30\"/>\n      </g>\n     </g>\n    </g>\n    <g id=\"xtick_4\">\n     <g id=\"line2d_4\">\n      <path clip-path=\"url(#pd840bf2200)\" d=\"M 229.485 224.64 \nL 229.485 7.2 \n\" style=\"fill:none;stroke:#ffffff;stroke-linecap:round;\"/>\n     </g>\n     <g id=\"text_4\">\n      <!-- 15 -->\n      <g style=\"fill:#262626;\" transform=\"translate(222.48625 242.498281)scale(0.11 -0.11)\">\n       <use xlink:href=\"#DejaVuSans-31\"/>\n       <use x=\"63.623047\" xlink:href=\"#DejaVuSans-35\"/>\n      </g>\n     </g>\n    </g>\n    <g id=\"xtick_5\">\n     <g id=\"line2d_5\">\n      <path clip-path=\"url(#pd840bf2200)\" d=\"M 281.7975 224.64 \nL 281.7975 7.2 \n\" style=\"fill:none;stroke:#ffffff;stroke-linecap:round;\"/>\n     </g>\n     <g id=\"text_5\">\n      <!-- 20 -->\n      <g style=\"fill:#262626;\" transform=\"translate(274.79875 242.498281)scale(0.11 -0.11)\">\n       <defs>\n        <path d=\"M 1228 531 \nL 3431 531 \nL 3431 0 \nL 469 0 \nL 469 531 \nQ 828 903 1448 1529 \nQ 2069 2156 2228 2338 \nQ 2531 2678 2651 2914 \nQ 2772 3150 2772 3378 \nQ 2772 3750 2511 3984 \nQ 2250 4219 1831 4219 \nQ 1534 4219 1204 4116 \nQ 875 4013 500 3803 \nL 500 4441 \nQ 881 4594 1212 4672 \nQ 1544 4750 1819 4750 \nQ 2544 4750 2975 4387 \nQ 3406 4025 3406 3419 \nQ 3406 3131 3298 2873 \nQ 3191 2616 2906 2266 \nQ 2828 2175 2409 1742 \nQ 1991 1309 1228 531 \nz\n\" id=\"DejaVuSans-32\" transform=\"scale(0.015625)\"/>\n       </defs>\n       <use xlink:href=\"#DejaVuSans-32\"/>\n       <use x=\"63.623047\" xlink:href=\"#DejaVuSans-30\"/>\n      </g>\n     </g>\n    </g>\n    <g id=\"xtick_6\">\n     <g id=\"line2d_6\">\n      <path clip-path=\"url(#pd840bf2200)\" d=\"M 334.11 224.64 \nL 334.11 7.2 \n\" style=\"fill:none;stroke:#ffffff;stroke-linecap:round;\"/>\n     </g>\n     <g id=\"text_6\">\n      <!-- 25 -->\n      <g style=\"fill:#262626;\" transform=\"translate(327.11125 242.498281)scale(0.11 -0.11)\">\n       <use xlink:href=\"#DejaVuSans-32\"/>\n       <use x=\"63.623047\" xlink:href=\"#DejaVuSans-35\"/>\n      </g>\n     </g>\n    </g>\n   </g>\n   <g id=\"matplotlib.axis_2\">\n    <g id=\"ytick_1\">\n     <g id=\"line2d_7\">\n      <path clip-path=\"url(#pd840bf2200)\" d=\"M 30.6975 220.04987 \nL 365.4975 220.04987 \n\" style=\"fill:none;stroke:#ffffff;stroke-linecap:round;\"/>\n     </g>\n     <g id=\"text_7\">\n      <!-- 20 -->\n      <g style=\"fill:#262626;\" transform=\"translate(7.2 224.22901)scale(0.11 -0.11)\">\n       <use xlink:href=\"#DejaVuSans-32\"/>\n       <use x=\"63.623047\" xlink:href=\"#DejaVuSans-30\"/>\n      </g>\n     </g>\n    </g>\n    <g id=\"ytick_2\">\n     <g id=\"line2d_8\">\n      <path clip-path=\"url(#pd840bf2200)\" d=\"M 30.6975 190.641491 \nL 365.4975 190.641491 \n\" style=\"fill:none;stroke:#ffffff;stroke-linecap:round;\"/>\n     </g>\n     <g id=\"text_8\">\n      <!-- 30 -->\n      <g style=\"fill:#262626;\" transform=\"translate(7.2 194.820631)scale(0.11 -0.11)\">\n       <defs>\n        <path d=\"M 2597 2516 \nQ 3050 2419 3304 2112 \nQ 3559 1806 3559 1356 \nQ 3559 666 3084 287 \nQ 2609 -91 1734 -91 \nQ 1441 -91 1130 -33 \nQ 819 25 488 141 \nL 488 750 \nQ 750 597 1062 519 \nQ 1375 441 1716 441 \nQ 2309 441 2620 675 \nQ 2931 909 2931 1356 \nQ 2931 1769 2642 2001 \nQ 2353 2234 1838 2234 \nL 1294 2234 \nL 1294 2753 \nL 1863 2753 \nQ 2328 2753 2575 2939 \nQ 2822 3125 2822 3475 \nQ 2822 3834 2567 4026 \nQ 2313 4219 1838 4219 \nQ 1578 4219 1281 4162 \nQ 984 4106 628 3988 \nL 628 4550 \nQ 988 4650 1302 4700 \nQ 1616 4750 1894 4750 \nQ 2613 4750 3031 4423 \nQ 3450 4097 3450 3541 \nQ 3450 3153 3228 2886 \nQ 3006 2619 2597 2516 \nz\n\" id=\"DejaVuSans-33\" transform=\"scale(0.015625)\"/>\n       </defs>\n       <use xlink:href=\"#DejaVuSans-33\"/>\n       <use x=\"63.623047\" xlink:href=\"#DejaVuSans-30\"/>\n      </g>\n     </g>\n    </g>\n    <g id=\"ytick_3\">\n     <g id=\"line2d_9\">\n      <path clip-path=\"url(#pd840bf2200)\" d=\"M 30.6975 161.233112 \nL 365.4975 161.233112 \n\" style=\"fill:none;stroke:#ffffff;stroke-linecap:round;\"/>\n     </g>\n     <g id=\"text_9\">\n      <!-- 40 -->\n      <g style=\"fill:#262626;\" transform=\"translate(7.2 165.412253)scale(0.11 -0.11)\">\n       <defs>\n        <path d=\"M 2419 4116 \nL 825 1625 \nL 2419 1625 \nL 2419 4116 \nz\nM 2253 4666 \nL 3047 4666 \nL 3047 1625 \nL 3713 1625 \nL 3713 1100 \nL 3047 1100 \nL 3047 0 \nL 2419 0 \nL 2419 1100 \nL 313 1100 \nL 313 1709 \nL 2253 4666 \nz\n\" id=\"DejaVuSans-34\" transform=\"scale(0.015625)\"/>\n       </defs>\n       <use xlink:href=\"#DejaVuSans-34\"/>\n       <use x=\"63.623047\" xlink:href=\"#DejaVuSans-30\"/>\n      </g>\n     </g>\n    </g>\n    <g id=\"ytick_4\">\n     <g id=\"line2d_10\">\n      <path clip-path=\"url(#pd840bf2200)\" d=\"M 30.6975 131.824733 \nL 365.4975 131.824733 \n\" style=\"fill:none;stroke:#ffffff;stroke-linecap:round;\"/>\n     </g>\n     <g id=\"text_10\">\n      <!-- 50 -->\n      <g style=\"fill:#262626;\" transform=\"translate(7.2 136.003874)scale(0.11 -0.11)\">\n       <use xlink:href=\"#DejaVuSans-35\"/>\n       <use x=\"63.623047\" xlink:href=\"#DejaVuSans-30\"/>\n      </g>\n     </g>\n    </g>\n    <g id=\"ytick_5\">\n     <g id=\"line2d_11\">\n      <path clip-path=\"url(#pd840bf2200)\" d=\"M 30.6975 102.416354 \nL 365.4975 102.416354 \n\" style=\"fill:none;stroke:#ffffff;stroke-linecap:round;\"/>\n     </g>\n     <g id=\"text_11\">\n      <!-- 60 -->\n      <g style=\"fill:#262626;\" transform=\"translate(7.2 106.595495)scale(0.11 -0.11)\">\n       <defs>\n        <path d=\"M 2113 2584 \nQ 1688 2584 1439 2293 \nQ 1191 2003 1191 1497 \nQ 1191 994 1439 701 \nQ 1688 409 2113 409 \nQ 2538 409 2786 701 \nQ 3034 994 3034 1497 \nQ 3034 2003 2786 2293 \nQ 2538 2584 2113 2584 \nz\nM 3366 4563 \nL 3366 3988 \nQ 3128 4100 2886 4159 \nQ 2644 4219 2406 4219 \nQ 1781 4219 1451 3797 \nQ 1122 3375 1075 2522 \nQ 1259 2794 1537 2939 \nQ 1816 3084 2150 3084 \nQ 2853 3084 3261 2657 \nQ 3669 2231 3669 1497 \nQ 3669 778 3244 343 \nQ 2819 -91 2113 -91 \nQ 1303 -91 875 529 \nQ 447 1150 447 2328 \nQ 447 3434 972 4092 \nQ 1497 4750 2381 4750 \nQ 2619 4750 2861 4703 \nQ 3103 4656 3366 4563 \nz\n\" id=\"DejaVuSans-36\" transform=\"scale(0.015625)\"/>\n       </defs>\n       <use xlink:href=\"#DejaVuSans-36\"/>\n       <use x=\"63.623047\" xlink:href=\"#DejaVuSans-30\"/>\n      </g>\n     </g>\n    </g>\n    <g id=\"ytick_6\">\n     <g id=\"line2d_12\">\n      <path clip-path=\"url(#pd840bf2200)\" d=\"M 30.6975 73.007975 \nL 365.4975 73.007975 \n\" style=\"fill:none;stroke:#ffffff;stroke-linecap:round;\"/>\n     </g>\n     <g id=\"text_12\">\n      <!-- 70 -->\n      <g style=\"fill:#262626;\" transform=\"translate(7.2 77.187116)scale(0.11 -0.11)\">\n       <defs>\n        <path d=\"M 525 4666 \nL 3525 4666 \nL 3525 4397 \nL 1831 0 \nL 1172 0 \nL 2766 4134 \nL 525 4134 \nL 525 4666 \nz\n\" id=\"DejaVuSans-37\" transform=\"scale(0.015625)\"/>\n       </defs>\n       <use xlink:href=\"#DejaVuSans-37\"/>\n       <use x=\"63.623047\" xlink:href=\"#DejaVuSans-30\"/>\n      </g>\n     </g>\n    </g>\n    <g id=\"ytick_7\">\n     <g id=\"line2d_13\">\n      <path clip-path=\"url(#pd840bf2200)\" d=\"M 30.6975 43.599597 \nL 365.4975 43.599597 \n\" style=\"fill:none;stroke:#ffffff;stroke-linecap:round;\"/>\n     </g>\n     <g id=\"text_13\">\n      <!-- 80 -->\n      <g style=\"fill:#262626;\" transform=\"translate(7.2 47.778737)scale(0.11 -0.11)\">\n       <defs>\n        <path d=\"M 2034 2216 \nQ 1584 2216 1326 1975 \nQ 1069 1734 1069 1313 \nQ 1069 891 1326 650 \nQ 1584 409 2034 409 \nQ 2484 409 2743 651 \nQ 3003 894 3003 1313 \nQ 3003 1734 2745 1975 \nQ 2488 2216 2034 2216 \nz\nM 1403 2484 \nQ 997 2584 770 2862 \nQ 544 3141 544 3541 \nQ 544 4100 942 4425 \nQ 1341 4750 2034 4750 \nQ 2731 4750 3128 4425 \nQ 3525 4100 3525 3541 \nQ 3525 3141 3298 2862 \nQ 3072 2584 2669 2484 \nQ 3125 2378 3379 2068 \nQ 3634 1759 3634 1313 \nQ 3634 634 3220 271 \nQ 2806 -91 2034 -91 \nQ 1263 -91 848 271 \nQ 434 634 434 1313 \nQ 434 1759 690 2068 \nQ 947 2378 1403 2484 \nz\nM 1172 3481 \nQ 1172 3119 1398 2916 \nQ 1625 2713 2034 2713 \nQ 2441 2713 2670 2916 \nQ 2900 3119 2900 3481 \nQ 2900 3844 2670 4047 \nQ 2441 4250 2034 4250 \nQ 1625 4250 1398 4047 \nQ 1172 3844 1172 3481 \nz\n\" id=\"DejaVuSans-38\" transform=\"scale(0.015625)\"/>\n       </defs>\n       <use xlink:href=\"#DejaVuSans-38\"/>\n       <use x=\"63.623047\" xlink:href=\"#DejaVuSans-30\"/>\n      </g>\n     </g>\n    </g>\n    <g id=\"ytick_8\">\n     <g id=\"line2d_14\">\n      <path clip-path=\"url(#pd840bf2200)\" d=\"M 30.6975 14.191218 \nL 365.4975 14.191218 \n\" style=\"fill:none;stroke:#ffffff;stroke-linecap:round;\"/>\n     </g>\n     <g id=\"text_14\">\n      <!-- 90 -->\n      <g style=\"fill:#262626;\" transform=\"translate(7.2 18.370358)scale(0.11 -0.11)\">\n       <defs>\n        <path d=\"M 703 97 \nL 703 672 \nQ 941 559 1184 500 \nQ 1428 441 1663 441 \nQ 2288 441 2617 861 \nQ 2947 1281 2994 2138 \nQ 2813 1869 2534 1725 \nQ 2256 1581 1919 1581 \nQ 1219 1581 811 2004 \nQ 403 2428 403 3163 \nQ 403 3881 828 4315 \nQ 1253 4750 1959 4750 \nQ 2769 4750 3195 4129 \nQ 3622 3509 3622 2328 \nQ 3622 1225 3098 567 \nQ 2575 -91 1691 -91 \nQ 1453 -91 1209 -44 \nQ 966 3 703 97 \nz\nM 1959 2075 \nQ 2384 2075 2632 2365 \nQ 2881 2656 2881 3163 \nQ 2881 3666 2632 3958 \nQ 2384 4250 1959 4250 \nQ 1534 4250 1286 3958 \nQ 1038 3666 1038 3163 \nQ 1038 2656 1286 2365 \nQ 1534 2075 1959 2075 \nz\n\" id=\"DejaVuSans-39\" transform=\"scale(0.015625)\"/>\n       </defs>\n       <use xlink:href=\"#DejaVuSans-39\"/>\n       <use x=\"63.623047\" xlink:href=\"#DejaVuSans-30\"/>\n      </g>\n     </g>\n    </g>\n   </g>\n   <g id=\"PathCollection_1\">\n    <defs>\n     <path d=\"M 0 3 \nC 0.795609 3 1.55874 2.683901 2.12132 2.12132 \nC 2.683901 1.55874 3 0.795609 3 0 \nC 3 -0.795609 2.683901 -1.55874 2.12132 -2.12132 \nC 1.55874 -2.683901 0.795609 -3 0 -3 \nC -0.795609 -3 -1.55874 -2.683901 -2.12132 -2.12132 \nC -2.683901 -1.55874 -3 -0.795609 -3 0 \nC -3 0.795609 -2.683901 1.55874 -2.12132 2.12132 \nC -1.55874 2.683901 -0.795609 3 0 3 \nz\n\" id=\"me635531cad\" style=\"stroke:#4c72b0;stroke-opacity:0.8;\"/>\n    </defs>\n    <g clip-path=\"url(#pd840bf2200)\">\n     <use style=\"fill:#4c72b0;fill-opacity:0.8;stroke:#4c72b0;stroke-opacity:0.8;\" x=\"77.77875\" xlink:href=\"#me635531cad\" y=\"173.878713\"/>\n     <use style=\"fill:#4c72b0;fill-opacity:0.8;stroke:#4c72b0;stroke-opacity:0.8;\" x=\"219.0225\" xlink:href=\"#me635531cad\" y=\"114.473785\"/>\n     <use style=\"fill:#4c72b0;fill-opacity:0.8;stroke:#4c72b0;stroke-opacity:0.8;\" x=\"229.485\" xlink:href=\"#me635531cad\" y=\"107.70986\"/>\n     <use style=\"fill:#4c72b0;fill-opacity:0.8;stroke:#4c72b0;stroke-opacity:0.8;\" x=\"365.4975\" xlink:href=\"#me635531cad\" y=\"38.012\"/>\n     <use style=\"fill:#4c72b0;fill-opacity:0.8;stroke:#4c72b0;stroke-opacity:0.8;\" x=\"187.635\" xlink:href=\"#me635531cad\" y=\"113.297457\"/>\n     <use style=\"fill:#4c72b0;fill-opacity:0.8;stroke:#4c72b0;stroke-opacity:0.8;\" x=\"156.2475\" xlink:href=\"#me635531cad\" y=\"135.05965\"/>\n     <use style=\"fill:#4c72b0;fill-opacity:0.8;stroke:#4c72b0;stroke-opacity:0.8;\" x=\"103.935\" xlink:href=\"#me635531cad\" y=\"179.172219\"/>\n     <use style=\"fill:#4c72b0;fill-opacity:0.8;stroke:#4c72b0;stroke-opacity:0.8;\" x=\"30.6975\" xlink:href=\"#me635531cad\" y=\"214.756364\"/>\n     <use style=\"fill:#4c72b0;fill-opacity:0.8;stroke:#4c72b0;stroke-opacity:0.8;\" x=\"135.3225\" xlink:href=\"#me635531cad\" y=\"136.530069\"/>\n     <use style=\"fill:#4c72b0;fill-opacity:0.8;stroke:#4c72b0;stroke-opacity:0.8;\" x=\"208.56\" xlink:href=\"#me635531cad\" y=\"101.240015\"/>\n     <use style=\"fill:#4c72b0;fill-opacity:0.8;stroke:#4c72b0;stroke-opacity:0.8;\" x=\"292.26\" xlink:href=\"#me635531cad\" y=\"77.713311\"/>\n    </g>\n   </g>\n   <g id=\"PolyCollection_1\">\n    <defs>\n     <path d=\"M 30.6975 -65.914566 \nL 30.6975 -38.480258 \nL 34.079318 -40.320169 \nL 37.461136 -42.166689 \nL 40.842955 -44.054807 \nL 44.224773 -45.907152 \nL 47.606591 -47.786209 \nL 50.988409 -49.697963 \nL 54.370227 -51.568692 \nL 57.752045 -53.32928 \nL 61.133864 -55.092362 \nL 64.515682 -57.102778 \nL 67.8975 -58.990562 \nL 71.279318 -60.844725 \nL 74.661136 -62.890152 \nL 78.042955 -64.802645 \nL 81.424773 -66.737221 \nL 84.806591 -68.519027 \nL 88.188409 -70.30252 \nL 91.570227 -72.086284 \nL 94.952045 -73.87076 \nL 98.333864 -75.656114 \nL 101.715682 -77.512827 \nL 105.0975 -79.343469 \nL 108.479318 -81.108705 \nL 111.861136 -82.915582 \nL 115.242955 -84.883925 \nL 118.624773 -86.653628 \nL 122.006591 -88.421094 \nL 125.388409 -90.20846 \nL 128.770227 -92.074184 \nL 132.152045 -93.902362 \nL 135.533864 -95.681415 \nL 138.915682 -97.460467 \nL 142.2975 -99.233714 \nL 145.679318 -100.960187 \nL 149.061136 -102.68666 \nL 152.442955 -104.413133 \nL 155.824773 -106.139606 \nL 159.206591 -107.89734 \nL 162.588409 -109.748623 \nL 165.970227 -111.644871 \nL 169.352045 -113.468615 \nL 172.733864 -115.205323 \nL 176.115682 -116.943551 \nL 179.4975 -118.757086 \nL 182.879318 -120.591459 \nL 186.261136 -122.369357 \nL 189.642955 -124.040731 \nL 193.024773 -125.828468 \nL 196.406591 -127.632044 \nL 199.788409 -129.420082 \nL 203.170227 -131.159162 \nL 206.552045 -132.913662 \nL 209.933864 -134.6578 \nL 213.315682 -136.322206 \nL 216.6975 -138.042981 \nL 220.079318 -139.816445 \nL 223.461136 -141.556464 \nL 226.842955 -143.370228 \nL 230.224773 -145.114032 \nL 233.606591 -146.838778 \nL 236.988409 -148.560637 \nL 240.370227 -150.216638 \nL 243.752045 -151.889129 \nL 247.133864 -153.450296 \nL 250.515682 -155.199617 \nL 253.8975 -156.863805 \nL 257.279318 -158.621008 \nL 260.661136 -160.253017 \nL 264.042955 -161.841994 \nL 267.424773 -163.517018 \nL 270.806591 -165.148568 \nL 274.188409 -166.803336 \nL 277.570227 -168.48882 \nL 280.952045 -170.118194 \nL 284.333864 -171.745948 \nL 287.715682 -173.393914 \nL 291.0975 -174.999694 \nL 294.479318 -176.508414 \nL 297.861136 -178.024077 \nL 301.242955 -179.529135 \nL 304.624773 -181.098166 \nL 308.006591 -182.635823 \nL 311.388409 -184.092714 \nL 314.770227 -185.672693 \nL 318.152045 -187.254272 \nL 321.533864 -188.773798 \nL 324.915682 -190.21831 \nL 328.2975 -191.764651 \nL 331.679318 -193.19682 \nL 335.061136 -194.638772 \nL 338.442955 -196.083037 \nL 341.824773 -197.556765 \nL 345.206591 -198.970982 \nL 348.588409 -200.459369 \nL 351.970227 -201.888187 \nL 355.352045 -203.31714 \nL 358.733864 -204.863725 \nL 362.115682 -206.422596 \nL 365.4975 -207.982775 \nL 365.4975 -234.902301 \nL 365.4975 -234.902301 \nL 362.115682 -233.00451 \nL 358.733864 -231.106718 \nL 355.352045 -229.208927 \nL 351.970227 -227.311136 \nL 348.588409 -225.416435 \nL 345.206591 -223.524099 \nL 341.824773 -221.631763 \nL 338.442955 -219.739427 \nL 335.061136 -217.847091 \nL 331.679318 -215.954755 \nL 328.2975 -214.062419 \nL 324.915682 -212.170083 \nL 321.533864 -210.270164 \nL 318.152045 -208.345383 \nL 314.770227 -206.419998 \nL 311.388409 -204.495515 \nL 308.006591 -202.571031 \nL 304.624773 -200.646547 \nL 301.242955 -198.722063 \nL 297.861136 -196.797579 \nL 294.479318 -194.873095 \nL 291.0975 -192.948612 \nL 287.715682 -191.024128 \nL 284.333864 -189.099644 \nL 280.952045 -187.174715 \nL 277.570227 -185.248607 \nL 274.188409 -183.3225 \nL 270.806591 -181.396392 \nL 267.424773 -179.470284 \nL 264.042955 -177.544177 \nL 260.661136 -175.618069 \nL 257.279318 -173.691961 \nL 253.8975 -171.751188 \nL 250.515682 -169.790067 \nL 247.133864 -167.828931 \nL 243.752045 -165.866512 \nL 240.370227 -163.951669 \nL 236.988409 -161.985682 \nL 233.606591 -160.010512 \nL 230.224773 -158.035343 \nL 226.842955 -156.061845 \nL 223.461136 -154.165437 \nL 220.079318 -152.338142 \nL 216.6975 -150.264042 \nL 213.315682 -148.338147 \nL 209.933864 -146.602162 \nL 206.552045 -144.691539 \nL 203.170227 -142.934186 \nL 199.788409 -141.108879 \nL 196.406591 -139.547883 \nL 193.024773 -137.85835 \nL 189.642955 -136.011196 \nL 186.261136 -134.193962 \nL 182.879318 -132.572036 \nL 179.4975 -130.9808 \nL 176.115682 -129.401953 \nL 172.733864 -127.647958 \nL 169.352045 -126.12376 \nL 165.970227 -124.492305 \nL 162.588409 -122.95456 \nL 159.206591 -121.462918 \nL 155.824773 -119.946248 \nL 152.442955 -118.484685 \nL 149.061136 -116.874859 \nL 145.679318 -115.396744 \nL 142.2975 -113.983586 \nL 138.915682 -112.528169 \nL 135.533864 -111.040825 \nL 132.152045 -109.552808 \nL 128.770227 -108.063401 \nL 125.388409 -106.633699 \nL 122.006591 -105.241196 \nL 118.624773 -103.750217 \nL 115.242955 -102.259239 \nL 111.861136 -100.766186 \nL 108.479318 -99.272462 \nL 105.0975 -97.82074 \nL 101.715682 -96.497411 \nL 98.333864 -95.03654 \nL 94.952045 -93.542648 \nL 91.570227 -92.13345 \nL 88.188409 -90.731599 \nL 84.806591 -89.254975 \nL 81.424773 -87.778351 \nL 78.042955 -86.300971 \nL 74.661136 -84.822681 \nL 71.279318 -83.344391 \nL 67.8975 -81.904288 \nL 64.515682 -80.474907 \nL 61.133864 -79.045526 \nL 57.752045 -77.616145 \nL 54.370227 -76.186763 \nL 50.988409 -74.757382 \nL 47.606591 -73.314889 \nL 44.224773 -71.849134 \nL 40.842955 -70.359371 \nL 37.461136 -68.861183 \nL 34.079318 -67.362995 \nL 30.6975 -65.914566 \nz\n\" id=\"m00c74b11f0\" style=\"stroke:#ffffff;stroke-opacity:0.15;\"/>\n    </defs>\n    <g clip-path=\"url(#pd840bf2200)\">\n     <use style=\"fill:#4c72b0;fill-opacity:0.15;stroke:#ffffff;stroke-opacity:0.15;\" x=\"0\" xlink:href=\"#m00c74b11f0\" y=\"251.985937\"/>\n    </g>\n   </g>\n   <g id=\"line2d_15\">\n    <path clip-path=\"url(#pd840bf2200)\" d=\"M 30.6975 202.957916 \nL 34.079318 201.254221 \nL 37.461136 199.550526 \nL 40.842955 197.846831 \nL 44.224773 196.143136 \nL 47.606591 194.439441 \nL 50.988409 192.735746 \nL 54.370227 191.032051 \nL 57.752045 189.328356 \nL 61.133864 187.624661 \nL 64.515682 185.920966 \nL 67.8975 184.217271 \nL 71.279318 182.513576 \nL 74.661136 180.809881 \nL 78.042955 179.106186 \nL 81.424773 177.402491 \nL 84.806591 175.698796 \nL 88.188409 173.995101 \nL 91.570227 172.291406 \nL 94.952045 170.587711 \nL 98.333864 168.884016 \nL 101.715682 167.180321 \nL 105.0975 165.476626 \nL 108.479318 163.772931 \nL 111.861136 162.069236 \nL 115.242955 160.365541 \nL 118.624773 158.661845 \nL 122.006591 156.95815 \nL 125.388409 155.254455 \nL 128.770227 153.55076 \nL 132.152045 151.847065 \nL 135.533864 150.14337 \nL 138.915682 148.439675 \nL 142.2975 146.73598 \nL 145.679318 145.032285 \nL 149.061136 143.32859 \nL 152.442955 141.624895 \nL 155.824773 139.9212 \nL 159.206591 138.217505 \nL 162.588409 136.51381 \nL 165.970227 134.810115 \nL 169.352045 133.10642 \nL 172.733864 131.402725 \nL 176.115682 129.69903 \nL 179.4975 127.995335 \nL 182.879318 126.29164 \nL 186.261136 124.587945 \nL 189.642955 122.88425 \nL 193.024773 121.180555 \nL 196.406591 119.47686 \nL 199.788409 117.773165 \nL 203.170227 116.06947 \nL 206.552045 114.365775 \nL 209.933864 112.66208 \nL 213.315682 110.958385 \nL 216.6975 109.25469 \nL 220.079318 107.550995 \nL 223.461136 105.8473 \nL 226.842955 104.143604 \nL 230.224773 102.439909 \nL 233.606591 100.736214 \nL 236.988409 99.032519 \nL 240.370227 97.328824 \nL 243.752045 95.625129 \nL 247.133864 93.921434 \nL 250.515682 92.217739 \nL 253.8975 90.514044 \nL 257.279318 88.810349 \nL 260.661136 87.106654 \nL 264.042955 85.402959 \nL 267.424773 83.699264 \nL 270.806591 81.995569 \nL 274.188409 80.291874 \nL 277.570227 78.588179 \nL 280.952045 76.884484 \nL 284.333864 75.180789 \nL 287.715682 73.477094 \nL 291.0975 71.773399 \nL 294.479318 70.069704 \nL 297.861136 68.366009 \nL 301.242955 66.662314 \nL 304.624773 64.958619 \nL 308.006591 63.254924 \nL 311.388409 61.551229 \nL 314.770227 59.847534 \nL 318.152045 58.143839 \nL 321.533864 56.440144 \nL 324.915682 54.736449 \nL 328.2975 53.032754 \nL 331.679318 51.329058 \nL 335.061136 49.625363 \nL 338.442955 47.921668 \nL 341.824773 46.217973 \nL 345.206591 44.514278 \nL 348.588409 42.810583 \nL 351.970227 41.106888 \nL 355.352045 39.403193 \nL 358.733864 37.699498 \nL 362.115682 35.995803 \nL 365.4975 34.292108 \n\" style=\"fill:none;stroke:#4c72b0;stroke-linecap:round;stroke-width:2.25;\"/>\n   </g>\n   <g id=\"patch_3\">\n    <path d=\"M 30.6975 224.64 \nL 30.6975 7.2 \n\" style=\"fill:none;stroke:#ffffff;stroke-linecap:square;stroke-linejoin:miter;stroke-width:1.25;\"/>\n   </g>\n   <g id=\"patch_4\">\n    <path d=\"M 365.4975 224.64 \nL 365.4975 7.2 \n\" style=\"fill:none;stroke:#ffffff;stroke-linecap:square;stroke-linejoin:miter;stroke-width:1.25;\"/>\n   </g>\n   <g id=\"patch_5\">\n    <path d=\"M 30.6975 224.64 \nL 365.4975 224.64 \n\" style=\"fill:none;stroke:#ffffff;stroke-linecap:square;stroke-linejoin:miter;stroke-width:1.25;\"/>\n   </g>\n   <g id=\"patch_6\">\n    <path d=\"M 30.6975 7.2 \nL 365.4975 7.2 \n\" style=\"fill:none;stroke:#ffffff;stroke-linecap:square;stroke-linejoin:miter;stroke-width:1.25;\"/>\n   </g>\n  </g>\n </g>\n <defs>\n  <clipPath id=\"pd840bf2200\">\n   <rect height=\"217.44\" width=\"334.8\" x=\"30.6975\" y=\"7.2\"/>\n  </clipPath>\n </defs>\n</svg>\n",
      "image/png": "[encoded data removed]"
     },
     "metadata": {}
    }
   ],
   "source": [
    "# plotting the regression line along with a 95% confidence interval\n",
    "# for some reason, doesn't work well with tensors\n",
    "sns.regplot(x=t_c.numpy(), y=t_u.numpy())"
   ]
  },
  {
   "source": [
    "We'll assume a linear model at first.\n",
    "`t_c = w * t_u + b`\n",
    "\n",
    "analogous to\n",
    "`y = mx + c`\n",
    "\n",
    "but the slope is called the weight, and the intercept is called the bias"
   ],
   "cell_type": "markdown",
   "metadata": {}
  },
  {
   "source": [
    "### My understanding of gradient descent for linear regression:\n",
    "- We have ground truths (`y`) and some inputs (`x`)\n",
    "- We choose a linear model to \"fit\" to the data - It is the parameters of this model that we want to estimate. In our case, the model is `y_pred = mx+c`\n",
    "- To optimize the model parameters, we need a measure of how good the predictions are. Thus, we introduce a loss function, which tells us how bad.good we're doing. For example, here, we use mean squared loss (mean of the deviations of `y_pred` from `y`)\n",
    "- We want to choose a `m` and a `c` such that the loss is minimized, ie, we reach the minima of the loss function.\n",
    "- To do this we need to move in the direction of lower loss, taking smaller and smaller steps once the loss becomes small enough.\n",
    "- For this, we use partial derivatives of the loss funtion with respect to `m` and `c`! The tell us the slope (rate of change) at a particular point in the loss function for a given `m` and `c`. We use that along with a \"learning\" rate to adjust the `m` and `c`, and repeat the process until we reach a acceptable low loss.\n"
   ],
   "cell_type": "markdown",
   "metadata": {}
  },
  {
   "cell_type": "code",
   "execution_count": 6,
   "metadata": {},
   "outputs": [],
   "source": [
    "# define the model\n",
    "def model(t_u, w, b):\n",
    "    return t_u * w + b\n",
    "\n",
    "def loss_fn(t_u, t_p):\n",
    "    sq_diff = (t_u - t_p)**2 # this is a tensor, we need a mean to get a single number \n",
    "    return sq_diff.mean() # mean square loss\n"
   ]
  },
  {
   "cell_type": "code",
   "execution_count": 7,
   "metadata": {},
   "outputs": [
    {
     "output_type": "stream",
     "name": "stdout",
     "text": [
      "loss 2.9276463985443115 dw -9.822845458984375e-05, db 0.0006138194585219026\nw 5.367083549499512 b -17.30118751525879\n"
     ]
    },
    {
     "output_type": "execute_result",
     "data": {
      "text/plain": [
       "<AxesSubplot:>"
      ]
     },
     "metadata": {},
     "execution_count": 7
    },
    {
     "output_type": "display_data",
     "data": {
      "text/plain": "<Figure size 360x360 with 1 Axes>",
      "image/svg+xml": "<?xml version=\"1.0\" encoding=\"utf-8\" standalone=\"no\"?>\n<!DOCTYPE svg PUBLIC \"-//W3C//DTD SVG 1.1//EN\"\n  \"http://www.w3.org/Graphics/SVG/1.1/DTD/svg11.dtd\">\n<svg height=\"349.125937pt\" version=\"1.1\" viewBox=\"0 0 348.571406 349.125937\" width=\"348.571406pt\" xmlns=\"http://www.w3.org/2000/svg\" xmlns:xlink=\"http://www.w3.org/1999/xlink\">\n <metadata>\n  <rdf:RDF xmlns:cc=\"http://creativecommons.org/ns#\" xmlns:dc=\"http://purl.org/dc/elements/1.1/\" xmlns:rdf=\"http://www.w3.org/1999/02/22-rdf-syntax-ns#\">\n   <cc:Work>\n    <dc:type rdf:resource=\"http://purl.org/dc/dcmitype/StillImage\"/>\n    <dc:date>2021-06-08T10:21:41.699769</dc:date>\n    <dc:format>image/svg+xml</dc:format>\n    <dc:creator>\n     <cc:Agent>\n      <dc:title>Matplotlib v3.4.2, https://matplotlib.org/</dc:title>\n     </cc:Agent>\n    </dc:creator>\n   </cc:Work>\n  </rdf:RDF>\n </metadata>\n <defs>\n  <style type=\"text/css\">*{stroke-linecap:butt;stroke-linejoin:round;}</style>\n </defs>\n <g id=\"figure_1\">\n  <g id=\"patch_1\">\n   <path d=\"M 0 349.125937 \nL 348.571406 349.125937 \nL 348.571406 0 \nL 0 0 \nz\n\" style=\"fill:#ffffff;\"/>\n  </g>\n  <g id=\"axes_1\">\n   <g id=\"patch_2\">\n    <path d=\"M 32.916406 321.78 \nL 341.371406 321.78 \nL 341.371406 7.2 \nL 32.916406 7.2 \nz\n\" style=\"fill:#eaeaf2;\"/>\n   </g>\n   <g id=\"matplotlib.axis_1\">\n    <g id=\"xtick_1\">\n     <g id=\"line2d_1\">\n      <path clip-path=\"url(#p35e5a94e12)\" d=\"M 38.53868 321.78 \nL 38.53868 7.2 \n\" style=\"fill:none;stroke:#ffffff;stroke-linecap:round;\"/>\n     </g>\n     <g id=\"text_1\">\n      <!-- 20 -->\n      <g style=\"fill:#262626;\" transform=\"translate(31.53993 339.638281)scale(0.11 -0.11)\">\n       <defs>\n        <path d=\"M 1228 531 \nL 3431 531 \nL 3431 0 \nL 469 0 \nL 469 531 \nQ 828 903 1448 1529 \nQ 2069 2156 2228 2338 \nQ 2531 2678 2651 2914 \nQ 2772 3150 2772 3378 \nQ 2772 3750 2511 3984 \nQ 2250 4219 1831 4219 \nQ 1534 4219 1204 4116 \nQ 875 4013 500 3803 \nL 500 4441 \nQ 881 4594 1212 4672 \nQ 1544 4750 1819 4750 \nQ 2544 4750 2975 4387 \nQ 3406 4025 3406 3419 \nQ 3406 3131 3298 2873 \nQ 3191 2616 2906 2266 \nQ 2828 2175 2409 1742 \nQ 1991 1309 1228 531 \nz\n\" id=\"DejaVuSans-32\" transform=\"scale(0.015625)\"/>\n        <path d=\"M 2034 4250 \nQ 1547 4250 1301 3770 \nQ 1056 3291 1056 2328 \nQ 1056 1369 1301 889 \nQ 1547 409 2034 409 \nQ 2525 409 2770 889 \nQ 3016 1369 3016 2328 \nQ 3016 3291 2770 3770 \nQ 2525 4250 2034 4250 \nz\nM 2034 4750 \nQ 2819 4750 3233 4129 \nQ 3647 3509 3647 2328 \nQ 3647 1150 3233 529 \nQ 2819 -91 2034 -91 \nQ 1250 -91 836 529 \nQ 422 1150 422 2328 \nQ 422 3509 836 4129 \nQ 1250 4750 2034 4750 \nz\n\" id=\"DejaVuSans-30\" transform=\"scale(0.015625)\"/>\n       </defs>\n       <use xlink:href=\"#DejaVuSans-32\"/>\n       <use x=\"63.623047\" xlink:href=\"#DejaVuSans-30\"/>\n      </g>\n     </g>\n    </g>\n    <g id=\"xtick_2\">\n     <g id=\"line2d_2\">\n      <path clip-path=\"url(#p35e5a94e12)\" d=\"M 85.196521 321.78 \nL 85.196521 7.2 \n\" style=\"fill:none;stroke:#ffffff;stroke-linecap:round;\"/>\n     </g>\n     <g id=\"text_2\">\n      <!-- 30 -->\n      <g style=\"fill:#262626;\" transform=\"translate(78.197771 339.638281)scale(0.11 -0.11)\">\n       <defs>\n        <path d=\"M 2597 2516 \nQ 3050 2419 3304 2112 \nQ 3559 1806 3559 1356 \nQ 3559 666 3084 287 \nQ 2609 -91 1734 -91 \nQ 1441 -91 1130 -33 \nQ 819 25 488 141 \nL 488 750 \nQ 750 597 1062 519 \nQ 1375 441 1716 441 \nQ 2309 441 2620 675 \nQ 2931 909 2931 1356 \nQ 2931 1769 2642 2001 \nQ 2353 2234 1838 2234 \nL 1294 2234 \nL 1294 2753 \nL 1863 2753 \nQ 2328 2753 2575 2939 \nQ 2822 3125 2822 3475 \nQ 2822 3834 2567 4026 \nQ 2313 4219 1838 4219 \nQ 1578 4219 1281 4162 \nQ 984 4106 628 3988 \nL 628 4550 \nQ 988 4650 1302 4700 \nQ 1616 4750 1894 4750 \nQ 2613 4750 3031 4423 \nQ 3450 4097 3450 3541 \nQ 3450 3153 3228 2886 \nQ 3006 2619 2597 2516 \nz\n\" id=\"DejaVuSans-33\" transform=\"scale(0.015625)\"/>\n       </defs>\n       <use xlink:href=\"#DejaVuSans-33\"/>\n       <use x=\"63.623047\" xlink:href=\"#DejaVuSans-30\"/>\n      </g>\n     </g>\n    </g>\n    <g id=\"xtick_3\">\n     <g id=\"line2d_3\">\n      <path clip-path=\"url(#p35e5a94e12)\" d=\"M 131.854363 321.78 \nL 131.854363 7.2 \n\" style=\"fill:none;stroke:#ffffff;stroke-linecap:round;\"/>\n     </g>\n     <g id=\"text_3\">\n      <!-- 40 -->\n      <g style=\"fill:#262626;\" transform=\"translate(124.855613 339.638281)scale(0.11 -0.11)\">\n       <defs>\n        <path d=\"M 2419 4116 \nL 825 1625 \nL 2419 1625 \nL 2419 4116 \nz\nM 2253 4666 \nL 3047 4666 \nL 3047 1625 \nL 3713 1625 \nL 3713 1100 \nL 3047 1100 \nL 3047 0 \nL 2419 0 \nL 2419 1100 \nL 313 1100 \nL 313 1709 \nL 2253 4666 \nz\n\" id=\"DejaVuSans-34\" transform=\"scale(0.015625)\"/>\n       </defs>\n       <use xlink:href=\"#DejaVuSans-34\"/>\n       <use x=\"63.623047\" xlink:href=\"#DejaVuSans-30\"/>\n      </g>\n     </g>\n    </g>\n    <g id=\"xtick_4\">\n     <g id=\"line2d_4\">\n      <path clip-path=\"url(#p35e5a94e12)\" d=\"M 178.512204 321.78 \nL 178.512204 7.2 \n\" style=\"fill:none;stroke:#ffffff;stroke-linecap:round;\"/>\n     </g>\n     <g id=\"text_4\">\n      <!-- 50 -->\n      <g style=\"fill:#262626;\" transform=\"translate(171.513454 339.638281)scale(0.11 -0.11)\">\n       <defs>\n        <path d=\"M 691 4666 \nL 3169 4666 \nL 3169 4134 \nL 1269 4134 \nL 1269 2991 \nQ 1406 3038 1543 3061 \nQ 1681 3084 1819 3084 \nQ 2600 3084 3056 2656 \nQ 3513 2228 3513 1497 \nQ 3513 744 3044 326 \nQ 2575 -91 1722 -91 \nQ 1428 -91 1123 -41 \nQ 819 9 494 109 \nL 494 744 \nQ 775 591 1075 516 \nQ 1375 441 1709 441 \nQ 2250 441 2565 725 \nQ 2881 1009 2881 1497 \nQ 2881 1984 2565 2268 \nQ 2250 2553 1709 2553 \nQ 1456 2553 1204 2497 \nQ 953 2441 691 2322 \nL 691 4666 \nz\n\" id=\"DejaVuSans-35\" transform=\"scale(0.015625)\"/>\n       </defs>\n       <use xlink:href=\"#DejaVuSans-35\"/>\n       <use x=\"63.623047\" xlink:href=\"#DejaVuSans-30\"/>\n      </g>\n     </g>\n    </g>\n    <g id=\"xtick_5\">\n     <g id=\"line2d_5\">\n      <path clip-path=\"url(#p35e5a94e12)\" d=\"M 225.170045 321.78 \nL 225.170045 7.2 \n\" style=\"fill:none;stroke:#ffffff;stroke-linecap:round;\"/>\n     </g>\n     <g id=\"text_5\">\n      <!-- 60 -->\n      <g style=\"fill:#262626;\" transform=\"translate(218.171295 339.638281)scale(0.11 -0.11)\">\n       <defs>\n        <path d=\"M 2113 2584 \nQ 1688 2584 1439 2293 \nQ 1191 2003 1191 1497 \nQ 1191 994 1439 701 \nQ 1688 409 2113 409 \nQ 2538 409 2786 701 \nQ 3034 994 3034 1497 \nQ 3034 2003 2786 2293 \nQ 2538 2584 2113 2584 \nz\nM 3366 4563 \nL 3366 3988 \nQ 3128 4100 2886 4159 \nQ 2644 4219 2406 4219 \nQ 1781 4219 1451 3797 \nQ 1122 3375 1075 2522 \nQ 1259 2794 1537 2939 \nQ 1816 3084 2150 3084 \nQ 2853 3084 3261 2657 \nQ 3669 2231 3669 1497 \nQ 3669 778 3244 343 \nQ 2819 -91 2113 -91 \nQ 1303 -91 875 529 \nQ 447 1150 447 2328 \nQ 447 3434 972 4092 \nQ 1497 4750 2381 4750 \nQ 2619 4750 2861 4703 \nQ 3103 4656 3366 4563 \nz\n\" id=\"DejaVuSans-36\" transform=\"scale(0.015625)\"/>\n       </defs>\n       <use xlink:href=\"#DejaVuSans-36\"/>\n       <use x=\"63.623047\" xlink:href=\"#DejaVuSans-30\"/>\n      </g>\n     </g>\n    </g>\n    <g id=\"xtick_6\">\n     <g id=\"line2d_6\">\n      <path clip-path=\"url(#p35e5a94e12)\" d=\"M 271.827886 321.78 \nL 271.827886 7.2 \n\" style=\"fill:none;stroke:#ffffff;stroke-linecap:round;\"/>\n     </g>\n     <g id=\"text_6\">\n      <!-- 70 -->\n      <g style=\"fill:#262626;\" transform=\"translate(264.829136 339.638281)scale(0.11 -0.11)\">\n       <defs>\n        <path d=\"M 525 4666 \nL 3525 4666 \nL 3525 4397 \nL 1831 0 \nL 1172 0 \nL 2766 4134 \nL 525 4134 \nL 525 4666 \nz\n\" id=\"DejaVuSans-37\" transform=\"scale(0.015625)\"/>\n       </defs>\n       <use xlink:href=\"#DejaVuSans-37\"/>\n       <use x=\"63.623047\" xlink:href=\"#DejaVuSans-30\"/>\n      </g>\n     </g>\n    </g>\n    <g id=\"xtick_7\">\n     <g id=\"line2d_7\">\n      <path clip-path=\"url(#p35e5a94e12)\" d=\"M 318.485727 321.78 \nL 318.485727 7.2 \n\" style=\"fill:none;stroke:#ffffff;stroke-linecap:round;\"/>\n     </g>\n     <g id=\"text_7\">\n      <!-- 80 -->\n      <g style=\"fill:#262626;\" transform=\"translate(311.486977 339.638281)scale(0.11 -0.11)\">\n       <defs>\n        <path d=\"M 2034 2216 \nQ 1584 2216 1326 1975 \nQ 1069 1734 1069 1313 \nQ 1069 891 1326 650 \nQ 1584 409 2034 409 \nQ 2484 409 2743 651 \nQ 3003 894 3003 1313 \nQ 3003 1734 2745 1975 \nQ 2488 2216 2034 2216 \nz\nM 1403 2484 \nQ 997 2584 770 2862 \nQ 544 3141 544 3541 \nQ 544 4100 942 4425 \nQ 1341 4750 2034 4750 \nQ 2731 4750 3128 4425 \nQ 3525 4100 3525 3541 \nQ 3525 3141 3298 2862 \nQ 3072 2584 2669 2484 \nQ 3125 2378 3379 2068 \nQ 3634 1759 3634 1313 \nQ 3634 634 3220 271 \nQ 2806 -91 2034 -91 \nQ 1263 -91 848 271 \nQ 434 634 434 1313 \nQ 434 1759 690 2068 \nQ 947 2378 1403 2484 \nz\nM 1172 3481 \nQ 1172 3119 1398 2916 \nQ 1625 2713 2034 2713 \nQ 2441 2713 2670 2916 \nQ 2900 3119 2900 3481 \nQ 2900 3844 2670 4047 \nQ 2441 4250 2034 4250 \nQ 1625 4250 1398 4047 \nQ 1172 3844 1172 3481 \nz\n\" id=\"DejaVuSans-38\" transform=\"scale(0.015625)\"/>\n       </defs>\n       <use xlink:href=\"#DejaVuSans-38\"/>\n       <use x=\"63.623047\" xlink:href=\"#DejaVuSans-30\"/>\n      </g>\n     </g>\n    </g>\n   </g>\n   <g id=\"matplotlib.axis_2\">\n    <g id=\"ytick_1\">\n     <g id=\"line2d_8\">\n      <path clip-path=\"url(#p35e5a94e12)\" d=\"M 32.916406 302.36618 \nL 341.371406 302.36618 \n\" style=\"fill:none;stroke:#ffffff;stroke-linecap:round;\"/>\n     </g>\n     <g id=\"text_8\">\n      <!-- −5 -->\n      <g style=\"fill:#262626;\" transform=\"translate(7.2 306.54532)scale(0.11 -0.11)\">\n       <defs>\n        <path d=\"M 678 2272 \nL 4684 2272 \nL 4684 1741 \nL 678 1741 \nL 678 2272 \nz\n\" id=\"DejaVuSans-2212\" transform=\"scale(0.015625)\"/>\n       </defs>\n       <use xlink:href=\"#DejaVuSans-2212\"/>\n       <use x=\"83.789062\" xlink:href=\"#DejaVuSans-35\"/>\n      </g>\n     </g>\n    </g>\n    <g id=\"ytick_2\">\n     <g id=\"line2d_9\">\n      <path clip-path=\"url(#p35e5a94e12)\" d=\"M 32.916406 259.81056 \nL 341.371406 259.81056 \n\" style=\"fill:none;stroke:#ffffff;stroke-linecap:round;\"/>\n     </g>\n     <g id=\"text_9\">\n      <!-- 0 -->\n      <g style=\"fill:#262626;\" transform=\"translate(16.417656 263.989701)scale(0.11 -0.11)\">\n       <use xlink:href=\"#DejaVuSans-30\"/>\n      </g>\n     </g>\n    </g>\n    <g id=\"ytick_3\">\n     <g id=\"line2d_10\">\n      <path clip-path=\"url(#p35e5a94e12)\" d=\"M 32.916406 217.254941 \nL 341.371406 217.254941 \n\" style=\"fill:none;stroke:#ffffff;stroke-linecap:round;\"/>\n     </g>\n     <g id=\"text_10\">\n      <!-- 5 -->\n      <g style=\"fill:#262626;\" transform=\"translate(16.417656 221.434081)scale(0.11 -0.11)\">\n       <use xlink:href=\"#DejaVuSans-35\"/>\n      </g>\n     </g>\n    </g>\n    <g id=\"ytick_4\">\n     <g id=\"line2d_11\">\n      <path clip-path=\"url(#p35e5a94e12)\" d=\"M 32.916406 174.699321 \nL 341.371406 174.699321 \n\" style=\"fill:none;stroke:#ffffff;stroke-linecap:round;\"/>\n     </g>\n     <g id=\"text_11\">\n      <!-- 10 -->\n      <g style=\"fill:#262626;\" transform=\"translate(9.418906 178.878462)scale(0.11 -0.11)\">\n       <defs>\n        <path d=\"M 794 531 \nL 1825 531 \nL 1825 4091 \nL 703 3866 \nL 703 4441 \nL 1819 4666 \nL 2450 4666 \nL 2450 531 \nL 3481 531 \nL 3481 0 \nL 794 0 \nL 794 531 \nz\n\" id=\"DejaVuSans-31\" transform=\"scale(0.015625)\"/>\n       </defs>\n       <use xlink:href=\"#DejaVuSans-31\"/>\n       <use x=\"63.623047\" xlink:href=\"#DejaVuSans-30\"/>\n      </g>\n     </g>\n    </g>\n    <g id=\"ytick_5\">\n     <g id=\"line2d_12\">\n      <path clip-path=\"url(#p35e5a94e12)\" d=\"M 32.916406 132.143702 \nL 341.371406 132.143702 \n\" style=\"fill:none;stroke:#ffffff;stroke-linecap:round;\"/>\n     </g>\n     <g id=\"text_12\">\n      <!-- 15 -->\n      <g style=\"fill:#262626;\" transform=\"translate(9.418906 136.322842)scale(0.11 -0.11)\">\n       <use xlink:href=\"#DejaVuSans-31\"/>\n       <use x=\"63.623047\" xlink:href=\"#DejaVuSans-35\"/>\n      </g>\n     </g>\n    </g>\n    <g id=\"ytick_6\">\n     <g id=\"line2d_13\">\n      <path clip-path=\"url(#p35e5a94e12)\" d=\"M 32.916406 89.588082 \nL 341.371406 89.588082 \n\" style=\"fill:none;stroke:#ffffff;stroke-linecap:round;\"/>\n     </g>\n     <g id=\"text_13\">\n      <!-- 20 -->\n      <g style=\"fill:#262626;\" transform=\"translate(9.418906 93.767223)scale(0.11 -0.11)\">\n       <use xlink:href=\"#DejaVuSans-32\"/>\n       <use x=\"63.623047\" xlink:href=\"#DejaVuSans-30\"/>\n      </g>\n     </g>\n    </g>\n    <g id=\"ytick_7\">\n     <g id=\"line2d_14\">\n      <path clip-path=\"url(#p35e5a94e12)\" d=\"M 32.916406 47.032463 \nL 341.371406 47.032463 \n\" style=\"fill:none;stroke:#ffffff;stroke-linecap:round;\"/>\n     </g>\n     <g id=\"text_14\">\n      <!-- 25 -->\n      <g style=\"fill:#262626;\" transform=\"translate(9.418906 51.211603)scale(0.11 -0.11)\">\n       <use xlink:href=\"#DejaVuSans-32\"/>\n       <use x=\"63.623047\" xlink:href=\"#DejaVuSans-35\"/>\n      </g>\n     </g>\n    </g>\n   </g>\n   <g id=\"PathCollection_1\">\n    <defs>\n     <path d=\"M 0 3 \nC 0.795609 3 1.55874 2.683901 2.12132 2.12132 \nC 2.683901 1.55874 3 0.795609 3 0 \nC 3 -0.795609 2.683901 -1.55874 2.12132 -2.12132 \nC 1.55874 -2.683901 0.795609 -3 0 -3 \nC -0.795609 -3 -1.55874 -2.683901 -2.12132 -2.12132 \nC -2.683901 -1.55874 -3 -0.795609 -3 0 \nC -3 0.795609 -2.683901 1.55874 -2.12132 2.12132 \nC -1.55874 2.683901 -0.795609 3 0 3 \nz\n\" id=\"m20b903adfd\" style=\"stroke:#ffffff;stroke-width:0.48;\"/>\n    </defs>\n    <g clip-path=\"url(#p35e5a94e12)\">\n     <use style=\"fill:#4c72b0;stroke:#ffffff;stroke-width:0.48;\" x=\"111.791494\" xlink:href=\"#m20b903adfd\" y=\"255.554998\"/>\n     <use style=\"fill:#4c72b0;stroke:#ffffff;stroke-width:0.48;\" x=\"206.040337\" xlink:href=\"#m20b903adfd\" y=\"140.654826\"/>\n     <use style=\"fill:#4c72b0;stroke:#ffffff;stroke-width:0.48;\" x=\"216.771637\" xlink:href=\"#m20b903adfd\" y=\"132.143702\"/>\n     <use style=\"fill:#4c72b0;stroke:#ffffff;stroke-width:0.48;\" x=\"327.350724\" xlink:href=\"#m20b903adfd\" y=\"21.499091\"/>\n     <use style=\"fill:#4c72b0;stroke:#ffffff;stroke-width:0.48;\" x=\"207.90664\" xlink:href=\"#m20b903adfd\" y=\"166.188197\"/>\n     <use style=\"fill:#4c72b0;stroke:#ffffff;stroke-width:0.48;\" x=\"173.379848\" xlink:href=\"#m20b903adfd\" y=\"191.721569\"/>\n     <use style=\"fill:#4c72b0;stroke:#ffffff;stroke-width:0.48;\" x=\"103.393087\" xlink:href=\"#m20b903adfd\" y=\"234.277188\"/>\n     <use style=\"fill:#4c72b0;stroke:#ffffff;stroke-width:0.48;\" x=\"46.937088\" xlink:href=\"#m20b903adfd\" y=\"293.855056\"/>\n     <use style=\"fill:#4c72b0;stroke:#ffffff;stroke-width:0.48;\" x=\"171.046956\" xlink:href=\"#m20b903adfd\" y=\"208.743817\"/>\n     <use style=\"fill:#4c72b0;stroke:#ffffff;stroke-width:0.48;\" x=\"227.036366\" xlink:href=\"#m20b903adfd\" y=\"149.165949\"/>\n     <use style=\"fill:#4c72b0;stroke:#ffffff;stroke-width:0.48;\" x=\"264.362639\" xlink:href=\"#m20b903adfd\" y=\"81.076958\"/>\n    </g>\n   </g>\n   <g id=\"line2d_15\">\n    <path clip-path=\"url(#p35e5a94e12)\" d=\"M 46.937088 307.480909 \nL 103.393087 252.208198 \nL 111.791494 243.985806 \nL 171.046956 185.97233 \nL 173.379848 183.688316 \nL 206.040337 151.712397 \nL 207.90664 149.885199 \nL 216.771637 141.206008 \nL 227.036366 131.15645 \nL 264.362639 94.612487 \nL 327.350724 32.944599 \n\" style=\"fill:none;stroke:#4c72b0;stroke-linecap:round;stroke-width:1.5;\"/>\n   </g>\n   <g id=\"patch_3\">\n    <path d=\"M 32.916406 321.78 \nL 32.916406 7.2 \n\" style=\"fill:none;stroke:#ffffff;stroke-linecap:square;stroke-linejoin:miter;stroke-width:1.25;\"/>\n   </g>\n   <g id=\"patch_4\">\n    <path d=\"M 32.916406 321.78 \nL 341.371406 321.78 \n\" style=\"fill:none;stroke:#ffffff;stroke-linecap:square;stroke-linejoin:miter;stroke-width:1.25;\"/>\n   </g>\n  </g>\n </g>\n <defs>\n  <clipPath id=\"p35e5a94e12\">\n   <rect height=\"314.58\" width=\"308.455\" x=\"32.916406\" y=\"7.2\"/>\n  </clipPath>\n </defs>\n</svg>\n",
      "image/png": "[encoded data removed]"
     },
     "metadata": {}
    }
   ],
   "source": [
    "\n",
    "w = torch.ones(()) # just tensor(1.)\n",
    "b = torch.zeros(())\n",
    "R = 1e-2 # learning rate\n",
    "\n",
    "t_u_normalized = t_u/10 # Have input be scaled down. Helps with model convergence.\n",
    "for i in range(5000):\n",
    "    predicted = model(t_u_normalized, w, b)\n",
    "    loss = loss_fn(t_c, predicted)\n",
    "    derivative_weight = -2*((t_u_normalized*(t_c-predicted)).mean())\n",
    "    derivative_bias = -2*((t_c-predicted).mean())\n",
    "    # update w and b, take step with respect to the gradient at that point\n",
    "    w = w - (derivative_weight*R)\n",
    "    b = b - (derivative_bias*R)\n",
    "\n",
    "print(f\"loss {loss} dw {derivative_weight}, db {derivative_bias}\")\n",
    "print(f\"w {w} b {b}\")\n",
    "\n",
    "\n",
    "sns.relplot(x=t_u, y=t_c)\n",
    "sns.lineplot(x=t_u, y=model(t_u_normalized, w, b)) # only model takes normalized input\n"
   ]
  },
  {
   "source": [
    "## introducing autograd (pytorch specific)\n",
    "- In the above example, we computed the derivatives (gradient) of a loss function with respect to the innermost parameters (`w` and `b`)\n",
    "- `autograd` in pytorch can automatically compute gradients, no matter how nested.\n",
    "    - the tensors remember their parent source, and can provide a chain of derivatives with respect to the input\n",
    "    \n"
   ],
   "cell_type": "markdown",
   "metadata": {}
  },
  {
   "cell_type": "code",
   "execution_count": 15,
   "metadata": {},
   "outputs": [
    {
     "output_type": "stream",
     "name": "stdout",
     "text": [
      "tensor([1., 0.], requires_grad=True)\nNone\n"
     ]
    }
   ],
   "source": [
    "# [w,b] tensor.\n",
    "# The optional argument signals to pytorch to keep track of all the tensors that result from an operation on `params`.\n",
    "params = torch.tensor([1.0, 0.0], requires_grad=True)\n",
    "print(params)\n",
    "print(params.grad)"
   ]
  },
  {
   "cell_type": "code",
   "execution_count": 16,
   "metadata": {},
   "outputs": [
    {
     "output_type": "stream",
     "name": "stdout",
     "text": [
      "params tensor([1., 0.], requires_grad=True), params_grad tensor([4517.2969,   82.6000])\n"
     ]
    }
   ],
   "source": [
    "# the loss tensor is a result from an operation on the params tensor.\n",
    "# we can now cal `.backward()` on the loss tensor. It will store the derivatives of the loss fn with respect to both parameters\n",
    "# in the `.grad` attribute of the params.\n",
    "loss = loss_fn(model(t_u, *params), t_c)\n",
    "loss.backward()\n",
    "\n",
    "print(f\"params {params}, params_grad {params.grad}\")"
   ]
  },
  {
   "source": [
    "## ALERT !!\n",
    "- The gradients are *accumulated*(SUMMED) in the `.grad` attribute.\n",
    "- i.e, the gradients are *accumulated* at the leaf nodes of the computation graph pytorch creates when a computation is a result of a tensor with `require_grad=True`\n",
    "- We thus have to set them to zero every time we want to zero the gradient at each iteration.\n",
    "- If we dont, the new gradients will keep adding up on top of the old ones, leading to incorrect updates\n",
    "- It doesnt happen automatically to be more flexible for other types of models."
   ],
   "cell_type": "markdown",
   "metadata": {}
  },
  {
   "cell_type": "code",
   "execution_count": 21,
   "metadata": {},
   "outputs": [
    {
     "output_type": "stream",
     "name": "stdout",
     "text": [
      "Without zeroing the gradient (accumulates even though params not updated)\nparams tensor([1., 0.], requires_grad=True), params_grad tensor([4517.2969,   82.6000])\nparams tensor([1., 0.], requires_grad=True), params_grad tensor([9034.5938,  165.2000])\nparams tensor([1., 0.], requires_grad=True), params_grad tensor([13551.8906,   247.8000])\nparams tensor([1., 0.], requires_grad=True), params_grad tensor([18069.1875,   330.4000])\nparams tensor([1., 0.], requires_grad=True), params_grad tensor([22586.4844,   413.0000])\n\nZeroing the gradient (remove the accumulation)\nparams tensor([1., 0.], requires_grad=True), params_grad tensor([4517.2969,   82.6000])\nparams tensor([1., 0.], requires_grad=True), params_grad tensor([4517.2969,   82.6000])\nparams tensor([1., 0.], requires_grad=True), params_grad tensor([4517.2969,   82.6000])\nparams tensor([1., 0.], requires_grad=True), params_grad tensor([4517.2969,   82.6000])\nparams tensor([1., 0.], requires_grad=True), params_grad tensor([4517.2969,   82.6000])\n"
     ]
    }
   ],
   "source": [
    "# an example:\n",
    "params = torch.tensor([1.0, 0.0], requires_grad=True)\n",
    "print(\"Without zeroing the gradient (accumulates even though params not updated)\")\n",
    "for i in range(5):\n",
    "    loss = loss_fn(model(t_u, *params), t_c)\n",
    "    loss.backward()\n",
    "    print(f\"params {params}, params_grad {params.grad}\")\n",
    "params = torch.tensor([1.0, 0.0], requires_grad=True)\n",
    "print(\"\\nZeroing the gradient (remove the accumulation)\")\n",
    "for i in range(5):\n",
    "    if params.grad is not None :\n",
    "        params.grad.zero_() # make it zero _in place_\n",
    "    loss = loss_fn(model(t_u, *params), t_c)\n",
    "    loss.backward()\n",
    "    print(f\"params {params}, params_grad {params.grad}\")   \n"
   ]
  },
  {
   "source": [
    "## defining the training loop with autograd"
   ],
   "cell_type": "markdown",
   "metadata": {}
  },
  {
   "cell_type": "code",
   "execution_count": 41,
   "metadata": {},
   "outputs": [],
   "source": [
    "def training_loop(n_epochs, learning_rate, params, t_u, t_c):\n",
    "    for epoch in range(1,n_epochs+1):\n",
    "        # zero the accumulated gradients, we want a fresh batch\n",
    "        if params.grad is not None :\n",
    "            params.grad.zero_()\n",
    "        predicted = model(t_u, *params)\n",
    "        loss = loss_fn(predicted, t_c)\n",
    "        loss.backward()\n",
    "\n",
    "        # no_grad temporarily disables requires_grad=true.\n",
    "        # This is because we just want to update the values in place,\n",
    "        # and not track these changes and have it effect the gradient later down the road\n",
    "        with torch.no_grad():\n",
    "            # use the computed gradients to adjust the params\n",
    "            # we usually don't want to do inplace updates like this, as values might be needed later.\n",
    "            params -= params.grad*learning_rate\n",
    "\n",
    "        # print out loss at every 500 epochs\n",
    "        if epoch%500==0:\n",
    "            print(f\"Epoch {epoch} Loss {loss}\")\n",
    "    return params\n"
   ]
  },
  {
   "cell_type": "code",
   "execution_count": 42,
   "metadata": {},
   "outputs": [
    {
     "output_type": "stream",
     "name": "stdout",
     "text": [
      "Epoch 500 Loss 7.860115051269531\n",
      "Epoch 1000 Loss 3.828537940979004\n",
      "Epoch 1500 Loss 3.092191219329834\n",
      "Epoch 2000 Loss 2.957697868347168\n",
      "Epoch 2500 Loss 2.933133840560913\n",
      "Epoch 3000 Loss 2.9286484718322754\n",
      "Epoch 3500 Loss 2.9278297424316406\n",
      "Epoch 4000 Loss 2.9276793003082275\n",
      "Epoch 4500 Loss 2.927651882171631\n",
      "Epoch 5000 Loss 2.9276468753814697\n"
     ]
    },
    {
     "output_type": "execute_result",
     "data": {
      "text/plain": [
       "tensor([  5.3671, -17.3012], requires_grad=True)"
      ]
     },
     "metadata": {},
     "execution_count": 42
    }
   ],
   "source": [
    "t_u_normalized = t_u*0.1\n",
    "training_loop(\n",
    "    n_epochs = 5000,\n",
    "    learning_rate = 1e-2,\n",
    "    params = torch.tensor([1.0, 0.0], requires_grad=True),\n",
    "    t_u = t_u_normalized,\n",
    "    t_c = t_c)"
   ]
  },
  {
   "source": [
    "^ we got the same loss and params as what we manually did!"
   ],
   "cell_type": "markdown",
   "metadata": {}
  },
  {
   "source": [
    "## looking into how pytorch abstracts optimization strategies\n",
    "---\n",
    "### Summary of how i understood it works\n",
    "- first, the gradients are calculated with `.backward()` (on a tensor that results from a computation on a tensor with `grad` enabled). Every optimizer needs these gradients to calculate the model parameter updates.\n",
    "- Once the gradients are accumulated in the param tensor(remember to clear them out in the training loop), the optimizer can access them inside itself, because we pass the param tensor to it during initialization. And when we call <optimizer>`.step()`, it **updates the parameters in place** based on the optimization algorithm. In the case of gradient descent, it subtracts the gradient times the learning rate from the parameters."
   ],
   "cell_type": "markdown",
   "metadata": {}
  },
  {
   "cell_type": "code",
   "execution_count": 43,
   "metadata": {},
   "outputs": [],
   "source": [
    "import torch.optim as optim"
   ]
  },
  {
   "cell_type": "code",
   "execution_count": 44,
   "metadata": {},
   "outputs": [
    {
     "output_type": "execute_result",
     "data": {
      "text/plain": [
       "['ASGD',\n",
       " 'Adadelta',\n",
       " 'Adagrad',\n",
       " 'Adam',\n",
       " 'AdamW',\n",
       " 'Adamax',\n",
       " 'LBFGS',\n",
       " 'Optimizer',\n",
       " 'RMSprop',\n",
       " 'Rprop',\n",
       " 'SGD',\n",
       " 'SparseAdam',\n",
       " '__builtins__',\n",
       " '__cached__',\n",
       " '__doc__',\n",
       " '__file__',\n",
       " '__loader__',\n",
       " '__name__',\n",
       " '__package__',\n",
       " '__path__',\n",
       " '__spec__',\n",
       " '_functional',\n",
       " '_multi_tensor',\n",
       " 'lr_scheduler',\n",
       " 'swa_utils']"
      ]
     },
     "metadata": {},
     "execution_count": 44
    }
   ],
   "source": [
    "# different optimizers at out disposal\n",
    "dir(optim)"
   ]
  },
  {
   "cell_type": "code",
   "execution_count": 50,
   "metadata": {},
   "outputs": [
    {
     "output_type": "execute_result",
     "data": {
      "text/plain": [
       "tensor([ 9.5483e-01, -8.2600e-04], requires_grad=True)"
      ]
     },
     "metadata": {},
     "execution_count": 50
    }
   ],
   "source": [
    "params = torch.tensor([1.0, 0.0], requires_grad=True)\n",
    "learning_rate = 1e-5\n",
    "# SGD is same as vanilla gradient descent, except it does it for a random subset of input samples. By default, it works like vanilla gradient descent\n",
    "# params argument given to the optimizer should be an iterable of Tensors or dicts. thats why it's in a list\n",
    "optimizer = optim.SGD([params], lr=learning_rate)\n",
    "predicted = model(t_u, *params)\n",
    "loss = loss_fn(predicted, t_c)\n",
    "# accumulates gradients at leaf nodes of comp graph (at params, via `params.grad`)\n",
    "loss.backward() \n",
    "# now, the optimizer has access to the gradients in param, it can update the params \"in place\" \n",
    "# we don't have to do that weird `with torch.zero_grad()` thing, it's handled internally and in a better way.\n",
    "optimizer.step()\n",
    "params"
   ]
  },
  {
   "source": [
    "> in a training loop, have to zero the gradients for the params in the optimizer"
   ],
   "cell_type": "markdown",
   "metadata": {}
  },
  {
   "cell_type": "code",
   "execution_count": 51,
   "metadata": {},
   "outputs": [],
   "source": [
    "def training_loop(n_epochs, optimizer, params, t_u, t_c):\n",
    "    for epoch in range(1,n_epochs+1):\n",
    "        # zero the accumulated gradients, we want a fresh batch\n",
    "        optimizer.zero_grad()\n",
    "\n",
    "        predicted = model(t_u, *params)\n",
    "        loss = loss_fn(predicted, t_c)\n",
    "        loss.backward() # calculate gradients\n",
    "        optimizer.step() # update the parameters\n",
    "\n",
    "        # print out loss at every 500 epochs\n",
    "        if epoch%500==0:\n",
    "            print(f\"Epoch {epoch} Loss {loss}\")\n",
    "    return params"
   ]
  },
  {
   "cell_type": "code",
   "execution_count": 53,
   "metadata": {},
   "outputs": [
    {
     "output_type": "stream",
     "name": "stdout",
     "text": [
      "Epoch 500 Loss 7.860119819641113\n",
      "Epoch 1000 Loss 3.828537940979004\n",
      "Epoch 1500 Loss 3.092191219329834\n",
      "Epoch 2000 Loss 2.957697868347168\n",
      "Epoch 2500 Loss 2.933133840560913\n",
      "Epoch 3000 Loss 2.9286484718322754\n",
      "Epoch 3500 Loss 2.9278297424316406\n",
      "Epoch 4000 Loss 2.9276793003082275\n",
      "Epoch 4500 Loss 2.927651882171631\n",
      "Epoch 5000 Loss 2.9276468753814697\n"
     ]
    },
    {
     "output_type": "execute_result",
     "data": {
      "text/plain": [
       "tensor([  5.3671, -17.3012], requires_grad=True)"
      ]
     },
     "metadata": {},
     "execution_count": 53
    }
   ],
   "source": [
    "params = torch.tensor([1.0, 0.0], requires_grad=True)\n",
    "learning_rate = 1e-2\n",
    "t_u_normalized = t_u*0.1\n",
    "optimizer = optim.SGD([params], lr=learning_rate)\n",
    "training_loop(\n",
    "    n_epochs = 5000,\n",
    "    optimizer = optimizer,\n",
    "    params = params,\n",
    "    t_u = t_u_normalized,\n",
    "    t_c = t_c)"
   ]
  },
  {
   "cell_type": "code",
   "execution_count": 56,
   "metadata": {},
   "outputs": [
    {
     "output_type": "stream",
     "name": "stdout",
     "text": [
      "Epoch 500 Loss 7.612900257110596\n",
      "Epoch 1000 Loss 3.086700439453125\n",
      "Epoch 1500 Loss 2.928579092025757\n",
      "Epoch 2000 Loss 2.9276442527770996\n",
      "Epoch 2500 Loss 2.927645206451416\n",
      "Epoch 3000 Loss 2.9276459217071533\n",
      "Epoch 3500 Loss 2.927644968032837\n",
      "Epoch 4000 Loss 2.927645683288574\n",
      "Epoch 4500 Loss 2.9276463985443115\n",
      "Epoch 5000 Loss 2.927645206451416\n"
     ]
    },
    {
     "output_type": "execute_result",
     "data": {
      "text/plain": [
       "tensor([  0.5368, -17.3048], requires_grad=True)"
      ]
     },
     "metadata": {},
     "execution_count": 56
    }
   ],
   "source": [
    "# We can also try out others! such as adam, which has an adaptive learning rate, not as sensitive to learning rate and normalization, and so on.\n",
    "params = torch.tensor([1.0, 0.0], requires_grad=True)\n",
    "learning_rate = 1e-1\n",
    "optimizer = optim.Adam([params], lr=learning_rate)\n",
    "training_loop(\n",
    "    n_epochs = 5000,\n",
    "    optimizer = optimizer,\n",
    "    params = params,\n",
    "    t_u = t_u,\n",
    "    t_c = t_c)"
   ]
  },
  {
   "cell_type": "code",
   "execution_count": null,
   "metadata": {},
   "outputs": [],
   "source": []
  }
 ]
}